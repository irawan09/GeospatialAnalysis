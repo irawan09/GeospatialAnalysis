{
 "cells": [
  {
   "cell_type": "code",
   "execution_count": 1,
   "metadata": {},
   "outputs": [],
   "source": [
    "# Import these libraries: Geopandas, Pandas and Matplotlip.pyplot\n",
    "import geopandas as gpd\n",
    "import pandas as pd\n",
    "import matplotlib.pyplot as plt\n"
   ]
  },
  {
   "cell_type": "markdown",
   "metadata": {},
   "source": [
    "<div class=\"alert alert-block alert-info\">\n",
    "    \n",
    "<b>Instructions:</b> \n",
    "\n",
    "\n",
    "* <span style='font-family:Georgia'> Read the Swimming Pool Dataset in the AssignmentData folder\n",
    "    \n",
    "* <span style='font-family:Georgia'> Display the first few rows of the dataset.\n",
    " \n",
    "</div>"
   ]
  },
  {
   "cell_type": "code",
   "execution_count": 2,
   "metadata": {},
   "outputs": [
    {
     "data": {
      "text/html": [
       "<div>\n",
       "<style scoped>\n",
       "    .dataframe tbody tr th:only-of-type {\n",
       "        vertical-align: middle;\n",
       "    }\n",
       "\n",
       "    .dataframe tbody tr th {\n",
       "        vertical-align: top;\n",
       "    }\n",
       "\n",
       "    .dataframe thead th {\n",
       "        text-align: right;\n",
       "    }\n",
       "</style>\n",
       "<table border=\"1\" class=\"dataframe\">\n",
       "  <thead>\n",
       "    <tr style=\"text-align: right;\">\n",
       "      <th></th>\n",
       "      <th>OBJECTID</th>\n",
       "      <th>NAME</th>\n",
       "      <th>PARK_NAME</th>\n",
       "      <th>ADDRESS_91</th>\n",
       "      <th>ZIP_CODE</th>\n",
       "      <th>POOL_TYPE</th>\n",
       "      <th>POOL_STATU</th>\n",
       "      <th>COMMENTS</th>\n",
       "      <th>DATE_INSTA</th>\n",
       "      <th>DATA_SOURC</th>\n",
       "      <th>geometry</th>\n",
       "    </tr>\n",
       "  </thead>\n",
       "  <tbody>\n",
       "    <tr>\n",
       "      <th>0</th>\n",
       "      <td>1</td>\n",
       "      <td>Fox Chase Pool</td>\n",
       "      <td>Fox Chase Recreation Center</td>\n",
       "      <td>7901 RIDGEWAY ST</td>\n",
       "      <td>19111</td>\n",
       "      <td>OUTDOOR</td>\n",
       "      <td>ACTIVE</td>\n",
       "      <td>None</td>\n",
       "      <td>None</td>\n",
       "      <td>Finder; Previous GIS Data</td>\n",
       "      <td>POINT (-75.08232 40.07367)</td>\n",
       "    </tr>\n",
       "    <tr>\n",
       "      <th>1</th>\n",
       "      <td>2</td>\n",
       "      <td>Mitchell Pool</td>\n",
       "      <td>Thomas Mitchell Memorial Playground</td>\n",
       "      <td>3600 WHITEHALL LN</td>\n",
       "      <td>19114</td>\n",
       "      <td>OUTDOOR</td>\n",
       "      <td>ACTIVE</td>\n",
       "      <td>None</td>\n",
       "      <td>2012-01-01</td>\n",
       "      <td>Capital 2019; Finder</td>\n",
       "      <td>POINT (-74.99143 40.06830)</td>\n",
       "    </tr>\n",
       "    <tr>\n",
       "      <th>2</th>\n",
       "      <td>3</td>\n",
       "      <td>Jardel Pool</td>\n",
       "      <td>Thomas E. Jardel Memorial Field</td>\n",
       "      <td>1400 COTTMAN AVE</td>\n",
       "      <td>19111</td>\n",
       "      <td>OUTDOOR</td>\n",
       "      <td>ACTIVE</td>\n",
       "      <td>None</td>\n",
       "      <td>None</td>\n",
       "      <td>Finder; Previous GIS Data</td>\n",
       "      <td>POINT (-75.07590 40.05629)</td>\n",
       "    </tr>\n",
       "    <tr>\n",
       "      <th>3</th>\n",
       "      <td>4</td>\n",
       "      <td>Jacobs Pool</td>\n",
       "      <td>George Jacobs Playground</td>\n",
       "      <td>4500 LINDEN AVE</td>\n",
       "      <td>19136</td>\n",
       "      <td>OUTDOOR</td>\n",
       "      <td>ACTIVE</td>\n",
       "      <td>None</td>\n",
       "      <td>None</td>\n",
       "      <td>Aquatics 2019; Finder</td>\n",
       "      <td>POINT (-75.00284 40.05266)</td>\n",
       "    </tr>\n",
       "    <tr>\n",
       "      <th>4</th>\n",
       "      <td>5</td>\n",
       "      <td>Morris Estates Pool</td>\n",
       "      <td>Morris Estate Cultural Center</td>\n",
       "      <td>1610 CHELTEN AVE</td>\n",
       "      <td>19141</td>\n",
       "      <td>OUTDOOR</td>\n",
       "      <td>ACTIVE</td>\n",
       "      <td>Emergency access is from Chelten around the bu...</td>\n",
       "      <td>None</td>\n",
       "      <td>Finder; Administration</td>\n",
       "      <td>POINT (-75.14641 40.04992)</td>\n",
       "    </tr>\n",
       "  </tbody>\n",
       "</table>\n",
       "</div>"
      ],
      "text/plain": [
       "   OBJECTID                 NAME                            PARK_NAME  \\\n",
       "0         1       Fox Chase Pool          Fox Chase Recreation Center   \n",
       "1         2        Mitchell Pool  Thomas Mitchell Memorial Playground   \n",
       "2         3          Jardel Pool      Thomas E. Jardel Memorial Field   \n",
       "3         4          Jacobs Pool             George Jacobs Playground   \n",
       "4         5  Morris Estates Pool        Morris Estate Cultural Center   \n",
       "\n",
       "          ADDRESS_91  ZIP_CODE POOL_TYPE POOL_STATU  \\\n",
       "0   7901 RIDGEWAY ST     19111   OUTDOOR     ACTIVE   \n",
       "1  3600 WHITEHALL LN     19114   OUTDOOR     ACTIVE   \n",
       "2   1400 COTTMAN AVE     19111   OUTDOOR     ACTIVE   \n",
       "3    4500 LINDEN AVE     19136   OUTDOOR     ACTIVE   \n",
       "4   1610 CHELTEN AVE     19141   OUTDOOR     ACTIVE   \n",
       "\n",
       "                                            COMMENTS  DATE_INSTA  \\\n",
       "0                                               None        None   \n",
       "1                                               None  2012-01-01   \n",
       "2                                               None        None   \n",
       "3                                               None        None   \n",
       "4  Emergency access is from Chelten around the bu...        None   \n",
       "\n",
       "                  DATA_SOURC                    geometry  \n",
       "0  Finder; Previous GIS Data  POINT (-75.08232 40.07367)  \n",
       "1       Capital 2019; Finder  POINT (-74.99143 40.06830)  \n",
       "2  Finder; Previous GIS Data  POINT (-75.07590 40.05629)  \n",
       "3      Aquatics 2019; Finder  POINT (-75.00284 40.05266)  \n",
       "4     Finder; Administration  POINT (-75.14641 40.04992)  "
      ]
     },
     "execution_count": 2,
     "metadata": {},
     "output_type": "execute_result"
    }
   ],
   "source": [
    "\n",
    "swimming = gpd.read_file(\"AssignmentData/swimming_pools.shp\")\n",
    "\n",
    "swimming.head()"
   ]
  },
  {
   "cell_type": "markdown",
   "metadata": {},
   "source": [
    "# 1. Buffer Analysis"
   ]
  },
  {
   "cell_type": "markdown",
   "metadata": {},
   "source": [
    "\n",
    "\n",
    "<div class=\"alert alert-block alert-info\">\n",
    "    \n",
    "* <span style='font-family:Georgia'> Plot the swimming pools data with Geopandas. \n",
    " \n",
    "</div>"
   ]
  },
  {
   "cell_type": "code",
   "execution_count": 3,
   "metadata": {},
   "outputs": [
    {
     "data": {
      "text/plain": [
       "<matplotlib.axes._subplots.AxesSubplot at 0x2430bb23908>"
      ]
     },
     "execution_count": 3,
     "metadata": {},
     "output_type": "execute_result"
    },
    {
     "data": {
      "image/png": "[encoded data removed]",
      "text/plain": [
       "<Figure size 432x288 with 1 Axes>"
      ]
     },
     "metadata": {
      "needs_background": "light"
     },
     "output_type": "display_data"
    }
   ],
   "source": [
    "swimming.plot()"
   ]
  },
  {
   "cell_type": "markdown",
   "metadata": {},
   "source": [
    "\n",
    "<div class=\"alert alert-block alert-info\">\n",
    "    \n",
    "* <span style='font-family:Georgia'> Find the the swimming pool with the following name \"Jardel Pool\". \n",
    " \n",
    "</div>"
   ]
  },
  {
   "cell_type": "code",
   "execution_count": 4,
   "metadata": {},
   "outputs": [],
   "source": [
    "jardel = swimming[swimming[\"NAME\"] == \"Jardel Pool\"]"
   ]
  },
  {
   "cell_type": "markdown",
   "metadata": {},
   "source": [
    "\n",
    "<div class=\"alert alert-block alert-info\">\n",
    "    \n",
    "* <span style='font-family:Georgia'> Buffer the Jardel Pool with a distance of your choice. \n",
    " \n",
    "</div>"
   ]
  },
  {
   "cell_type": "code",
   "execution_count": 5,
   "metadata": {},
   "outputs": [],
   "source": [
    "jardel_buffer = jardel.geometry.buffer(10)"
   ]
  },
  {
   "cell_type": "markdown",
   "metadata": {},
   "source": [
    "\n",
    "\n",
    "\n",
    "<div class=\"alert alert-block alert-info\">\n",
    "    \n",
    "* <span style='font-family:Georgia'> Plot the buffered point. \n",
    " \n",
    "</div>\n"
   ]
  },
  {
   "cell_type": "code",
   "execution_count": 6,
   "metadata": {},
   "outputs": [
    {
     "data": {
      "text/plain": [
       "<matplotlib.axes._subplots.AxesSubplot at 0x2430d231548>"
      ]
     },
     "execution_count": 6,
     "metadata": {},
     "output_type": "execute_result"
    },
    {
     "data": {
      "image/png": "[encoded data removed]",
      "text/plain": [
       "<Figure size 432x288 with 1 Axes>"
      ]
     },
     "metadata": {
      "needs_background": "light"
     },
     "output_type": "display_data"
    }
   ],
   "source": [
    "jardel_buffer.plot()"
   ]
  },
  {
   "cell_type": "markdown",
   "metadata": {},
   "source": [
    "\n",
    "<div class=\"alert alert-block alert-info\">\n",
    "    \n",
    "* <span style='font-family:Georgia'> Which number did you choose for the distance?. \n",
    " \n",
    "</div>"
   ]
  },
  {
   "cell_type": "markdown",
   "metadata": {},
   "source": [
    "10"
   ]
  },
  {
   "cell_type": "markdown",
   "metadata": {},
   "source": [
    "\n",
    "<div class=\"alert alert-block alert-info\">\n",
    "    \n",
    "* <span style='font-family:Georgia'> Is it meters, Kilometers, foot or something else? How do you know it? (Hint: Check the CRS)\n",
    " \n",
    "</div>"
   ]
  },
  {
   "cell_type": "code",
   "execution_count": 7,
   "metadata": {},
   "outputs": [
    {
     "data": {
      "text/plain": [
       "<Geographic 2D CRS: EPSG:4326>\n",
       "Name: WGS 84\n",
       "Axis Info [ellipsoidal]:\n",
       "- Lat[north]: Geodetic latitude (degree)\n",
       "- Lon[east]: Geodetic longitude (degree)\n",
       "Area of Use:\n",
       "- name: World\n",
       "- bounds: (-180.0, -90.0, 180.0, 90.0)\n",
       "Datum: World Geodetic System 1984\n",
       "- Ellipsoid: WGS 84\n",
       "- Prime Meridian: Greenwich"
      ]
     },
     "execution_count": 7,
     "metadata": {},
     "output_type": "execute_result"
    }
   ],
   "source": [
    "jardel_buffer.crs"
   ]
  },
  {
   "cell_type": "markdown",
   "metadata": {},
   "source": [
    "\n",
    "<div class=\"alert alert-block alert-info\">\n",
    "    \n",
    "<b>Instructions:</b> \n",
    "\n",
    "\n",
    "* <span style='font-family:Georgia'> Can you find out a CRS for Phildelphia that uses Meters/foot as Unit of measurement? (Hint: search in https://epsg.io/)\n",
    "    \n",
    "* <span style='font-family:Georgia'> If you manage to find out a CRS that has meter as unit of measure, set the CRS of the swimming pool to the meter/foot based CRS. I am setting here a meter based units. You can use to_crs() \n",
    " \n",
    "</div>"
   ]
  },
  {
   "cell_type": "code",
   "execution_count": 8,
   "metadata": {},
   "outputs": [],
   "source": [
    "jardel_meter = jardel.to_crs(\"EPSG:3651\")"
   ]
  },
  {
   "cell_type": "markdown",
   "metadata": {},
   "source": [
    "\n",
    "\n",
    "<div class=\"alert alert-block alert-info\">\n",
    "    \n",
    "* <span style='font-family:Georgia'> Check if the CRS is changed and meter is the unit of measurement\n",
    " \n",
    "</div>"
   ]
  },
  {
   "cell_type": "code",
   "execution_count": 9,
   "metadata": {},
   "outputs": [
    {
     "data": {
      "text/plain": [
       "<Projected CRS: EPSG:3651>\n",
       "Name: NAD83(NSRS2007) / Pennsylvania South\n",
       "Axis Info [cartesian]:\n",
       "- X[east]: Easting (metre)\n",
       "- Y[north]: Northing (metre)\n",
       "Area of Use:\n",
       "- name: USA - Pennsylvania - SPCS - S\n",
       "- bounds: (-80.53, 39.71, -74.72, 41.18)\n",
       "Coordinate Operation:\n",
       "- name: SPCS83 Pennsylvania South zone (meters)\n",
       "- method: Lambert Conic Conformal (2SP)\n",
       "Datum: NAD83 (National Spatial Reference System 2007)\n",
       "- Ellipsoid: GRS 1980\n",
       "- Prime Meridian: Greenwich"
      ]
     },
     "execution_count": 9,
     "metadata": {},
     "output_type": "execute_result"
    }
   ],
   "source": [
    "jardel_meter.crs"
   ]
  },
  {
   "cell_type": "markdown",
   "metadata": {},
   "source": [
    "\n",
    "<div class=\"alert alert-block alert-info\">\n",
    "    \n",
    "* <span style='font-family:Georgia'> Now, buffer a distance of your choice (meters) on Jardel swimming pool.\n",
    " \n",
    "</div>\n"
   ]
  },
  {
   "cell_type": "code",
   "execution_count": 10,
   "metadata": {},
   "outputs": [
    {
     "data": {
      "text/plain": [
       "2    POLYGON ((828135.291 83727.797, 828135.243 837...\n",
       "dtype: geometry"
      ]
     },
     "execution_count": 10,
     "metadata": {},
     "output_type": "execute_result"
    }
   ],
   "source": [
    "jardel_meter.buffer(10)"
   ]
  },
  {
   "cell_type": "markdown",
   "metadata": {},
   "source": [
    "\n",
    "<div class=\"alert alert-block alert-info\">\n",
    "    \n",
    "* <span style='font-family:Georgia'> Plot the buffered point.\n",
    " \n",
    "</div>"
   ]
  },
  {
   "cell_type": "code",
   "execution_count": 11,
   "metadata": {},
   "outputs": [
    {
     "data": {
      "text/plain": [
       "<matplotlib.axes._subplots.AxesSubplot at 0x2430d365248>"
      ]
     },
     "execution_count": 11,
     "metadata": {},
     "output_type": "execute_result"
    },
    {
     "data": {
      "image/png": "[encoded data removed]",
      "text/plain": [
       "<Figure size 432x288 with 1 Axes>"
      ]
     },
     "metadata": {
      "needs_background": "light"
     },
     "output_type": "display_data"
    }
   ],
   "source": [
    "jardel_meter.buffer(10).plot()"
   ]
  },
  {
   "cell_type": "markdown",
   "metadata": {},
   "source": [
    "# 2. Spatial Join"
   ]
  },
  {
   "cell_type": "markdown",
   "metadata": {},
   "source": [
    "<div class=\"alert alert-block alert-info\">  \n",
    "<b>Instructions:</b> \n",
    "    \n",
    "* <span style='font-family:Georgia'> Read the cleaned incidents dataset from the previous Excercise 2.7 Assignment.\n",
    "    \n",
    "* <span style='font-family:Georgia'> You might copy the shapefile to your current folder or copy the path of the dataset.\n",
    "    \n",
    "* <span style='font-family:Georgia'> Display the first few rows of the data. \n",
    "    \n",
    "</div>"
   ]
  },
  {
   "cell_type": "code",
   "execution_count": 12,
   "metadata": {},
   "outputs": [
    {
     "data": {
      "text/html": [
       "<div>\n",
       "<style scoped>\n",
       "    .dataframe tbody tr th:only-of-type {\n",
       "        vertical-align: middle;\n",
       "    }\n",
       "\n",
       "    .dataframe tbody tr th {\n",
       "        vertical-align: top;\n",
       "    }\n",
       "\n",
       "    .dataframe thead th {\n",
       "        text-align: right;\n",
       "    }\n",
       "</style>\n",
       "<table border=\"1\" class=\"dataframe\">\n",
       "  <thead>\n",
       "    <tr style=\"text-align: right;\">\n",
       "      <th></th>\n",
       "      <th>objectid</th>\n",
       "      <th>dc_dist</th>\n",
       "      <th>psa</th>\n",
       "      <th>dispatch_d</th>\n",
       "      <th>dispatch_1</th>\n",
       "      <th>dispatch_t</th>\n",
       "      <th>hour_</th>\n",
       "      <th>dc_key</th>\n",
       "      <th>location_b</th>\n",
       "      <th>ucr_genera</th>\n",
       "      <th>text_gener</th>\n",
       "      <th>point_x</th>\n",
       "      <th>point_y</th>\n",
       "      <th>lat</th>\n",
       "      <th>lng</th>\n",
       "      <th>geometry</th>\n",
       "    </tr>\n",
       "  </thead>\n",
       "  <tbody>\n",
       "    <tr>\n",
       "      <th>0</th>\n",
       "      <td>129</td>\n",
       "      <td>9</td>\n",
       "      <td>2</td>\n",
       "      <td>25/03/2020 18:32</td>\n",
       "      <td>25/03/2020</td>\n",
       "      <td>18:32:00</td>\n",
       "      <td>18</td>\n",
       "      <td>2.020090e+11</td>\n",
       "      <td>1400 BLOCK SPRING GARDEN ST</td>\n",
       "      <td>600</td>\n",
       "      <td>Theft from Vehicle</td>\n",
       "      <td>-75.161446</td>\n",
       "      <td>39.962334</td>\n",
       "      <td>39.962334</td>\n",
       "      <td>-75.161446</td>\n",
       "      <td>POINT (-75.16145 39.96233)</td>\n",
       "    </tr>\n",
       "    <tr>\n",
       "      <th>1</th>\n",
       "      <td>41</td>\n",
       "      <td>77</td>\n",
       "      <td>A</td>\n",
       "      <td>08/03/2020 19:08</td>\n",
       "      <td>08/03/2020</td>\n",
       "      <td>19:08:00</td>\n",
       "      <td>19</td>\n",
       "      <td>2.020770e+11</td>\n",
       "      <td>0 BLOCK PIA WAY</td>\n",
       "      <td>600</td>\n",
       "      <td>Thefts</td>\n",
       "      <td>-75.230706</td>\n",
       "      <td>39.883881</td>\n",
       "      <td>39.883881</td>\n",
       "      <td>-75.230706</td>\n",
       "      <td>POINT (-75.23071 39.88388)</td>\n",
       "    </tr>\n",
       "    <tr>\n",
       "      <th>2</th>\n",
       "      <td>42</td>\n",
       "      <td>77</td>\n",
       "      <td>A</td>\n",
       "      <td>15/03/2020 18:41</td>\n",
       "      <td>15/03/2020</td>\n",
       "      <td>18:41:00</td>\n",
       "      <td>18</td>\n",
       "      <td>2.020770e+11</td>\n",
       "      <td>0 BLOCK PIA WAY</td>\n",
       "      <td>600</td>\n",
       "      <td>Thefts</td>\n",
       "      <td>-75.230706</td>\n",
       "      <td>39.883881</td>\n",
       "      <td>39.883881</td>\n",
       "      <td>-75.230706</td>\n",
       "      <td>POINT (-75.23071 39.88388)</td>\n",
       "    </tr>\n",
       "    <tr>\n",
       "      <th>3</th>\n",
       "      <td>43</td>\n",
       "      <td>77</td>\n",
       "      <td>A</td>\n",
       "      <td>18/03/2020 08:17</td>\n",
       "      <td>18/03/2020</td>\n",
       "      <td>08:17:00</td>\n",
       "      <td>8</td>\n",
       "      <td>2.020770e+11</td>\n",
       "      <td>0 BLOCK PIA WAY</td>\n",
       "      <td>600</td>\n",
       "      <td>Thefts</td>\n",
       "      <td>-75.230706</td>\n",
       "      <td>39.883881</td>\n",
       "      <td>39.883881</td>\n",
       "      <td>-75.230706</td>\n",
       "      <td>POINT (-75.23071 39.88388)</td>\n",
       "    </tr>\n",
       "    <tr>\n",
       "      <th>4</th>\n",
       "      <td>44</td>\n",
       "      <td>77</td>\n",
       "      <td>A</td>\n",
       "      <td>03/04/2020 15:32</td>\n",
       "      <td>03/04/2020</td>\n",
       "      <td>15:32:33</td>\n",
       "      <td>15</td>\n",
       "      <td>2.020770e+11</td>\n",
       "      <td>0 BLOCK PIA WAY</td>\n",
       "      <td>600</td>\n",
       "      <td>Thefts</td>\n",
       "      <td>-75.230706</td>\n",
       "      <td>39.883881</td>\n",
       "      <td>39.883881</td>\n",
       "      <td>-75.230706</td>\n",
       "      <td>POINT (-75.23071 39.88388)</td>\n",
       "    </tr>\n",
       "  </tbody>\n",
       "</table>\n",
       "</div>"
      ],
      "text/plain": [
       "   objectid  dc_dist psa        dispatch_d  dispatch_1 dispatch_t  hour_  \\\n",
       "0       129        9   2  25/03/2020 18:32  25/03/2020   18:32:00     18   \n",
       "1        41       77   A  08/03/2020 19:08  08/03/2020   19:08:00     19   \n",
       "2        42       77   A  15/03/2020 18:41  15/03/2020   18:41:00     18   \n",
       "3        43       77   A  18/03/2020 08:17  18/03/2020   08:17:00      8   \n",
       "4        44       77   A  03/04/2020 15:32  03/04/2020   15:32:33     15   \n",
       "\n",
       "         dc_key                   location_b  ucr_genera          text_gener  \\\n",
       "0  2.020090e+11  1400 BLOCK SPRING GARDEN ST         600  Theft from Vehicle   \n",
       "1  2.020770e+11              0 BLOCK PIA WAY         600              Thefts   \n",
       "2  2.020770e+11              0 BLOCK PIA WAY         600              Thefts   \n",
       "3  2.020770e+11              0 BLOCK PIA WAY         600              Thefts   \n",
       "4  2.020770e+11              0 BLOCK PIA WAY         600              Thefts   \n",
       "\n",
       "     point_x    point_y        lat        lng                    geometry  \n",
       "0 -75.161446  39.962334  39.962334 -75.161446  POINT (-75.16145 39.96233)  \n",
       "1 -75.230706  39.883881  39.883881 -75.230706  POINT (-75.23071 39.88388)  \n",
       "2 -75.230706  39.883881  39.883881 -75.230706  POINT (-75.23071 39.88388)  \n",
       "3 -75.230706  39.883881  39.883881 -75.230706  POINT (-75.23071 39.88388)  \n",
       "4 -75.230706  39.883881  39.883881 -75.230706  POINT (-75.23071 39.88388)  "
      ]
     },
     "execution_count": 12,
     "metadata": {},
     "output_type": "execute_result"
    }
   ],
   "source": [
    "incidents = gpd.read_file(\"AssignmentData/changeme/incidents_clean.shp\")\n",
    "incidents.head()"
   ]
  },
  {
   "cell_type": "markdown",
   "metadata": {},
   "source": [
    "\n",
    "\n",
    "<div class=\"alert alert-block alert-info\">  \n",
    "<b>Instructions:</b> \n",
    "    \n",
    "* <span style='font-family:Georgia'>Read the Neighbourhood data in \"AssignmentData/Neighborhoods_Philadelphia/ Folder.\n",
    "      \n",
    "* <span style='font-family:Georgia'> Display the first few rows of the data. \n",
    "    \n",
    "</div>"
   ]
  },
  {
   "cell_type": "code",
   "execution_count": 13,
   "metadata": {},
   "outputs": [
    {
     "data": {
      "text/html": [
       "<div>\n",
       "<style scoped>\n",
       "    .dataframe tbody tr th:only-of-type {\n",
       "        vertical-align: middle;\n",
       "    }\n",
       "\n",
       "    .dataframe tbody tr th {\n",
       "        vertical-align: top;\n",
       "    }\n",
       "\n",
       "    .dataframe thead th {\n",
       "        text-align: right;\n",
       "    }\n",
       "</style>\n",
       "<table border=\"1\" class=\"dataframe\">\n",
       "  <thead>\n",
       "    <tr style=\"text-align: right;\">\n",
       "      <th></th>\n",
       "      <th>NAME</th>\n",
       "      <th>LISTNAME</th>\n",
       "      <th>MAPNAME</th>\n",
       "      <th>Shape_Leng</th>\n",
       "      <th>Shape_Area</th>\n",
       "      <th>geometry</th>\n",
       "    </tr>\n",
       "  </thead>\n",
       "  <tbody>\n",
       "    <tr>\n",
       "      <th>0</th>\n",
       "      <td>BRIDESBURG</td>\n",
       "      <td>Bridesburg</td>\n",
       "      <td>Bridesburg</td>\n",
       "      <td>27814.546521</td>\n",
       "      <td>4.458626e+07</td>\n",
       "      <td>POLYGON ((2719789.837 256235.538, 2719814.855 ...</td>\n",
       "    </tr>\n",
       "    <tr>\n",
       "      <th>1</th>\n",
       "      <td>BUSTLETON</td>\n",
       "      <td>Bustleton</td>\n",
       "      <td>Bustleton</td>\n",
       "      <td>48868.458365</td>\n",
       "      <td>1.140504e+08</td>\n",
       "      <td>POLYGON ((2733378.171 289259.945, 2732818.985 ...</td>\n",
       "    </tr>\n",
       "    <tr>\n",
       "      <th>2</th>\n",
       "      <td>CEDARBROOK</td>\n",
       "      <td>Cedarbrook</td>\n",
       "      <td>Cedarbrook</td>\n",
       "      <td>20021.415802</td>\n",
       "      <td>2.487174e+07</td>\n",
       "      <td>POLYGON ((2685267.950 279747.336, 2685272.265 ...</td>\n",
       "    </tr>\n",
       "    <tr>\n",
       "      <th>3</th>\n",
       "      <td>CHESTNUT_HILL</td>\n",
       "      <td>Chestnut Hill</td>\n",
       "      <td>Chestnut Hill</td>\n",
       "      <td>56394.297195</td>\n",
       "      <td>7.966498e+07</td>\n",
       "      <td>POLYGON ((2678490.151 284400.400, 2678518.732 ...</td>\n",
       "    </tr>\n",
       "    <tr>\n",
       "      <th>4</th>\n",
       "      <td>EAST_FALLS</td>\n",
       "      <td>East Falls</td>\n",
       "      <td>East Falls</td>\n",
       "      <td>27400.776417</td>\n",
       "      <td>4.057689e+07</td>\n",
       "      <td>POLYGON ((2686769.727 263625.367, 2686921.108 ...</td>\n",
       "    </tr>\n",
       "  </tbody>\n",
       "</table>\n",
       "</div>"
      ],
      "text/plain": [
       "            NAME       LISTNAME        MAPNAME    Shape_Leng    Shape_Area  \\\n",
       "0     BRIDESBURG     Bridesburg     Bridesburg  27814.546521  4.458626e+07   \n",
       "1      BUSTLETON      Bustleton      Bustleton  48868.458365  1.140504e+08   \n",
       "2     CEDARBROOK     Cedarbrook     Cedarbrook  20021.415802  2.487174e+07   \n",
       "3  CHESTNUT_HILL  Chestnut Hill  Chestnut Hill  56394.297195  7.966498e+07   \n",
       "4     EAST_FALLS     East Falls     East Falls  27400.776417  4.057689e+07   \n",
       "\n",
       "                                            geometry  \n",
       "0  POLYGON ((2719789.837 256235.538, 2719814.855 ...  \n",
       "1  POLYGON ((2733378.171 289259.945, 2732818.985 ...  \n",
       "2  POLYGON ((2685267.950 279747.336, 2685272.265 ...  \n",
       "3  POLYGON ((2678490.151 284400.400, 2678518.732 ...  \n",
       "4  POLYGON ((2686769.727 263625.367, 2686921.108 ...  "
      ]
     },
     "execution_count": 13,
     "metadata": {},
     "output_type": "execute_result"
    }
   ],
   "source": [
    "\n",
    "gdf_areas = gpd.read_file(\"AssignmentData/Neighborhoods_Philadelphia/Neighborhoods_Philadelphia.shp\")\n",
    "\n",
    "gdf_areas.head()"
   ]
  },
  {
   "cell_type": "markdown",
   "metadata": {},
   "source": [
    "\n",
    "\n",
    "<div class=\"alert alert-block alert-info\">\n",
    "    \n",
    "* <span style='font-family:Georgia'> Check if the incidents data and the neighbourhood data has the same CRS.\n",
    " \n",
    "</div>"
   ]
  },
  {
   "cell_type": "code",
   "execution_count": 14,
   "metadata": {},
   "outputs": [
    {
     "data": {
      "text/plain": [
       "<Projected CRS: EPSG:2272>\n",
       "Name: NAD83 / Pennsylvania South (ftUS)\n",
       "Axis Info [cartesian]:\n",
       "- X[east]: Easting (US survey foot)\n",
       "- Y[north]: Northing (US survey foot)\n",
       "Area of Use:\n",
       "- name: USA - Pennsylvania - SPCS - S\n",
       "- bounds: (-80.53, 39.71, -74.72, 41.18)\n",
       "Coordinate Operation:\n",
       "- name: SPCS83 Pennsylvania South zone (US Survey feet)\n",
       "- method: Lambert Conic Conformal (2SP)\n",
       "Datum: North American Datum 1983\n",
       "- Ellipsoid: GRS 1980\n",
       "- Prime Meridian: Greenwich"
      ]
     },
     "execution_count": 14,
     "metadata": {},
     "output_type": "execute_result"
    }
   ],
   "source": [
    "gdf_areas.crs"
   ]
  },
  {
   "cell_type": "code",
   "execution_count": 15,
   "metadata": {},
   "outputs": [
    {
     "data": {
      "text/plain": [
       "<Geographic 2D CRS: EPSG:4326>\n",
       "Name: WGS 84\n",
       "Axis Info [ellipsoidal]:\n",
       "- Lat[north]: Geodetic latitude (degree)\n",
       "- Lon[east]: Geodetic longitude (degree)\n",
       "Area of Use:\n",
       "- name: World\n",
       "- bounds: (-180.0, -90.0, 180.0, 90.0)\n",
       "Datum: World Geodetic System 1984\n",
       "- Ellipsoid: WGS 84\n",
       "- Prime Meridian: Greenwich"
      ]
     },
     "execution_count": 15,
     "metadata": {},
     "output_type": "execute_result"
    }
   ],
   "source": [
    "incidents.crs"
   ]
  },
  {
   "cell_type": "markdown",
   "metadata": {},
   "source": [
    "\n",
    "\n",
    "<div class=\"alert alert-block alert-danger\">\n",
    "<b>Alert:</b> They do not have the same CRS, so you need to reproject the incidents data from EPSG:4326 to EPSG:2272.\n",
    "</div>"
   ]
  },
  {
   "cell_type": "code",
   "execution_count": 16,
   "metadata": {},
   "outputs": [],
   "source": [
    "incidents_proj = incidents.to_crs(\"EPSG:2272\")"
   ]
  },
  {
   "cell_type": "markdown",
   "metadata": {},
   "source": [
    "\n",
    "\n",
    "<div class=\"alert alert-block alert-info\">  \n",
    "<b>Instructions:</b> \n",
    "    \n",
    "* <span style='font-family:Georgia'>Use this code if the points fall the same are as the neighbourhood areas. Change the POLYGON with the neighbourhoods Geodataframe and POINTS with the Incidents GeodataFrame.\n",
    "      \n",
    "\n",
    "    \n",
    "</div>"
   ]
  },
  {
   "cell_type": "code",
   "execution_count": 17,
   "metadata": {},
   "outputs": [
    {
     "data": {
      "text/plain": [
       "<matplotlib.axes._subplots.AxesSubplot at 0x2430dc40108>"
      ]
     },
     "execution_count": 17,
     "metadata": {},
     "output_type": "execute_result"
    },
    {
     "data": {
      "image/png": "[encoded data removed]",
      "text/plain": [
       "<Figure size 864x720 with 1 Axes>"
      ]
     },
     "metadata": {
      "needs_background": "light"
     },
     "output_type": "display_data"
    }
   ],
   "source": [
    "fig, ax = plt.subplots(figsize=(12,10))\n",
    "gdf_areas.plot(ax=ax, color=\"gray\")\n",
    "incidents_proj.plot(ax=ax, markersize=0.2, color=\"Red\")"
   ]
  },
  {
   "cell_type": "markdown",
   "metadata": {},
   "source": [
    "\n",
    "<div class=\"alert alert-block alert-info\">  \n",
    "<b>Instructions:</b> \n",
    "    \n",
    "* <span style='font-family:Georgia'> Use .sjoin() to join points dataset with the Neighbourhod dataset. Note that we want to determine which point is within which polygon.\n",
    "    \n",
    "* <span style='font-family:Georgia'>Remember to use the projected points.\n",
    "      \n",
    "* <span style='font-family:Georgia'> You might use these parameters: sjoin(point dataset(XXX -change the name), polygon dataset(XXX -change the name), how=\"inner\", op=\"within\"). Call the joined data what ever name you like. \n",
    "    \n",
    "</div>"
   ]
  },
  {
   "cell_type": "code",
   "execution_count": 18,
   "metadata": {},
   "outputs": [
    {
     "data": {
      "text/html": [
       "<div>\n",
       "<style scoped>\n",
       "    .dataframe tbody tr th:only-of-type {\n",
       "        vertical-align: middle;\n",
       "    }\n",
       "\n",
       "    .dataframe tbody tr th {\n",
       "        vertical-align: top;\n",
       "    }\n",
       "\n",
       "    .dataframe thead th {\n",
       "        text-align: right;\n",
       "    }\n",
       "</style>\n",
       "<table border=\"1\" class=\"dataframe\">\n",
       "  <thead>\n",
       "    <tr style=\"text-align: right;\">\n",
       "      <th></th>\n",
       "      <th>objectid</th>\n",
       "      <th>dc_dist</th>\n",
       "      <th>psa</th>\n",
       "      <th>dispatch_d</th>\n",
       "      <th>dispatch_1</th>\n",
       "      <th>dispatch_t</th>\n",
       "      <th>hour_</th>\n",
       "      <th>dc_key</th>\n",
       "      <th>location_b</th>\n",
       "      <th>ucr_genera</th>\n",
       "      <th>...</th>\n",
       "      <th>point_y</th>\n",
       "      <th>lat</th>\n",
       "      <th>lng</th>\n",
       "      <th>geometry</th>\n",
       "      <th>index_right</th>\n",
       "      <th>NAME</th>\n",
       "      <th>LISTNAME</th>\n",
       "      <th>MAPNAME</th>\n",
       "      <th>Shape_Leng</th>\n",
       "      <th>Shape_Area</th>\n",
       "    </tr>\n",
       "  </thead>\n",
       "  <tbody>\n",
       "    <tr>\n",
       "      <th>19344</th>\n",
       "      <td>1232563</td>\n",
       "      <td>18</td>\n",
       "      <td>3</td>\n",
       "      <td>02/03/2020 19:07</td>\n",
       "      <td>02/03/2020</td>\n",
       "      <td>19:07:00</td>\n",
       "      <td>19</td>\n",
       "      <td>2.020180e+11</td>\n",
       "      <td>3900 BLOCK SPRUCE ST</td>\n",
       "      <td>1400</td>\n",
       "      <td>...</td>\n",
       "      <td>39.951174</td>\n",
       "      <td>39.951174</td>\n",
       "      <td>-75.201039</td>\n",
       "      <td>POINT (2683031.257 235382.943)</td>\n",
       "      <td>125</td>\n",
       "      <td>UNIVERSITY_CITY</td>\n",
       "      <td>University City</td>\n",
       "      <td>University City</td>\n",
       "      <td>26985.308865</td>\n",
       "      <td>3.299364e+07</td>\n",
       "    </tr>\n",
       "    <tr>\n",
       "      <th>6208</th>\n",
       "      <td>356304</td>\n",
       "      <td>8</td>\n",
       "      <td>3</td>\n",
       "      <td>16/01/2020 19:55</td>\n",
       "      <td>16/01/2020</td>\n",
       "      <td>19:55:00</td>\n",
       "      <td>19</td>\n",
       "      <td>2.020080e+11</td>\n",
       "      <td>1200 BLOCK FRANKLIN MILLS CIR</td>\n",
       "      <td>600</td>\n",
       "      <td>...</td>\n",
       "      <td>40.085034</td>\n",
       "      <td>40.085034</td>\n",
       "      <td>-74.959298</td>\n",
       "      <td>POINT (2749234.680 286170.438)</td>\n",
       "      <td>18</td>\n",
       "      <td>FRANKLIN_MILLS</td>\n",
       "      <td>Franklin Mills</td>\n",
       "      <td>Franklin Mills</td>\n",
       "      <td>18142.228145</td>\n",
       "      <td>1.484744e+07</td>\n",
       "    </tr>\n",
       "    <tr>\n",
       "      <th>15611</th>\n",
       "      <td>948431</td>\n",
       "      <td>25</td>\n",
       "      <td>1</td>\n",
       "      <td>26/01/2020 17:00</td>\n",
       "      <td>26/01/2020</td>\n",
       "      <td>17:00:00</td>\n",
       "      <td>17</td>\n",
       "      <td>2.020250e+11</td>\n",
       "      <td>4200 BLOCK N BROAD ST</td>\n",
       "      <td>800</td>\n",
       "      <td>...</td>\n",
       "      <td>40.017280</td>\n",
       "      <td>40.017280</td>\n",
       "      <td>-75.148787</td>\n",
       "      <td>POINT (2696965.464 259880.999)</td>\n",
       "      <td>72</td>\n",
       "      <td>HUNTING_PARK</td>\n",
       "      <td>Hunting Park</td>\n",
       "      <td>Hunting Park</td>\n",
       "      <td>32920.799360</td>\n",
       "      <td>3.902450e+07</td>\n",
       "    </tr>\n",
       "    <tr>\n",
       "      <th>47263</th>\n",
       "      <td>3130085</td>\n",
       "      <td>1</td>\n",
       "      <td>1</td>\n",
       "      <td>12/05/2020 21:44</td>\n",
       "      <td>12/05/2020</td>\n",
       "      <td>21:44:00</td>\n",
       "      <td>21</td>\n",
       "      <td>2.020010e+11</td>\n",
       "      <td>1800 BLOCK S 19TH ST</td>\n",
       "      <td>800</td>\n",
       "      <td>...</td>\n",
       "      <td>39.927941</td>\n",
       "      <td>39.927941</td>\n",
       "      <td>-75.177174</td>\n",
       "      <td>POINT (2689965.990 227117.201)</td>\n",
       "      <td>156</td>\n",
       "      <td>WEST_PASSYUNK</td>\n",
       "      <td>West Passyunk</td>\n",
       "      <td>West Passyunk</td>\n",
       "      <td>10499.291848</td>\n",
       "      <td>6.494799e+06</td>\n",
       "    </tr>\n",
       "    <tr>\n",
       "      <th>59002</th>\n",
       "      <td>3143147</td>\n",
       "      <td>3</td>\n",
       "      <td>3</td>\n",
       "      <td>29/05/2020 00:25</td>\n",
       "      <td>29/05/2020</td>\n",
       "      <td>00:25:00</td>\n",
       "      <td>0</td>\n",
       "      <td>2.020030e+11</td>\n",
       "      <td>S 09TH ST / SNYDER AV</td>\n",
       "      <td>1400</td>\n",
       "      <td>...</td>\n",
       "      <td>39.923306</td>\n",
       "      <td>39.923306</td>\n",
       "      <td>-75.161313</td>\n",
       "      <td>POINT (2694461.948 225559.600)</td>\n",
       "      <td>157</td>\n",
       "      <td>EAST_PASSYUNK</td>\n",
       "      <td>East Passyunk</td>\n",
       "      <td>East Passyunk</td>\n",
       "      <td>10987.761846</td>\n",
       "      <td>6.502097e+06</td>\n",
       "    </tr>\n",
       "    <tr>\n",
       "      <th>46358</th>\n",
       "      <td>3134487</td>\n",
       "      <td>12</td>\n",
       "      <td>4</td>\n",
       "      <td>30/04/2020 21:19</td>\n",
       "      <td>30/04/2020</td>\n",
       "      <td>21:19:00</td>\n",
       "      <td>21</td>\n",
       "      <td>2.020120e+11</td>\n",
       "      <td>5800 BLOCK FERNWOOD ST</td>\n",
       "      <td>2600</td>\n",
       "      <td>...</td>\n",
       "      <td>39.944295</td>\n",
       "      <td>39.944295</td>\n",
       "      <td>-75.238649</td>\n",
       "      <td>POINT (2672562.516 232576.087)</td>\n",
       "      <td>117</td>\n",
       "      <td>KINGSESSING</td>\n",
       "      <td>Kingsessing</td>\n",
       "      <td>Kingsessing</td>\n",
       "      <td>30544.776445</td>\n",
       "      <td>2.877364e+07</td>\n",
       "    </tr>\n",
       "    <tr>\n",
       "      <th>49347</th>\n",
       "      <td>3134283</td>\n",
       "      <td>15</td>\n",
       "      <td>2</td>\n",
       "      <td>20/05/2020 21:57</td>\n",
       "      <td>20/05/2020</td>\n",
       "      <td>21:57:00</td>\n",
       "      <td>21</td>\n",
       "      <td>2.020150e+11</td>\n",
       "      <td>6200 BLOCK MONTAGUE ST</td>\n",
       "      <td>300</td>\n",
       "      <td>...</td>\n",
       "      <td>40.024731</td>\n",
       "      <td>40.024731</td>\n",
       "      <td>-75.058586</td>\n",
       "      <td>POINT (2722135.564 263351.100)</td>\n",
       "      <td>43</td>\n",
       "      <td>WISSINOMING</td>\n",
       "      <td>Wissinoming</td>\n",
       "      <td>Wissinoming</td>\n",
       "      <td>29226.474499</td>\n",
       "      <td>4.236116e+07</td>\n",
       "    </tr>\n",
       "    <tr>\n",
       "      <th>15008</th>\n",
       "      <td>908152</td>\n",
       "      <td>5</td>\n",
       "      <td>1</td>\n",
       "      <td>28/01/2020 15:16</td>\n",
       "      <td>28/01/2020</td>\n",
       "      <td>15:16:00</td>\n",
       "      <td>15</td>\n",
       "      <td>2.020050e+11</td>\n",
       "      <td>4100 BLOCK CHURCHVIEW ST</td>\n",
       "      <td>1400</td>\n",
       "      <td>...</td>\n",
       "      <td>40.024940</td>\n",
       "      <td>40.024940</td>\n",
       "      <td>-75.216750</td>\n",
       "      <td>POINT (2677857.607 262116.866)</td>\n",
       "      <td>51</td>\n",
       "      <td>MANAYUNK</td>\n",
       "      <td>Manayunk</td>\n",
       "      <td>Manayunk</td>\n",
       "      <td>16157.054672</td>\n",
       "      <td>1.471206e+07</td>\n",
       "    </tr>\n",
       "    <tr>\n",
       "      <th>13716</th>\n",
       "      <td>846916</td>\n",
       "      <td>25</td>\n",
       "      <td>2</td>\n",
       "      <td>02/03/2020 16:09</td>\n",
       "      <td>02/03/2020</td>\n",
       "      <td>16:09:00</td>\n",
       "      <td>16</td>\n",
       "      <td>2.020250e+11</td>\n",
       "      <td>100 BLOCK W HUNTING PARK AV</td>\n",
       "      <td>600</td>\n",
       "      <td>...</td>\n",
       "      <td>40.014252</td>\n",
       "      <td>40.014252</td>\n",
       "      <td>-75.128320</td>\n",
       "      <td>POINT (2702728.256 258947.999)</td>\n",
       "      <td>69</td>\n",
       "      <td>FELTONVILLE</td>\n",
       "      <td>Feltonville</td>\n",
       "      <td>Feltonville</td>\n",
       "      <td>22648.988748</td>\n",
       "      <td>2.790797e+07</td>\n",
       "    </tr>\n",
       "    <tr>\n",
       "      <th>31401</th>\n",
       "      <td>2176416</td>\n",
       "      <td>22</td>\n",
       "      <td>1</td>\n",
       "      <td>03/02/2020 17:11</td>\n",
       "      <td>03/02/2020</td>\n",
       "      <td>17:11:00</td>\n",
       "      <td>17</td>\n",
       "      <td>2.020220e+11</td>\n",
       "      <td>2300 BLOCK N 15TH ST</td>\n",
       "      <td>2300</td>\n",
       "      <td>...</td>\n",
       "      <td>39.989457</td>\n",
       "      <td>39.989457</td>\n",
       "      <td>-75.158823</td>\n",
       "      <td>POINT (2694453.037 249667.207)</td>\n",
       "      <td>78</td>\n",
       "      <td>STANTON</td>\n",
       "      <td>Stanton</td>\n",
       "      <td>Stanton</td>\n",
       "      <td>16115.745169</td>\n",
       "      <td>1.265486e+07</td>\n",
       "    </tr>\n",
       "  </tbody>\n",
       "</table>\n",
       "<p>10 rows × 22 columns</p>\n",
       "</div>"
      ],
      "text/plain": [
       "       objectid  dc_dist psa        dispatch_d  dispatch_1 dispatch_t  hour_  \\\n",
       "19344   1232563       18   3  02/03/2020 19:07  02/03/2020   19:07:00     19   \n",
       "6208     356304        8   3  16/01/2020 19:55  16/01/2020   19:55:00     19   \n",
       "15611    948431       25   1  26/01/2020 17:00  26/01/2020   17:00:00     17   \n",
       "47263   3130085        1   1  12/05/2020 21:44  12/05/2020   21:44:00     21   \n",
       "59002   3143147        3   3  29/05/2020 00:25  29/05/2020   00:25:00      0   \n",
       "46358   3134487       12   4  30/04/2020 21:19  30/04/2020   21:19:00     21   \n",
       "49347   3134283       15   2  20/05/2020 21:57  20/05/2020   21:57:00     21   \n",
       "15008    908152        5   1  28/01/2020 15:16  28/01/2020   15:16:00     15   \n",
       "13716    846916       25   2  02/03/2020 16:09  02/03/2020   16:09:00     16   \n",
       "31401   2176416       22   1  03/02/2020 17:11  03/02/2020   17:11:00     17   \n",
       "\n",
       "             dc_key                     location_b  ucr_genera  ...  \\\n",
       "19344  2.020180e+11           3900 BLOCK SPRUCE ST        1400  ...   \n",
       "6208   2.020080e+11  1200 BLOCK FRANKLIN MILLS CIR         600  ...   \n",
       "15611  2.020250e+11          4200 BLOCK N BROAD ST         800  ...   \n",
       "47263  2.020010e+11           1800 BLOCK S 19TH ST         800  ...   \n",
       "59002  2.020030e+11          S 09TH ST / SNYDER AV        1400  ...   \n",
       "46358  2.020120e+11         5800 BLOCK FERNWOOD ST        2600  ...   \n",
       "49347  2.020150e+11         6200 BLOCK MONTAGUE ST         300  ...   \n",
       "15008  2.020050e+11       4100 BLOCK CHURCHVIEW ST        1400  ...   \n",
       "13716  2.020250e+11    100 BLOCK W HUNTING PARK AV         600  ...   \n",
       "31401  2.020220e+11           2300 BLOCK N 15TH ST        2300  ...   \n",
       "\n",
       "         point_y        lat        lng                        geometry  \\\n",
       "19344  39.951174  39.951174 -75.201039  POINT (2683031.257 235382.943)   \n",
       "6208   40.085034  40.085034 -74.959298  POINT (2749234.680 286170.438)   \n",
       "15611  40.017280  40.017280 -75.148787  POINT (2696965.464 259880.999)   \n",
       "47263  39.927941  39.927941 -75.177174  POINT (2689965.990 227117.201)   \n",
       "59002  39.923306  39.923306 -75.161313  POINT (2694461.948 225559.600)   \n",
       "46358  39.944295  39.944295 -75.238649  POINT (2672562.516 232576.087)   \n",
       "49347  40.024731  40.024731 -75.058586  POINT (2722135.564 263351.100)   \n",
       "15008  40.024940  40.024940 -75.216750  POINT (2677857.607 262116.866)   \n",
       "13716  40.014252  40.014252 -75.128320  POINT (2702728.256 258947.999)   \n",
       "31401  39.989457  39.989457 -75.158823  POINT (2694453.037 249667.207)   \n",
       "\n",
       "       index_right             NAME         LISTNAME          MAPNAME  \\\n",
       "19344          125  UNIVERSITY_CITY  University City  University City   \n",
       "6208            18   FRANKLIN_MILLS   Franklin Mills   Franklin Mills   \n",
       "15611           72     HUNTING_PARK     Hunting Park     Hunting Park   \n",
       "47263          156    WEST_PASSYUNK    West Passyunk    West Passyunk   \n",
       "59002          157    EAST_PASSYUNK    East Passyunk    East Passyunk   \n",
       "46358          117      KINGSESSING      Kingsessing      Kingsessing   \n",
       "49347           43      WISSINOMING      Wissinoming      Wissinoming   \n",
       "15008           51         MANAYUNK         Manayunk         Manayunk   \n",
       "13716           69      FELTONVILLE      Feltonville      Feltonville   \n",
       "31401           78          STANTON          Stanton          Stanton   \n",
       "\n",
       "         Shape_Leng    Shape_Area  \n",
       "19344  26985.308865  3.299364e+07  \n",
       "6208   18142.228145  1.484744e+07  \n",
       "15611  32920.799360  3.902450e+07  \n",
       "47263  10499.291848  6.494799e+06  \n",
       "59002  10987.761846  6.502097e+06  \n",
       "46358  30544.776445  2.877364e+07  \n",
       "49347  29226.474499  4.236116e+07  \n",
       "15008  16157.054672  1.471206e+07  \n",
       "13716  22648.988748  2.790797e+07  \n",
       "31401  16115.745169  1.265486e+07  \n",
       "\n",
       "[10 rows x 22 columns]"
      ]
     },
     "execution_count": 18,
     "metadata": {},
     "output_type": "execute_result"
    }
   ],
   "source": [
    "joined_incidents = gpd.sjoin(incidents_proj, gdf_areas, how=\"inner\", op='within')\n",
    "joined_incidents.sample(10)"
   ]
  },
  {
   "cell_type": "markdown",
   "metadata": {},
   "source": [
    "\n",
    "\n",
    "<div class=\"alert alert-block alert-info\">  \n",
    "<b>Challenge: :</b> \n",
    "    \n",
    "* <span style='font-family:Georgia'> Can you count how many incidents are with in each neighbourhood? \n",
    "   \n",
    "* <span style='font-family:Georgia'>  You might use Pandas groupby  using NAME column and then calculate the size. * You will end up with a Series Datatype so you might also covert this to pandas dataframe using to_frame().reset_index.\n",
    "    \n",
    "* <span style='font-family:Georgia'>You can also give the your columns names using DF.columns = [\"XXX\", \"YYY\"].\n",
    "\n",
    "    \n",
    "</div>\n"
   ]
  },
  {
   "cell_type": "code",
   "execution_count": 19,
   "metadata": {},
   "outputs": [],
   "source": [
    "grouped = joined_incidents.groupby(\"NAME\").size()\n",
    "df = grouped.to_frame().reset_index()\n",
    "df.columns = [\"NAME\", \"Counts\"]"
   ]
  },
  {
   "cell_type": "code",
   "execution_count": 20,
   "metadata": {},
   "outputs": [
    {
     "data": {
      "text/html": [
       "<div>\n",
       "<style scoped>\n",
       "    .dataframe tbody tr th:only-of-type {\n",
       "        vertical-align: middle;\n",
       "    }\n",
       "\n",
       "    .dataframe tbody tr th {\n",
       "        vertical-align: top;\n",
       "    }\n",
       "\n",
       "    .dataframe thead th {\n",
       "        text-align: right;\n",
       "    }\n",
       "</style>\n",
       "<table border=\"1\" class=\"dataframe\">\n",
       "  <thead>\n",
       "    <tr style=\"text-align: right;\">\n",
       "      <th></th>\n",
       "      <th>NAME</th>\n",
       "      <th>Counts</th>\n",
       "    </tr>\n",
       "  </thead>\n",
       "  <tbody>\n",
       "    <tr>\n",
       "      <th>0</th>\n",
       "      <td>ACADEMY_GARDENS</td>\n",
       "      <td>81</td>\n",
       "    </tr>\n",
       "    <tr>\n",
       "      <th>1</th>\n",
       "      <td>AIRPORT</td>\n",
       "      <td>162</td>\n",
       "    </tr>\n",
       "    <tr>\n",
       "      <th>2</th>\n",
       "      <td>ALLEGHENY_WEST</td>\n",
       "      <td>923</td>\n",
       "    </tr>\n",
       "    <tr>\n",
       "      <th>3</th>\n",
       "      <td>ANDORRA</td>\n",
       "      <td>56</td>\n",
       "    </tr>\n",
       "    <tr>\n",
       "      <th>4</th>\n",
       "      <td>ASTON_WOODBRIDGE</td>\n",
       "      <td>74</td>\n",
       "    </tr>\n",
       "  </tbody>\n",
       "</table>\n",
       "</div>"
      ],
      "text/plain": [
       "               NAME  Counts\n",
       "0   ACADEMY_GARDENS      81\n",
       "1           AIRPORT     162\n",
       "2    ALLEGHENY_WEST     923\n",
       "3           ANDORRA      56\n",
       "4  ASTON_WOODBRIDGE      74"
      ]
     },
     "execution_count": 20,
     "metadata": {},
     "output_type": "execute_result"
    }
   ],
   "source": [
    "df.head()"
   ]
  },
  {
   "cell_type": "markdown",
   "metadata": {},
   "source": [
    "\n",
    "<div class=\"alert alert-block alert-info\">\n",
    "    \n",
    "* <span style='font-family:Georgia'> How many Incidents are in BREWERYTOWN\t neighbourhood.\n",
    " \n",
    "</div>"
   ]
  },
  {
   "cell_type": "markdown",
   "metadata": {},
   "source": [
    "451"
   ]
  },
  {
   "cell_type": "markdown",
   "metadata": {},
   "source": [
    "\n",
    "<div class=\"alert alert-block alert-info\">\n",
    "    \n",
    "* <span style='font-family:Georgia'> Which Neighbourhood has the lowest Crime incidents? Which Neighbourhood has the highest Crime incidents?\n",
    "\n",
    " \n",
    "</div>"
   ]
  },
  {
   "cell_type": "code",
   "execution_count": 21,
   "metadata": {},
   "outputs": [
    {
     "data": {
      "text/html": [
       "<div>\n",
       "<style scoped>\n",
       "    .dataframe tbody tr th:only-of-type {\n",
       "        vertical-align: middle;\n",
       "    }\n",
       "\n",
       "    .dataframe tbody tr th {\n",
       "        vertical-align: top;\n",
       "    }\n",
       "\n",
       "    .dataframe thead th {\n",
       "        text-align: right;\n",
       "    }\n",
       "</style>\n",
       "<table border=\"1\" class=\"dataframe\">\n",
       "  <thead>\n",
       "    <tr style=\"text-align: right;\">\n",
       "      <th></th>\n",
       "      <th>NAME</th>\n",
       "      <th>Counts</th>\n",
       "    </tr>\n",
       "  </thead>\n",
       "  <tbody>\n",
       "    <tr>\n",
       "      <th>80</th>\n",
       "      <td>MECHANICSVILLE</td>\n",
       "      <td>3</td>\n",
       "    </tr>\n",
       "    <tr>\n",
       "      <th>88</th>\n",
       "      <td>NAVY_YARD</td>\n",
       "      <td>7</td>\n",
       "    </tr>\n",
       "    <tr>\n",
       "      <th>23</th>\n",
       "      <td>CRESTMONT_FARMS</td>\n",
       "      <td>7</td>\n",
       "    </tr>\n",
       "    <tr>\n",
       "      <th>112</th>\n",
       "      <td>PORT_RICHMOND</td>\n",
       "      <td>8</td>\n",
       "    </tr>\n",
       "    <tr>\n",
       "      <th>108</th>\n",
       "      <td>PENNYPACK_PARK</td>\n",
       "      <td>20</td>\n",
       "    </tr>\n",
       "    <tr>\n",
       "      <th>...</th>\n",
       "      <td>...</td>\n",
       "      <td>...</td>\n",
       "    </tr>\n",
       "    <tr>\n",
       "      <th>117</th>\n",
       "      <td>RITTENHOUSE</td>\n",
       "      <td>1532</td>\n",
       "    </tr>\n",
       "    <tr>\n",
       "      <th>99</th>\n",
       "      <td>OLNEY</td>\n",
       "      <td>1545</td>\n",
       "    </tr>\n",
       "    <tr>\n",
       "      <th>116</th>\n",
       "      <td>RICHMOND</td>\n",
       "      <td>1782</td>\n",
       "    </tr>\n",
       "    <tr>\n",
       "      <th>21</th>\n",
       "      <td>COBBS_CREEK</td>\n",
       "      <td>1969</td>\n",
       "    </tr>\n",
       "    <tr>\n",
       "      <th>135</th>\n",
       "      <td>UPPER_KENSINGTON</td>\n",
       "      <td>2225</td>\n",
       "    </tr>\n",
       "  </tbody>\n",
       "</table>\n",
       "<p>158 rows × 2 columns</p>\n",
       "</div>"
      ],
      "text/plain": [
       "                 NAME  Counts\n",
       "80     MECHANICSVILLE       3\n",
       "88          NAVY_YARD       7\n",
       "23    CRESTMONT_FARMS       7\n",
       "112     PORT_RICHMOND       8\n",
       "108    PENNYPACK_PARK      20\n",
       "..                ...     ...\n",
       "117       RITTENHOUSE    1532\n",
       "99              OLNEY    1545\n",
       "116          RICHMOND    1782\n",
       "21        COBBS_CREEK    1969\n",
       "135  UPPER_KENSINGTON    2225\n",
       "\n",
       "[158 rows x 2 columns]"
      ]
     },
     "execution_count": 21,
     "metadata": {},
     "output_type": "execute_result"
    }
   ],
   "source": [
    "df.sort_values(by=['Counts'])"
   ]
  },
  {
   "cell_type": "markdown",
   "metadata": {},
   "source": [
    "\n",
    "\n",
    "\n",
    "<div class=\"alert alert-block alert-success\">\n",
    "<b>Info:</b> \n",
    "    \n",
    "    MECHANICSVILLE Has only 3 incidents which is the lowest crime incidents per Neighbourhood.\n",
    "    \n",
    "    \n",
    "    UPPER_KENSINGTON has the Highest crime incidents in Philly with a record 2225 crime incidents.\n",
    "</div>\n"
   ]
  },
  {
   "cell_type": "markdown",
   "metadata": {},
   "source": [
    "\n",
    "\n",
    "<div class=\"alert alert-block alert-info\">\n",
    "    \n",
    "* <span style='font-family:Georgia'> Join the grouped count dataframe with the Original Neighbourhoods - the grouped data is Pandas dataframe and the Neighoburhoods are Geodataframe) So you can use a normal pandas merge. \n",
    "    \n",
    "* <span style='font-family:Georgia'> Use XXXX.merge(df, on=\"NAME\", how=\"outer\") --> XXXX is the Geodataframe. \n",
    "\n",
    "\n",
    " \n",
    "</div>"
   ]
  },
  {
   "cell_type": "code",
   "execution_count": 22,
   "metadata": {},
   "outputs": [],
   "source": [
    "merged_areas = gdf_areas.merge(df, on=\"NAME\", how=\"outer\")"
   ]
  },
  {
   "cell_type": "code",
   "execution_count": 23,
   "metadata": {},
   "outputs": [
    {
     "data": {
      "text/html": [
       "<div>\n",
       "<style scoped>\n",
       "    .dataframe tbody tr th:only-of-type {\n",
       "        vertical-align: middle;\n",
       "    }\n",
       "\n",
       "    .dataframe tbody tr th {\n",
       "        vertical-align: top;\n",
       "    }\n",
       "\n",
       "    .dataframe thead th {\n",
       "        text-align: right;\n",
       "    }\n",
       "</style>\n",
       "<table border=\"1\" class=\"dataframe\">\n",
       "  <thead>\n",
       "    <tr style=\"text-align: right;\">\n",
       "      <th></th>\n",
       "      <th>NAME</th>\n",
       "      <th>LISTNAME</th>\n",
       "      <th>MAPNAME</th>\n",
       "      <th>Shape_Leng</th>\n",
       "      <th>Shape_Area</th>\n",
       "      <th>geometry</th>\n",
       "      <th>Counts</th>\n",
       "    </tr>\n",
       "  </thead>\n",
       "  <tbody>\n",
       "    <tr>\n",
       "      <th>0</th>\n",
       "      <td>BRIDESBURG</td>\n",
       "      <td>Bridesburg</td>\n",
       "      <td>Bridesburg</td>\n",
       "      <td>27814.546521</td>\n",
       "      <td>4.458626e+07</td>\n",
       "      <td>POLYGON ((2719789.837 256235.538, 2719814.855 ...</td>\n",
       "      <td>142</td>\n",
       "    </tr>\n",
       "    <tr>\n",
       "      <th>1</th>\n",
       "      <td>BUSTLETON</td>\n",
       "      <td>Bustleton</td>\n",
       "      <td>Bustleton</td>\n",
       "      <td>48868.458365</td>\n",
       "      <td>1.140504e+08</td>\n",
       "      <td>POLYGON ((2733378.171 289259.945, 2732818.985 ...</td>\n",
       "      <td>413</td>\n",
       "    </tr>\n",
       "    <tr>\n",
       "      <th>2</th>\n",
       "      <td>CEDARBROOK</td>\n",
       "      <td>Cedarbrook</td>\n",
       "      <td>Cedarbrook</td>\n",
       "      <td>20021.415802</td>\n",
       "      <td>2.487174e+07</td>\n",
       "      <td>POLYGON ((2685267.950 279747.336, 2685272.265 ...</td>\n",
       "      <td>281</td>\n",
       "    </tr>\n",
       "    <tr>\n",
       "      <th>3</th>\n",
       "      <td>CHESTNUT_HILL</td>\n",
       "      <td>Chestnut Hill</td>\n",
       "      <td>Chestnut Hill</td>\n",
       "      <td>56394.297195</td>\n",
       "      <td>7.966498e+07</td>\n",
       "      <td>POLYGON ((2678490.151 284400.400, 2678518.732 ...</td>\n",
       "      <td>134</td>\n",
       "    </tr>\n",
       "    <tr>\n",
       "      <th>4</th>\n",
       "      <td>EAST_FALLS</td>\n",
       "      <td>East Falls</td>\n",
       "      <td>East Falls</td>\n",
       "      <td>27400.776417</td>\n",
       "      <td>4.057689e+07</td>\n",
       "      <td>POLYGON ((2686769.727 263625.367, 2686921.108 ...</td>\n",
       "      <td>282</td>\n",
       "    </tr>\n",
       "  </tbody>\n",
       "</table>\n",
       "</div>"
      ],
      "text/plain": [
       "            NAME       LISTNAME        MAPNAME    Shape_Leng    Shape_Area  \\\n",
       "0     BRIDESBURG     Bridesburg     Bridesburg  27814.546521  4.458626e+07   \n",
       "1      BUSTLETON      Bustleton      Bustleton  48868.458365  1.140504e+08   \n",
       "2     CEDARBROOK     Cedarbrook     Cedarbrook  20021.415802  2.487174e+07   \n",
       "3  CHESTNUT_HILL  Chestnut Hill  Chestnut Hill  56394.297195  7.966498e+07   \n",
       "4     EAST_FALLS     East Falls     East Falls  27400.776417  4.057689e+07   \n",
       "\n",
       "                                            geometry  Counts  \n",
       "0  POLYGON ((2719789.837 256235.538, 2719814.855 ...     142  \n",
       "1  POLYGON ((2733378.171 289259.945, 2732818.985 ...     413  \n",
       "2  POLYGON ((2685267.950 279747.336, 2685272.265 ...     281  \n",
       "3  POLYGON ((2678490.151 284400.400, 2678518.732 ...     134  \n",
       "4  POLYGON ((2686769.727 263625.367, 2686921.108 ...     282  "
      ]
     },
     "execution_count": 23,
     "metadata": {},
     "output_type": "execute_result"
    }
   ],
   "source": [
    "merged_areas.head()"
   ]
  },
  {
   "cell_type": "markdown",
   "metadata": {},
   "source": [
    "\n",
    "\n",
    "<div class=\"alert alert-block alert-info\">\n",
    "    \n",
    "* <span style='font-family:Georgia'> Check the type of the merged data ( Make sure it is GeoDataFrame)\n",
    "\n",
    " \n",
    "</div>"
   ]
  },
  {
   "cell_type": "code",
   "execution_count": 24,
   "metadata": {},
   "outputs": [
    {
     "data": {
      "text/plain": [
       "geopandas.geodataframe.GeoDataFrame"
      ]
     },
     "execution_count": 24,
     "metadata": {},
     "output_type": "execute_result"
    }
   ],
   "source": [
    "type(merged_areas)"
   ]
  },
  {
   "cell_type": "markdown",
   "metadata": {},
   "source": [
    "\n",
    "<div class=\"alert alert-block alert-info\">\n",
    "    \n",
    "* <span style='font-family:Georgia'>  Export the merged GeoDataframe as GeoJson, add driver='GeoJSON' in to_file() method. We will use this file Later\n",
    " \n",
    "</div>"
   ]
  },
  {
   "cell_type": "code",
   "execution_count": 25,
   "metadata": {},
   "outputs": [],
   "source": [
    "merged_areas.to_file(\"AssignmentData/neighbourhod_crimes.Geojson\", driver='GeoJSON')"
   ]
  },
  {
   "cell_type": "markdown",
   "metadata": {},
   "source": [
    "\n",
    "<div class=\"alert alert-block alert-success\">\n",
    "<font size=\"50\"><center><b font size=\"50\">Good Job</b></font></center>\n",
    "</div>\n"
   ]
  }
 ],
 "metadata": {
  "hide_input": false,
  "kernelspec": {
   "display_name": "geo",
   "language": "python",
   "name": "geo"
  },
  "language_info": {
   "codemirror_mode": {
    "name": "ipython",
    "version": 3
   },
   "file_extension": ".py",
   "mimetype": "text/x-python",
   "name": "python",
   "nbconvert_exporter": "python",
   "pygments_lexer": "ipython3",
   "version": "3.7.6"
  }
 },
 "nbformat": 4,
 "nbformat_minor": 4
}
