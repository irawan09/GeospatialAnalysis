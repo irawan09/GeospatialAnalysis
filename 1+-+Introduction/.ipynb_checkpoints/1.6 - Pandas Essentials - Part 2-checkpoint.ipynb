{
 "cells": [
  {
   "cell_type": "markdown",
   "metadata": {},
   "source": [
    "# <h1><center>Introduction to Pandas</center></h1>"
   ]
  },
  {
   "cell_type": "code",
   "execution_count": 1,
   "metadata": {},
   "outputs": [],
   "source": [
    "import pandas as pd\n"
   ]
  },
  {
   "cell_type": "code",
   "execution_count": 2,
   "metadata": {},
   "outputs": [
    {
     "data": {
      "text/html": [
       "<div>\n",
       "<style scoped>\n",
       "    .dataframe tbody tr th:only-of-type {\n",
       "        vertical-align: middle;\n",
       "    }\n",
       "\n",
       "    .dataframe tbody tr th {\n",
       "        vertical-align: top;\n",
       "    }\n",
       "\n",
       "    .dataframe thead th {\n",
       "        text-align: right;\n",
       "    }\n",
       "</style>\n",
       "<table border=\"1\" class=\"dataframe\">\n",
       "  <thead>\n",
       "    <tr style=\"text-align: right;\">\n",
       "      <th></th>\n",
       "      <th>Country</th>\n",
       "      <th>City</th>\n",
       "      <th>City_local</th>\n",
       "      <th>Region</th>\n",
       "      <th>Population</th>\n",
       "      <th>Latitude</th>\n",
       "      <th>Longitude</th>\n",
       "    </tr>\n",
       "  </thead>\n",
       "  <tbody>\n",
       "    <tr>\n",
       "      <th>0</th>\n",
       "      <td>ad</td>\n",
       "      <td>aixas</td>\n",
       "      <td>Aixàs</td>\n",
       "      <td>06</td>\n",
       "      <td>NaN</td>\n",
       "      <td>42.483333</td>\n",
       "      <td>1.466667</td>\n",
       "    </tr>\n",
       "    <tr>\n",
       "      <th>1</th>\n",
       "      <td>ad</td>\n",
       "      <td>aixirivali</td>\n",
       "      <td>Aixirivali</td>\n",
       "      <td>06</td>\n",
       "      <td>NaN</td>\n",
       "      <td>42.466667</td>\n",
       "      <td>1.500000</td>\n",
       "    </tr>\n",
       "    <tr>\n",
       "      <th>2</th>\n",
       "      <td>ad</td>\n",
       "      <td>aixirivall</td>\n",
       "      <td>Aixirivall</td>\n",
       "      <td>06</td>\n",
       "      <td>NaN</td>\n",
       "      <td>42.466667</td>\n",
       "      <td>1.500000</td>\n",
       "    </tr>\n",
       "    <tr>\n",
       "      <th>3</th>\n",
       "      <td>ad</td>\n",
       "      <td>aixirvall</td>\n",
       "      <td>Aixirvall</td>\n",
       "      <td>06</td>\n",
       "      <td>NaN</td>\n",
       "      <td>42.466667</td>\n",
       "      <td>1.500000</td>\n",
       "    </tr>\n",
       "    <tr>\n",
       "      <th>4</th>\n",
       "      <td>ad</td>\n",
       "      <td>aixovall</td>\n",
       "      <td>Aixovall</td>\n",
       "      <td>06</td>\n",
       "      <td>NaN</td>\n",
       "      <td>42.466667</td>\n",
       "      <td>1.483333</td>\n",
       "    </tr>\n",
       "  </tbody>\n",
       "</table>\n",
       "</div>"
      ],
      "text/plain": [
       "  Country        City  City_local Region  Population   Latitude  Longitude\n",
       "0      ad       aixas       Aixàs     06         NaN  42.483333   1.466667\n",
       "1      ad  aixirivali  Aixirivali     06         NaN  42.466667   1.500000\n",
       "2      ad  aixirivall  Aixirivall     06         NaN  42.466667   1.500000\n",
       "3      ad   aixirvall   Aixirvall     06         NaN  42.466667   1.500000\n",
       "4      ad    aixovall    Aixovall     06         NaN  42.466667   1.483333"
      ]
     },
     "execution_count": 2,
     "metadata": {},
     "output_type": "execute_result"
    }
   ],
   "source": [
    "df = pd.read_csv('data/worldcitiespop.csv',\n",
    "        names=[\"Country\", \"City\", \"City_local\", \"Region\", \"Population\", \"Latitude\",\"Longitude\"],\n",
    "                 encoding = \"ISO-8859-1\", \n",
    "                 low_memory=False,\n",
    "            )\n",
    "df.head()"
   ]
  },
  {
   "cell_type": "code",
   "execution_count": 3,
   "metadata": {},
   "outputs": [
    {
     "data": {
      "text/plain": [
       "(2699354, 7)"
      ]
     },
     "execution_count": 3,
     "metadata": {},
     "output_type": "execute_result"
    }
   ],
   "source": [
    "df.shape"
   ]
  },
  {
   "cell_type": "markdown",
   "metadata": {
    "heading_collapsed": true
   },
   "source": [
    "## 1. Missing Values"
   ]
  },
  {
   "cell_type": "code",
   "execution_count": 4,
   "metadata": {
    "hidden": true
   },
   "outputs": [
    {
     "data": {
      "text/plain": [
       "Country       False\n",
       "City           True\n",
       "City_local    False\n",
       "Region         True\n",
       "Population     True\n",
       "Latitude      False\n",
       "Longitude     False\n",
       "dtype: bool"
      ]
     },
     "execution_count": 4,
     "metadata": {},
     "output_type": "execute_result"
    }
   ],
   "source": [
    "\n",
    "df.isnull().any()"
   ]
  },
  {
   "cell_type": "code",
   "execution_count": 5,
   "metadata": {
    "hidden": true
   },
   "outputs": [
    {
     "data": {
      "text/plain": [
       "Country             0\n",
       "City                5\n",
       "City_local          0\n",
       "Region              4\n",
       "Population    2652350\n",
       "Latitude            0\n",
       "Longitude           0\n",
       "dtype: int64"
      ]
     },
     "execution_count": 5,
     "metadata": {},
     "output_type": "execute_result"
    }
   ],
   "source": [
    "df.isnull().sum()"
   ]
  },
  {
   "cell_type": "code",
   "execution_count": 6,
   "metadata": {
    "hidden": true
   },
   "outputs": [
    {
     "data": {
      "text/plain": [
       "Population    2652350\n",
       "City                5\n",
       "Region              4\n",
       "Longitude           0\n",
       "Latitude            0\n",
       "City_local          0\n",
       "Country             0\n",
       "dtype: int64"
      ]
     },
     "execution_count": 6,
     "metadata": {},
     "output_type": "execute_result"
    }
   ],
   "source": [
    "df.isnull().sum().sort_values(ascending=False)"
   ]
  },
  {
   "cell_type": "markdown",
   "metadata": {
    "heading_collapsed": true
   },
   "source": [
    "## Handle Missing Data"
   ]
  },
  {
   "cell_type": "code",
   "execution_count": 7,
   "metadata": {
    "hidden": true
   },
   "outputs": [
    {
     "data": {
      "text/plain": [
       "(2699354, 7)"
      ]
     },
     "execution_count": 7,
     "metadata": {},
     "output_type": "execute_result"
    }
   ],
   "source": [
    "df.shape"
   ]
  },
  {
   "cell_type": "code",
   "execution_count": 8,
   "metadata": {
    "hidden": true
   },
   "outputs": [
    {
     "data": {
      "text/html": [
       "<div>\n",
       "<style scoped>\n",
       "    .dataframe tbody tr th:only-of-type {\n",
       "        vertical-align: middle;\n",
       "    }\n",
       "\n",
       "    .dataframe tbody tr th {\n",
       "        vertical-align: top;\n",
       "    }\n",
       "\n",
       "    .dataframe thead th {\n",
       "        text-align: right;\n",
       "    }\n",
       "</style>\n",
       "<table border=\"1\" class=\"dataframe\">\n",
       "  <thead>\n",
       "    <tr style=\"text-align: right;\">\n",
       "      <th></th>\n",
       "      <th>Country</th>\n",
       "      <th>City</th>\n",
       "      <th>City_local</th>\n",
       "      <th>Region</th>\n",
       "      <th>Population</th>\n",
       "      <th>Latitude</th>\n",
       "      <th>Longitude</th>\n",
       "    </tr>\n",
       "  </thead>\n",
       "  <tbody>\n",
       "    <tr>\n",
       "      <th>6</th>\n",
       "      <td>ad</td>\n",
       "      <td>andorra la vella</td>\n",
       "      <td>Andorra la Vella</td>\n",
       "      <td>07</td>\n",
       "      <td>20430.0</td>\n",
       "      <td>42.500000</td>\n",
       "      <td>1.516667</td>\n",
       "    </tr>\n",
       "    <tr>\n",
       "      <th>20</th>\n",
       "      <td>ad</td>\n",
       "      <td>canillo</td>\n",
       "      <td>Canillo</td>\n",
       "      <td>02</td>\n",
       "      <td>3292.0</td>\n",
       "      <td>42.566667</td>\n",
       "      <td>1.600000</td>\n",
       "    </tr>\n",
       "    <tr>\n",
       "      <th>32</th>\n",
       "      <td>ad</td>\n",
       "      <td>encamp</td>\n",
       "      <td>Encamp</td>\n",
       "      <td>03</td>\n",
       "      <td>11224.0</td>\n",
       "      <td>42.533333</td>\n",
       "      <td>1.583333</td>\n",
       "    </tr>\n",
       "    <tr>\n",
       "      <th>49</th>\n",
       "      <td>ad</td>\n",
       "      <td>la massana</td>\n",
       "      <td>La Massana</td>\n",
       "      <td>04</td>\n",
       "      <td>7211.0</td>\n",
       "      <td>42.550000</td>\n",
       "      <td>1.516667</td>\n",
       "    </tr>\n",
       "    <tr>\n",
       "      <th>53</th>\n",
       "      <td>ad</td>\n",
       "      <td>les escaldes</td>\n",
       "      <td>Les Escaldes</td>\n",
       "      <td>08</td>\n",
       "      <td>15854.0</td>\n",
       "      <td>42.500000</td>\n",
       "      <td>1.533333</td>\n",
       "    </tr>\n",
       "  </tbody>\n",
       "</table>\n",
       "</div>"
      ],
      "text/plain": [
       "   Country              City        City_local Region  Population   Latitude  \\\n",
       "6       ad  andorra la vella  Andorra la Vella     07     20430.0  42.500000   \n",
       "20      ad           canillo           Canillo     02      3292.0  42.566667   \n",
       "32      ad            encamp            Encamp     03     11224.0  42.533333   \n",
       "49      ad        la massana        La Massana     04      7211.0  42.550000   \n",
       "53      ad      les escaldes      Les Escaldes     08     15854.0  42.500000   \n",
       "\n",
       "    Longitude  \n",
       "6    1.516667  \n",
       "20   1.600000  \n",
       "32   1.583333  \n",
       "49   1.516667  \n",
       "53   1.533333  "
      ]
     },
     "execution_count": 8,
     "metadata": {},
     "output_type": "execute_result"
    }
   ],
   "source": [
    "# Drop the rows where at least one element is missing.\n",
    "df_clean_rows = df.dropna()\n",
    "df_clean_rows.head()"
   ]
  },
  {
   "cell_type": "code",
   "execution_count": 9,
   "metadata": {
    "hidden": true
   },
   "outputs": [
    {
     "data": {
      "text/plain": [
       "(47003, 7)"
      ]
     },
     "execution_count": 9,
     "metadata": {},
     "output_type": "execute_result"
    }
   ],
   "source": [
    "df_clean_rows.shape"
   ]
  },
  {
   "cell_type": "code",
   "execution_count": 10,
   "metadata": {
    "hidden": true
   },
   "outputs": [
    {
     "data": {
      "text/html": [
       "<div>\n",
       "<style scoped>\n",
       "    .dataframe tbody tr th:only-of-type {\n",
       "        vertical-align: middle;\n",
       "    }\n",
       "\n",
       "    .dataframe tbody tr th {\n",
       "        vertical-align: top;\n",
       "    }\n",
       "\n",
       "    .dataframe thead th {\n",
       "        text-align: right;\n",
       "    }\n",
       "</style>\n",
       "<table border=\"1\" class=\"dataframe\">\n",
       "  <thead>\n",
       "    <tr style=\"text-align: right;\">\n",
       "      <th></th>\n",
       "      <th>Country</th>\n",
       "      <th>City_local</th>\n",
       "      <th>Latitude</th>\n",
       "      <th>Longitude</th>\n",
       "    </tr>\n",
       "  </thead>\n",
       "  <tbody>\n",
       "    <tr>\n",
       "      <th>0</th>\n",
       "      <td>ad</td>\n",
       "      <td>Aixàs</td>\n",
       "      <td>42.483333</td>\n",
       "      <td>1.466667</td>\n",
       "    </tr>\n",
       "    <tr>\n",
       "      <th>1</th>\n",
       "      <td>ad</td>\n",
       "      <td>Aixirivali</td>\n",
       "      <td>42.466667</td>\n",
       "      <td>1.500000</td>\n",
       "    </tr>\n",
       "    <tr>\n",
       "      <th>2</th>\n",
       "      <td>ad</td>\n",
       "      <td>Aixirivall</td>\n",
       "      <td>42.466667</td>\n",
       "      <td>1.500000</td>\n",
       "    </tr>\n",
       "    <tr>\n",
       "      <th>3</th>\n",
       "      <td>ad</td>\n",
       "      <td>Aixirvall</td>\n",
       "      <td>42.466667</td>\n",
       "      <td>1.500000</td>\n",
       "    </tr>\n",
       "    <tr>\n",
       "      <th>4</th>\n",
       "      <td>ad</td>\n",
       "      <td>Aixovall</td>\n",
       "      <td>42.466667</td>\n",
       "      <td>1.483333</td>\n",
       "    </tr>\n",
       "  </tbody>\n",
       "</table>\n",
       "</div>"
      ],
      "text/plain": [
       "  Country  City_local   Latitude  Longitude\n",
       "0      ad       Aixàs  42.483333   1.466667\n",
       "1      ad  Aixirivali  42.466667   1.500000\n",
       "2      ad  Aixirivall  42.466667   1.500000\n",
       "3      ad   Aixirvall  42.466667   1.500000\n",
       "4      ad    Aixovall  42.466667   1.483333"
      ]
     },
     "execution_count": 10,
     "metadata": {},
     "output_type": "execute_result"
    }
   ],
   "source": [
    "# Drop the columns where at least one element is missing.\n",
    "df_clean_cols = df.dropna(axis=\"columns\")\n",
    "df_clean_cols.head()"
   ]
  },
  {
   "cell_type": "code",
   "execution_count": 11,
   "metadata": {
    "hidden": true
   },
   "outputs": [
    {
     "data": {
      "text/plain": [
       "(2699354, 4)"
      ]
     },
     "execution_count": 11,
     "metadata": {},
     "output_type": "execute_result"
    }
   ],
   "source": [
    "df_clean_cols.shape"
   ]
  },
  {
   "cell_type": "code",
   "execution_count": 12,
   "metadata": {
    "hidden": true
   },
   "outputs": [
    {
     "data": {
      "text/plain": [
       "0"
      ]
     },
     "execution_count": 12,
     "metadata": {},
     "output_type": "execute_result"
    }
   ],
   "source": [
    "df.shape[0] - df_clean_cols.shape[0]"
   ]
  },
  {
   "cell_type": "markdown",
   "metadata": {
    "hidden": true
   },
   "source": [
    "* Filling Missing Values"
   ]
  },
  {
   "cell_type": "code",
   "execution_count": 13,
   "metadata": {
    "hidden": true
   },
   "outputs": [],
   "source": [
    "# Fill the missing population rows with the minimum population in the dataset\n",
    "df_filled = df.copy()\n",
    "df_filled['Population'] = df_filled['Population'].fillna(df_filled['Population'].min())"
   ]
  },
  {
   "cell_type": "code",
   "execution_count": 14,
   "metadata": {
    "hidden": true
   },
   "outputs": [
    {
     "data": {
      "text/plain": [
       "Country       False\n",
       "City           True\n",
       "City_local    False\n",
       "Region         True\n",
       "Population    False\n",
       "Latitude      False\n",
       "Longitude     False\n",
       "dtype: bool"
      ]
     },
     "execution_count": 14,
     "metadata": {},
     "output_type": "execute_result"
    }
   ],
   "source": [
    "df_filled.isnull().any()"
   ]
  },
  {
   "cell_type": "markdown",
   "metadata": {
    "heading_collapsed": true
   },
   "source": [
    "## 2. Selecting Subsets"
   ]
  },
  {
   "cell_type": "code",
   "execution_count": 15,
   "metadata": {
    "hidden": true
   },
   "outputs": [
    {
     "data": {
      "text/html": [
       "<div>\n",
       "<style scoped>\n",
       "    .dataframe tbody tr th:only-of-type {\n",
       "        vertical-align: middle;\n",
       "    }\n",
       "\n",
       "    .dataframe tbody tr th {\n",
       "        vertical-align: top;\n",
       "    }\n",
       "\n",
       "    .dataframe thead th {\n",
       "        text-align: right;\n",
       "    }\n",
       "</style>\n",
       "<table border=\"1\" class=\"dataframe\">\n",
       "  <thead>\n",
       "    <tr style=\"text-align: right;\">\n",
       "      <th></th>\n",
       "      <th>City</th>\n",
       "      <th>Population</th>\n",
       "    </tr>\n",
       "  </thead>\n",
       "  <tbody>\n",
       "    <tr>\n",
       "      <th>0</th>\n",
       "      <td>aixas</td>\n",
       "      <td>NaN</td>\n",
       "    </tr>\n",
       "    <tr>\n",
       "      <th>1</th>\n",
       "      <td>aixirivali</td>\n",
       "      <td>NaN</td>\n",
       "    </tr>\n",
       "    <tr>\n",
       "      <th>2</th>\n",
       "      <td>aixirivall</td>\n",
       "      <td>NaN</td>\n",
       "    </tr>\n",
       "    <tr>\n",
       "      <th>3</th>\n",
       "      <td>aixirvall</td>\n",
       "      <td>NaN</td>\n",
       "    </tr>\n",
       "    <tr>\n",
       "      <th>4</th>\n",
       "      <td>aixovall</td>\n",
       "      <td>NaN</td>\n",
       "    </tr>\n",
       "    <tr>\n",
       "      <th>5</th>\n",
       "      <td>andorra</td>\n",
       "      <td>NaN</td>\n",
       "    </tr>\n",
       "    <tr>\n",
       "      <th>6</th>\n",
       "      <td>andorra la vella</td>\n",
       "      <td>20430.0</td>\n",
       "    </tr>\n",
       "  </tbody>\n",
       "</table>\n",
       "</div>"
      ],
      "text/plain": [
       "               City  Population\n",
       "0             aixas         NaN\n",
       "1        aixirivali         NaN\n",
       "2        aixirivall         NaN\n",
       "3         aixirvall         NaN\n",
       "4          aixovall         NaN\n",
       "5           andorra         NaN\n",
       "6  andorra la vella     20430.0"
      ]
     },
     "execution_count": 15,
     "metadata": {},
     "output_type": "execute_result"
    }
   ],
   "source": [
    "# Columns\n",
    "df_subset = df[['City', 'Population']]\n",
    "df_subset.head(7)"
   ]
  },
  {
   "cell_type": "code",
   "execution_count": 16,
   "metadata": {
    "hidden": true
   },
   "outputs": [
    {
     "data": {
      "text/html": [
       "<div>\n",
       "<style scoped>\n",
       "    .dataframe tbody tr th:only-of-type {\n",
       "        vertical-align: middle;\n",
       "    }\n",
       "\n",
       "    .dataframe tbody tr th {\n",
       "        vertical-align: top;\n",
       "    }\n",
       "\n",
       "    .dataframe thead th {\n",
       "        text-align: right;\n",
       "    }\n",
       "</style>\n",
       "<table border=\"1\" class=\"dataframe\">\n",
       "  <thead>\n",
       "    <tr style=\"text-align: right;\">\n",
       "      <th></th>\n",
       "      <th>Country</th>\n",
       "      <th>City</th>\n",
       "      <th>City_local</th>\n",
       "      <th>Region</th>\n",
       "      <th>Population</th>\n",
       "      <th>Latitude</th>\n",
       "      <th>Longitude</th>\n",
       "    </tr>\n",
       "  </thead>\n",
       "  <tbody>\n",
       "    <tr>\n",
       "      <th>269851</th>\n",
       "      <td>br</td>\n",
       "      <td>sao paulo</td>\n",
       "      <td>São Paulo</td>\n",
       "      <td>27</td>\n",
       "      <td>10021437.0</td>\n",
       "      <td>-23.533333</td>\n",
       "      <td>-46.616667</td>\n",
       "    </tr>\n",
       "    <tr>\n",
       "      <th>437672</th>\n",
       "      <td>cn</td>\n",
       "      <td>shanghai</td>\n",
       "      <td>Shanghai</td>\n",
       "      <td>23</td>\n",
       "      <td>14608512.0</td>\n",
       "      <td>31.005000</td>\n",
       "      <td>121.408611</td>\n",
       "    </tr>\n",
       "    <tr>\n",
       "      <th>1024396</th>\n",
       "      <td>in</td>\n",
       "      <td>bombay</td>\n",
       "      <td>Bombay</td>\n",
       "      <td>16</td>\n",
       "      <td>12692717.0</td>\n",
       "      <td>18.975000</td>\n",
       "      <td>72.825833</td>\n",
       "    </tr>\n",
       "    <tr>\n",
       "      <th>1027128</th>\n",
       "      <td>in</td>\n",
       "      <td>delhi</td>\n",
       "      <td>Delhi</td>\n",
       "      <td>07</td>\n",
       "      <td>10928270.0</td>\n",
       "      <td>28.666667</td>\n",
       "      <td>77.216667</td>\n",
       "    </tr>\n",
       "    <tr>\n",
       "      <th>1041387</th>\n",
       "      <td>in</td>\n",
       "      <td>new delhi</td>\n",
       "      <td>New Delhi</td>\n",
       "      <td>07</td>\n",
       "      <td>10928270.0</td>\n",
       "      <td>28.600000</td>\n",
       "      <td>77.200000</td>\n",
       "    </tr>\n",
       "    <tr>\n",
       "      <th>1217910</th>\n",
       "      <td>jp</td>\n",
       "      <td>tokyo</td>\n",
       "      <td>Tokyo</td>\n",
       "      <td>40</td>\n",
       "      <td>31480498.0</td>\n",
       "      <td>35.685000</td>\n",
       "      <td>139.751389</td>\n",
       "    </tr>\n",
       "    <tr>\n",
       "      <th>1285134</th>\n",
       "      <td>kr</td>\n",
       "      <td>seoul</td>\n",
       "      <td>Seoul</td>\n",
       "      <td>11</td>\n",
       "      <td>10323448.0</td>\n",
       "      <td>37.566389</td>\n",
       "      <td>126.999722</td>\n",
       "    </tr>\n",
       "    <tr>\n",
       "      <th>1759460</th>\n",
       "      <td>ph</td>\n",
       "      <td>manila</td>\n",
       "      <td>Manila</td>\n",
       "      <td>D9</td>\n",
       "      <td>10443877.0</td>\n",
       "      <td>14.604167</td>\n",
       "      <td>120.982222</td>\n",
       "    </tr>\n",
       "    <tr>\n",
       "      <th>1812035</th>\n",
       "      <td>pk</td>\n",
       "      <td>karachi</td>\n",
       "      <td>Karachi</td>\n",
       "      <td>05</td>\n",
       "      <td>11627378.0</td>\n",
       "      <td>24.866667</td>\n",
       "      <td>67.050000</td>\n",
       "    </tr>\n",
       "    <tr>\n",
       "      <th>2048592</th>\n",
       "      <td>ru</td>\n",
       "      <td>moscow</td>\n",
       "      <td>Moscow</td>\n",
       "      <td>48</td>\n",
       "      <td>10381288.0</td>\n",
       "      <td>55.752222</td>\n",
       "      <td>37.615556</td>\n",
       "    </tr>\n",
       "  </tbody>\n",
       "</table>\n",
       "</div>"
      ],
      "text/plain": [
       "        Country       City City_local Region  Population   Latitude  \\\n",
       "269851       br  sao paulo  São Paulo     27  10021437.0 -23.533333   \n",
       "437672       cn   shanghai   Shanghai     23  14608512.0  31.005000   \n",
       "1024396      in     bombay     Bombay     16  12692717.0  18.975000   \n",
       "1027128      in      delhi      Delhi     07  10928270.0  28.666667   \n",
       "1041387      in  new delhi  New Delhi     07  10928270.0  28.600000   \n",
       "1217910      jp      tokyo      Tokyo     40  31480498.0  35.685000   \n",
       "1285134      kr      seoul      Seoul     11  10323448.0  37.566389   \n",
       "1759460      ph     manila     Manila     D9  10443877.0  14.604167   \n",
       "1812035      pk    karachi    Karachi     05  11627378.0  24.866667   \n",
       "2048592      ru     moscow     Moscow     48  10381288.0  55.752222   \n",
       "\n",
       "          Longitude  \n",
       "269851   -46.616667  \n",
       "437672   121.408611  \n",
       "1024396   72.825833  \n",
       "1027128   77.216667  \n",
       "1041387   77.200000  \n",
       "1217910  139.751389  \n",
       "1285134  126.999722  \n",
       "1759460  120.982222  \n",
       "1812035   67.050000  \n",
       "2048592   37.615556  "
      ]
     },
     "execution_count": 16,
     "metadata": {},
     "output_type": "execute_result"
    }
   ],
   "source": [
    "# ROws\n",
    "pop_greater_10m = df[df['Population'] > 10000000]\n",
    "pop_greater_10m"
   ]
  },
  {
   "cell_type": "code",
   "execution_count": 17,
   "metadata": {
    "hidden": true
   },
   "outputs": [],
   "source": [
    "pop_10m_sorted = pop_greater_10m.sort_values(by='Population', ascending=False)"
   ]
  },
  {
   "cell_type": "code",
   "execution_count": 18,
   "metadata": {
    "hidden": true
   },
   "outputs": [
    {
     "data": {
      "text/html": [
       "<div>\n",
       "<style scoped>\n",
       "    .dataframe tbody tr th:only-of-type {\n",
       "        vertical-align: middle;\n",
       "    }\n",
       "\n",
       "    .dataframe tbody tr th {\n",
       "        vertical-align: top;\n",
       "    }\n",
       "\n",
       "    .dataframe thead th {\n",
       "        text-align: right;\n",
       "    }\n",
       "</style>\n",
       "<table border=\"1\" class=\"dataframe\">\n",
       "  <thead>\n",
       "    <tr style=\"text-align: right;\">\n",
       "      <th></th>\n",
       "      <th>Country</th>\n",
       "      <th>City</th>\n",
       "      <th>City_local</th>\n",
       "      <th>Region</th>\n",
       "      <th>Population</th>\n",
       "      <th>Latitude</th>\n",
       "      <th>Longitude</th>\n",
       "    </tr>\n",
       "  </thead>\n",
       "  <tbody>\n",
       "    <tr>\n",
       "      <th>1217910</th>\n",
       "      <td>jp</td>\n",
       "      <td>tokyo</td>\n",
       "      <td>Tokyo</td>\n",
       "      <td>40</td>\n",
       "      <td>31480498.0</td>\n",
       "      <td>35.685</td>\n",
       "      <td>139.751389</td>\n",
       "    </tr>\n",
       "    <tr>\n",
       "      <th>437672</th>\n",
       "      <td>cn</td>\n",
       "      <td>shanghai</td>\n",
       "      <td>Shanghai</td>\n",
       "      <td>23</td>\n",
       "      <td>14608512.0</td>\n",
       "      <td>31.005</td>\n",
       "      <td>121.408611</td>\n",
       "    </tr>\n",
       "    <tr>\n",
       "      <th>1024396</th>\n",
       "      <td>in</td>\n",
       "      <td>bombay</td>\n",
       "      <td>Bombay</td>\n",
       "      <td>16</td>\n",
       "      <td>12692717.0</td>\n",
       "      <td>18.975</td>\n",
       "      <td>72.825833</td>\n",
       "    </tr>\n",
       "  </tbody>\n",
       "</table>\n",
       "</div>"
      ],
      "text/plain": [
       "        Country      City City_local Region  Population  Latitude   Longitude\n",
       "1217910      jp     tokyo      Tokyo     40  31480498.0    35.685  139.751389\n",
       "437672       cn  shanghai   Shanghai     23  14608512.0    31.005  121.408611\n",
       "1024396      in    bombay     Bombay     16  12692717.0    18.975   72.825833"
      ]
     },
     "execution_count": 18,
     "metadata": {},
     "output_type": "execute_result"
    }
   ],
   "source": [
    "pop_10m_sorted[:3]"
   ]
  },
  {
   "cell_type": "markdown",
   "metadata": {
    "heading_collapsed": true
   },
   "source": [
    "## 3. Delete Columns"
   ]
  },
  {
   "cell_type": "code",
   "execution_count": 19,
   "metadata": {
    "hidden": true
   },
   "outputs": [
    {
     "data": {
      "text/html": [
       "<div>\n",
       "<style scoped>\n",
       "    .dataframe tbody tr th:only-of-type {\n",
       "        vertical-align: middle;\n",
       "    }\n",
       "\n",
       "    .dataframe tbody tr th {\n",
       "        vertical-align: top;\n",
       "    }\n",
       "\n",
       "    .dataframe thead th {\n",
       "        text-align: right;\n",
       "    }\n",
       "</style>\n",
       "<table border=\"1\" class=\"dataframe\">\n",
       "  <thead>\n",
       "    <tr style=\"text-align: right;\">\n",
       "      <th></th>\n",
       "      <th>Country</th>\n",
       "      <th>City</th>\n",
       "      <th>City_local</th>\n",
       "      <th>Region</th>\n",
       "      <th>Population</th>\n",
       "    </tr>\n",
       "  </thead>\n",
       "  <tbody>\n",
       "    <tr>\n",
       "      <th>269851</th>\n",
       "      <td>br</td>\n",
       "      <td>sao paulo</td>\n",
       "      <td>São Paulo</td>\n",
       "      <td>27</td>\n",
       "      <td>10021437.0</td>\n",
       "    </tr>\n",
       "    <tr>\n",
       "      <th>437672</th>\n",
       "      <td>cn</td>\n",
       "      <td>shanghai</td>\n",
       "      <td>Shanghai</td>\n",
       "      <td>23</td>\n",
       "      <td>14608512.0</td>\n",
       "    </tr>\n",
       "  </tbody>\n",
       "</table>\n",
       "</div>"
      ],
      "text/plain": [
       "       Country       City City_local Region  Population\n",
       "269851      br  sao paulo  São Paulo     27  10021437.0\n",
       "437672      cn   shanghai   Shanghai     23  14608512.0"
      ]
     },
     "execution_count": 19,
     "metadata": {},
     "output_type": "execute_result"
    }
   ],
   "source": [
    "pop_greater_10m.drop(['Latitude', 'Longitude'], axis=1).head(2)"
   ]
  },
  {
   "cell_type": "code",
   "execution_count": 20,
   "metadata": {
    "hidden": true
   },
   "outputs": [
    {
     "data": {
      "text/html": [
       "<div>\n",
       "<style scoped>\n",
       "    .dataframe tbody tr th:only-of-type {\n",
       "        vertical-align: middle;\n",
       "    }\n",
       "\n",
       "    .dataframe tbody tr th {\n",
       "        vertical-align: top;\n",
       "    }\n",
       "\n",
       "    .dataframe thead th {\n",
       "        text-align: right;\n",
       "    }\n",
       "</style>\n",
       "<table border=\"1\" class=\"dataframe\">\n",
       "  <thead>\n",
       "    <tr style=\"text-align: right;\">\n",
       "      <th></th>\n",
       "      <th>Country</th>\n",
       "      <th>City</th>\n",
       "      <th>Region</th>\n",
       "      <th>Population</th>\n",
       "      <th>Latitude</th>\n",
       "      <th>Longitude</th>\n",
       "    </tr>\n",
       "  </thead>\n",
       "  <tbody>\n",
       "    <tr>\n",
       "      <th>269851</th>\n",
       "      <td>br</td>\n",
       "      <td>sao paulo</td>\n",
       "      <td>27</td>\n",
       "      <td>10021437.0</td>\n",
       "      <td>-23.533333</td>\n",
       "      <td>-46.616667</td>\n",
       "    </tr>\n",
       "    <tr>\n",
       "      <th>437672</th>\n",
       "      <td>cn</td>\n",
       "      <td>shanghai</td>\n",
       "      <td>23</td>\n",
       "      <td>14608512.0</td>\n",
       "      <td>31.005000</td>\n",
       "      <td>121.408611</td>\n",
       "    </tr>\n",
       "  </tbody>\n",
       "</table>\n",
       "</div>"
      ],
      "text/plain": [
       "       Country       City Region  Population   Latitude   Longitude\n",
       "269851      br  sao paulo     27  10021437.0 -23.533333  -46.616667\n",
       "437672      cn   shanghai     23  14608512.0  31.005000  121.408611"
      ]
     },
     "execution_count": 20,
     "metadata": {},
     "output_type": "execute_result"
    }
   ],
   "source": [
    "del pop_greater_10m['City_local']\n",
    "pop_greater_10m.head(2)"
   ]
  },
  {
   "cell_type": "code",
   "execution_count": 21,
   "metadata": {
    "hidden": true
   },
   "outputs": [
    {
     "data": {
      "text/html": [
       "<div>\n",
       "<style scoped>\n",
       "    .dataframe tbody tr th:only-of-type {\n",
       "        vertical-align: middle;\n",
       "    }\n",
       "\n",
       "    .dataframe tbody tr th {\n",
       "        vertical-align: top;\n",
       "    }\n",
       "\n",
       "    .dataframe thead th {\n",
       "        text-align: right;\n",
       "    }\n",
       "</style>\n",
       "<table border=\"1\" class=\"dataframe\">\n",
       "  <thead>\n",
       "    <tr style=\"text-align: right;\">\n",
       "      <th></th>\n",
       "      <th>Country</th>\n",
       "      <th>City</th>\n",
       "      <th>Region</th>\n",
       "      <th>Population</th>\n",
       "      <th>Latitude</th>\n",
       "      <th>Longitude</th>\n",
       "    </tr>\n",
       "  </thead>\n",
       "  <tbody>\n",
       "    <tr>\n",
       "      <th>269851</th>\n",
       "      <td>br</td>\n",
       "      <td>sao paulo</td>\n",
       "      <td>27</td>\n",
       "      <td>10021437.0</td>\n",
       "      <td>-23.533333</td>\n",
       "      <td>-46.616667</td>\n",
       "    </tr>\n",
       "    <tr>\n",
       "      <th>437672</th>\n",
       "      <td>cn</td>\n",
       "      <td>shanghai</td>\n",
       "      <td>23</td>\n",
       "      <td>14608512.0</td>\n",
       "      <td>31.005000</td>\n",
       "      <td>121.408611</td>\n",
       "    </tr>\n",
       "    <tr>\n",
       "      <th>1024396</th>\n",
       "      <td>in</td>\n",
       "      <td>bombay</td>\n",
       "      <td>16</td>\n",
       "      <td>12692717.0</td>\n",
       "      <td>18.975000</td>\n",
       "      <td>72.825833</td>\n",
       "    </tr>\n",
       "    <tr>\n",
       "      <th>1027128</th>\n",
       "      <td>in</td>\n",
       "      <td>delhi</td>\n",
       "      <td>07</td>\n",
       "      <td>10928270.0</td>\n",
       "      <td>28.666667</td>\n",
       "      <td>77.216667</td>\n",
       "    </tr>\n",
       "    <tr>\n",
       "      <th>1041387</th>\n",
       "      <td>in</td>\n",
       "      <td>new delhi</td>\n",
       "      <td>07</td>\n",
       "      <td>10928270.0</td>\n",
       "      <td>28.600000</td>\n",
       "      <td>77.200000</td>\n",
       "    </tr>\n",
       "    <tr>\n",
       "      <th>1217910</th>\n",
       "      <td>jp</td>\n",
       "      <td>tokyo</td>\n",
       "      <td>40</td>\n",
       "      <td>31480498.0</td>\n",
       "      <td>35.685000</td>\n",
       "      <td>139.751389</td>\n",
       "    </tr>\n",
       "    <tr>\n",
       "      <th>1285134</th>\n",
       "      <td>kr</td>\n",
       "      <td>seoul</td>\n",
       "      <td>11</td>\n",
       "      <td>10323448.0</td>\n",
       "      <td>37.566389</td>\n",
       "      <td>126.999722</td>\n",
       "    </tr>\n",
       "    <tr>\n",
       "      <th>1759460</th>\n",
       "      <td>ph</td>\n",
       "      <td>manila</td>\n",
       "      <td>D9</td>\n",
       "      <td>10443877.0</td>\n",
       "      <td>14.604167</td>\n",
       "      <td>120.982222</td>\n",
       "    </tr>\n",
       "    <tr>\n",
       "      <th>1812035</th>\n",
       "      <td>pk</td>\n",
       "      <td>karachi</td>\n",
       "      <td>05</td>\n",
       "      <td>11627378.0</td>\n",
       "      <td>24.866667</td>\n",
       "      <td>67.050000</td>\n",
       "    </tr>\n",
       "    <tr>\n",
       "      <th>2048592</th>\n",
       "      <td>ru</td>\n",
       "      <td>moscow</td>\n",
       "      <td>48</td>\n",
       "      <td>10381288.0</td>\n",
       "      <td>55.752222</td>\n",
       "      <td>37.615556</td>\n",
       "    </tr>\n",
       "  </tbody>\n",
       "</table>\n",
       "</div>"
      ],
      "text/plain": [
       "        Country       City Region  Population   Latitude   Longitude\n",
       "269851       br  sao paulo     27  10021437.0 -23.533333  -46.616667\n",
       "437672       cn   shanghai     23  14608512.0  31.005000  121.408611\n",
       "1024396      in     bombay     16  12692717.0  18.975000   72.825833\n",
       "1027128      in      delhi     07  10928270.0  28.666667   77.216667\n",
       "1041387      in  new delhi     07  10928270.0  28.600000   77.200000\n",
       "1217910      jp      tokyo     40  31480498.0  35.685000  139.751389\n",
       "1285134      kr      seoul     11  10323448.0  37.566389  126.999722\n",
       "1759460      ph     manila     D9  10443877.0  14.604167  120.982222\n",
       "1812035      pk    karachi     05  11627378.0  24.866667   67.050000\n",
       "2048592      ru     moscow     48  10381288.0  55.752222   37.615556"
      ]
     },
     "execution_count": 21,
     "metadata": {},
     "output_type": "execute_result"
    }
   ],
   "source": [
    "\n",
    "pop_greater_10m"
   ]
  },
  {
   "cell_type": "code",
   "execution_count": 22,
   "metadata": {
    "hidden": true
   },
   "outputs": [
    {
     "data": {
      "text/html": [
       "<div>\n",
       "<style scoped>\n",
       "    .dataframe tbody tr th:only-of-type {\n",
       "        vertical-align: middle;\n",
       "    }\n",
       "\n",
       "    .dataframe tbody tr th {\n",
       "        vertical-align: top;\n",
       "    }\n",
       "\n",
       "    .dataframe thead th {\n",
       "        text-align: right;\n",
       "    }\n",
       "</style>\n",
       "<table border=\"1\" class=\"dataframe\">\n",
       "  <thead>\n",
       "    <tr style=\"text-align: right;\">\n",
       "      <th></th>\n",
       "      <th>Country</th>\n",
       "      <th>City</th>\n",
       "      <th>Region</th>\n",
       "      <th>Population</th>\n",
       "      <th>Latitude</th>\n",
       "      <th>Longitude</th>\n",
       "    </tr>\n",
       "  </thead>\n",
       "  <tbody>\n",
       "    <tr>\n",
       "      <th>269851</th>\n",
       "      <td>br</td>\n",
       "      <td>sao paulo</td>\n",
       "      <td>27</td>\n",
       "      <td>10021437.0</td>\n",
       "      <td>-23.533333</td>\n",
       "      <td>-46.616667</td>\n",
       "    </tr>\n",
       "    <tr>\n",
       "      <th>437672</th>\n",
       "      <td>cn</td>\n",
       "      <td>shanghai</td>\n",
       "      <td>23</td>\n",
       "      <td>14608512.0</td>\n",
       "      <td>31.005000</td>\n",
       "      <td>121.408611</td>\n",
       "    </tr>\n",
       "    <tr>\n",
       "      <th>1024396</th>\n",
       "      <td>in</td>\n",
       "      <td>bombay</td>\n",
       "      <td>16</td>\n",
       "      <td>12692717.0</td>\n",
       "      <td>18.975000</td>\n",
       "      <td>72.825833</td>\n",
       "    </tr>\n",
       "    <tr>\n",
       "      <th>1812035</th>\n",
       "      <td>pk</td>\n",
       "      <td>karachi</td>\n",
       "      <td>05</td>\n",
       "      <td>11627378.0</td>\n",
       "      <td>24.866667</td>\n",
       "      <td>67.050000</td>\n",
       "    </tr>\n",
       "    <tr>\n",
       "      <th>2048592</th>\n",
       "      <td>ru</td>\n",
       "      <td>moscow</td>\n",
       "      <td>48</td>\n",
       "      <td>10381288.0</td>\n",
       "      <td>55.752222</td>\n",
       "      <td>37.615556</td>\n",
       "    </tr>\n",
       "  </tbody>\n",
       "</table>\n",
       "</div>"
      ],
      "text/plain": [
       "        Country       City Region  Population   Latitude   Longitude\n",
       "269851       br  sao paulo     27  10021437.0 -23.533333  -46.616667\n",
       "437672       cn   shanghai     23  14608512.0  31.005000  121.408611\n",
       "1024396      in     bombay     16  12692717.0  18.975000   72.825833\n",
       "1812035      pk    karachi     05  11627378.0  24.866667   67.050000\n",
       "2048592      ru     moscow     48  10381288.0  55.752222   37.615556"
      ]
     },
     "execution_count": 22,
     "metadata": {},
     "output_type": "execute_result"
    }
   ],
   "source": [
    "pop_greater_10m.drop(pop_greater_10m.index[3:8])\n"
   ]
  },
  {
   "cell_type": "markdown",
   "metadata": {
    "heading_collapsed": true
   },
   "source": [
    "## 4. Inserting Rows and Columns"
   ]
  },
  {
   "cell_type": "code",
   "execution_count": 23,
   "metadata": {
    "hidden": true
   },
   "outputs": [
    {
     "data": {
      "text/html": [
       "<div>\n",
       "<style scoped>\n",
       "    .dataframe tbody tr th:only-of-type {\n",
       "        vertical-align: middle;\n",
       "    }\n",
       "\n",
       "    .dataframe tbody tr th {\n",
       "        vertical-align: top;\n",
       "    }\n",
       "\n",
       "    .dataframe thead th {\n",
       "        text-align: right;\n",
       "    }\n",
       "</style>\n",
       "<table border=\"1\" class=\"dataframe\">\n",
       "  <thead>\n",
       "    <tr style=\"text-align: right;\">\n",
       "      <th></th>\n",
       "      <th>Country</th>\n",
       "      <th>City</th>\n",
       "      <th>Region</th>\n",
       "      <th>Population</th>\n",
       "      <th>Latitude</th>\n",
       "      <th>Longitude</th>\n",
       "    </tr>\n",
       "  </thead>\n",
       "  <tbody>\n",
       "    <tr>\n",
       "      <th>269851</th>\n",
       "      <td>br</td>\n",
       "      <td>sao paulo</td>\n",
       "      <td>27</td>\n",
       "      <td>10021437.0</td>\n",
       "      <td>-23.533333</td>\n",
       "      <td>-46.616667</td>\n",
       "    </tr>\n",
       "    <tr>\n",
       "      <th>437672</th>\n",
       "      <td>cn</td>\n",
       "      <td>shanghai</td>\n",
       "      <td>23</td>\n",
       "      <td>14608512.0</td>\n",
       "      <td>31.005000</td>\n",
       "      <td>121.408611</td>\n",
       "    </tr>\n",
       "    <tr>\n",
       "      <th>1024396</th>\n",
       "      <td>in</td>\n",
       "      <td>bombay</td>\n",
       "      <td>16</td>\n",
       "      <td>12692717.0</td>\n",
       "      <td>18.975000</td>\n",
       "      <td>72.825833</td>\n",
       "    </tr>\n",
       "    <tr>\n",
       "      <th>1027128</th>\n",
       "      <td>in</td>\n",
       "      <td>delhi</td>\n",
       "      <td>07</td>\n",
       "      <td>10928270.0</td>\n",
       "      <td>28.666667</td>\n",
       "      <td>77.216667</td>\n",
       "    </tr>\n",
       "    <tr>\n",
       "      <th>1041387</th>\n",
       "      <td>in</td>\n",
       "      <td>new delhi</td>\n",
       "      <td>07</td>\n",
       "      <td>10928270.0</td>\n",
       "      <td>28.600000</td>\n",
       "      <td>77.200000</td>\n",
       "    </tr>\n",
       "  </tbody>\n",
       "</table>\n",
       "</div>"
      ],
      "text/plain": [
       "        Country       City Region  Population   Latitude   Longitude\n",
       "269851       br  sao paulo     27  10021437.0 -23.533333  -46.616667\n",
       "437672       cn   shanghai     23  14608512.0  31.005000  121.408611\n",
       "1024396      in     bombay     16  12692717.0  18.975000   72.825833\n",
       "1027128      in      delhi     07  10928270.0  28.666667   77.216667\n",
       "1041387      in  new delhi     07  10928270.0  28.600000   77.200000"
      ]
     },
     "execution_count": 23,
     "metadata": {},
     "output_type": "execute_result"
    }
   ],
   "source": [
    "pop_greater_10m.head()"
   ]
  },
  {
   "cell_type": "code",
   "execution_count": 24,
   "metadata": {
    "hidden": true
   },
   "outputs": [
    {
     "name": "stderr",
     "output_type": "stream",
     "text": [
      "C:\\Users\\Shakur\\Anaconda3\\envs\\geo\\lib\\site-packages\\pandas\\core\\indexing.py:845: SettingWithCopyWarning: \n",
      "A value is trying to be set on a copy of a slice from a DataFrame.\n",
      "Try using .loc[row_indexer,col_indexer] = value instead\n",
      "\n",
      "See the caveats in the documentation: https://pandas.pydata.org/pandas-docs/stable/user_guide/indexing.html#returning-a-view-versus-a-copy\n",
      "  self.obj[key] = _infer_fill_value(value)\n",
      "C:\\Users\\Shakur\\Anaconda3\\envs\\geo\\lib\\site-packages\\pandas\\core\\indexing.py:966: SettingWithCopyWarning: \n",
      "A value is trying to be set on a copy of a slice from a DataFrame.\n",
      "Try using .loc[row_indexer,col_indexer] = value instead\n",
      "\n",
      "See the caveats in the documentation: https://pandas.pydata.org/pandas-docs/stable/user_guide/indexing.html#returning-a-view-versus-a-copy\n",
      "  self.obj[item] = s\n"
     ]
    }
   ],
   "source": [
    "countries = ['Brazil', 'China', 'India', 'India', 'India', 'Japan', 'South Korea', 'Philippines', 'Pakistan', 'Rusia']\n",
    "pop_greater_10m.loc[:, 'CountryName'] = countries"
   ]
  },
  {
   "cell_type": "code",
   "execution_count": 27,
   "metadata": {
    "hidden": true
   },
   "outputs": [
    {
     "data": {
      "text/html": [
       "<div>\n",
       "<style scoped>\n",
       "    .dataframe tbody tr th:only-of-type {\n",
       "        vertical-align: middle;\n",
       "    }\n",
       "\n",
       "    .dataframe tbody tr th {\n",
       "        vertical-align: top;\n",
       "    }\n",
       "\n",
       "    .dataframe thead th {\n",
       "        text-align: right;\n",
       "    }\n",
       "</style>\n",
       "<table border=\"1\" class=\"dataframe\">\n",
       "  <thead>\n",
       "    <tr style=\"text-align: right;\">\n",
       "      <th></th>\n",
       "      <th>Country</th>\n",
       "      <th>City</th>\n",
       "      <th>Region</th>\n",
       "      <th>Population</th>\n",
       "      <th>Latitude</th>\n",
       "      <th>Longitude</th>\n",
       "      <th>CountryName</th>\n",
       "    </tr>\n",
       "  </thead>\n",
       "  <tbody>\n",
       "    <tr>\n",
       "      <th>269851</th>\n",
       "      <td>br</td>\n",
       "      <td>sao paulo</td>\n",
       "      <td>27</td>\n",
       "      <td>10021437.0</td>\n",
       "      <td>-23.533333</td>\n",
       "      <td>-46.616667</td>\n",
       "      <td>Brazil</td>\n",
       "    </tr>\n",
       "    <tr>\n",
       "      <th>437672</th>\n",
       "      <td>cn</td>\n",
       "      <td>shanghai</td>\n",
       "      <td>23</td>\n",
       "      <td>14608512.0</td>\n",
       "      <td>31.005000</td>\n",
       "      <td>121.408611</td>\n",
       "      <td>China</td>\n",
       "    </tr>\n",
       "    <tr>\n",
       "      <th>1024396</th>\n",
       "      <td>in</td>\n",
       "      <td>bombay</td>\n",
       "      <td>16</td>\n",
       "      <td>12692717.0</td>\n",
       "      <td>18.975000</td>\n",
       "      <td>72.825833</td>\n",
       "      <td>India</td>\n",
       "    </tr>\n",
       "    <tr>\n",
       "      <th>1027128</th>\n",
       "      <td>in</td>\n",
       "      <td>delhi</td>\n",
       "      <td>07</td>\n",
       "      <td>10928270.0</td>\n",
       "      <td>28.666667</td>\n",
       "      <td>77.216667</td>\n",
       "      <td>India</td>\n",
       "    </tr>\n",
       "    <tr>\n",
       "      <th>1041387</th>\n",
       "      <td>in</td>\n",
       "      <td>new delhi</td>\n",
       "      <td>07</td>\n",
       "      <td>10928270.0</td>\n",
       "      <td>28.600000</td>\n",
       "      <td>77.200000</td>\n",
       "      <td>India</td>\n",
       "    </tr>\n",
       "    <tr>\n",
       "      <th>1217910</th>\n",
       "      <td>jp</td>\n",
       "      <td>tokyo</td>\n",
       "      <td>40</td>\n",
       "      <td>31480498.0</td>\n",
       "      <td>35.685000</td>\n",
       "      <td>139.751389</td>\n",
       "      <td>Japan</td>\n",
       "    </tr>\n",
       "    <tr>\n",
       "      <th>1285134</th>\n",
       "      <td>kr</td>\n",
       "      <td>seoul</td>\n",
       "      <td>11</td>\n",
       "      <td>10323448.0</td>\n",
       "      <td>37.566389</td>\n",
       "      <td>126.999722</td>\n",
       "      <td>South Korea</td>\n",
       "    </tr>\n",
       "    <tr>\n",
       "      <th>1759460</th>\n",
       "      <td>ph</td>\n",
       "      <td>manila</td>\n",
       "      <td>D9</td>\n",
       "      <td>10443877.0</td>\n",
       "      <td>14.604167</td>\n",
       "      <td>120.982222</td>\n",
       "      <td>Philippines</td>\n",
       "    </tr>\n",
       "    <tr>\n",
       "      <th>1812035</th>\n",
       "      <td>pk</td>\n",
       "      <td>karachi</td>\n",
       "      <td>05</td>\n",
       "      <td>11627378.0</td>\n",
       "      <td>24.866667</td>\n",
       "      <td>67.050000</td>\n",
       "      <td>Pakistan</td>\n",
       "    </tr>\n",
       "    <tr>\n",
       "      <th>2048592</th>\n",
       "      <td>ru</td>\n",
       "      <td>moscow</td>\n",
       "      <td>48</td>\n",
       "      <td>10381288.0</td>\n",
       "      <td>55.752222</td>\n",
       "      <td>37.615556</td>\n",
       "      <td>Rusia</td>\n",
       "    </tr>\n",
       "  </tbody>\n",
       "</table>\n",
       "</div>"
      ],
      "text/plain": [
       "        Country       City Region  Population   Latitude   Longitude  \\\n",
       "269851       br  sao paulo     27  10021437.0 -23.533333  -46.616667   \n",
       "437672       cn   shanghai     23  14608512.0  31.005000  121.408611   \n",
       "1024396      in     bombay     16  12692717.0  18.975000   72.825833   \n",
       "1027128      in      delhi     07  10928270.0  28.666667   77.216667   \n",
       "1041387      in  new delhi     07  10928270.0  28.600000   77.200000   \n",
       "1217910      jp      tokyo     40  31480498.0  35.685000  139.751389   \n",
       "1285134      kr      seoul     11  10323448.0  37.566389  126.999722   \n",
       "1759460      ph     manila     D9  10443877.0  14.604167  120.982222   \n",
       "1812035      pk    karachi     05  11627378.0  24.866667   67.050000   \n",
       "2048592      ru     moscow     48  10381288.0  55.752222   37.615556   \n",
       "\n",
       "         CountryName  \n",
       "269851        Brazil  \n",
       "437672         China  \n",
       "1024396        India  \n",
       "1027128        India  \n",
       "1041387        India  \n",
       "1217910        Japan  \n",
       "1285134  South Korea  \n",
       "1759460  Philippines  \n",
       "1812035     Pakistan  \n",
       "2048592        Rusia  "
      ]
     },
     "execution_count": 27,
     "metadata": {},
     "output_type": "execute_result"
    }
   ],
   "source": [
    "pop_greater_10m"
   ]
  },
  {
   "cell_type": "code",
   "execution_count": null,
   "metadata": {
    "hidden": true
   },
   "outputs": [],
   "source": []
  },
  {
   "cell_type": "code",
   "execution_count": null,
   "metadata": {
    "hidden": true
   },
   "outputs": [],
   "source": []
  }
 ],
 "metadata": {
  "hide_input": false,
  "kernelspec": {
   "display_name": "Python 3 (ipykernel)",
   "language": "python",
   "name": "python3"
  },
  "language_info": {
   "codemirror_mode": {
    "name": "ipython",
    "version": 3
   },
   "file_extension": ".py",
   "mimetype": "text/x-python",
   "name": "python",
   "nbconvert_exporter": "python",
   "pygments_lexer": "ipython3",
   "version": "3.10.5"
  }
 },
 "nbformat": 4,
 "nbformat_minor": 4
}
