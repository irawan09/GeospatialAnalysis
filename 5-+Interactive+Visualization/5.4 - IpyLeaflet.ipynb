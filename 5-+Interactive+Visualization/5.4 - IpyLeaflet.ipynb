{
 "cells": [
  {
   "cell_type": "markdown",
   "metadata": {},
   "source": [
    "# <h1><center>Interactive Spatial Data Visualization</center></h1>\n",
    "\n",
    "## 5.4 - IpyLeaflet"
   ]
  },
  {
   "cell_type": "code",
   "execution_count": 1,
   "metadata": {
    "ExecuteTime": {
     "end_time": "2020-05-28T08:04:32.688604Z",
     "start_time": "2020-05-28T08:04:32.679916Z"
    }
   },
   "outputs": [],
   "source": [
    "from ipyleaflet import (Map, GeoData, basemaps, WidgetControl, GeoJSON,\n",
    "                        LayersControl, Icon, Marker,basemap_to_tiles, Choropleth,\n",
    "                        MarkerCluster, Heatmap,SearchControl, \n",
    "                        FullScreenControl)\n",
    "\n",
    "from ipywidgets import Text, HTML\n",
    "from branca.colormap import linear\n",
    "import geopandas as gpd\n",
    "import json"
   ]
  },
  {
   "cell_type": "code",
   "execution_count": 2,
   "metadata": {
    "ExecuteTime": {
     "end_time": "2020-05-28T08:05:21.183106Z",
     "start_time": "2020-05-28T08:05:05.418435Z"
    }
   },
   "outputs": [],
   "source": [
    "# Countries\n",
    "countries = gpd.read_file(gpd.datasets.get_path('naturalearth_lowres'))\n",
    "\n",
    "# Conflict Dataset Points\n",
    "asia_acled = gpd.read_file(\n",
    "    \"data/acled2019.shp\",\n",
    "    mask = countries[countries[\"continent\"] == \"Asia\"]\n",
    ")\n"
   ]
  },
  {
   "cell_type": "code",
   "execution_count": 3,
   "metadata": {
    "ExecuteTime": {
     "end_time": "2020-05-28T08:05:50.318631Z",
     "start_time": "2020-05-28T08:05:50.220491Z"
    }
   },
   "outputs": [
    {
     "data": {
      "text/html": [
       "<div>\n",
       "<style scoped>\n",
       "    .dataframe tbody tr th:only-of-type {\n",
       "        vertical-align: middle;\n",
       "    }\n",
       "\n",
       "    .dataframe tbody tr th {\n",
       "        vertical-align: top;\n",
       "    }\n",
       "\n",
       "    .dataframe thead th {\n",
       "        text-align: right;\n",
       "    }\n",
       "</style>\n",
       "<table border=\"1\" class=\"dataframe\">\n",
       "  <thead>\n",
       "    <tr style=\"text-align: right;\">\n",
       "      <th></th>\n",
       "      <th>data_id</th>\n",
       "      <th>iso</th>\n",
       "      <th>event_id_c</th>\n",
       "      <th>event_id_n</th>\n",
       "      <th>event_date</th>\n",
       "      <th>year</th>\n",
       "      <th>time_preci</th>\n",
       "      <th>event_type</th>\n",
       "      <th>sub_event_</th>\n",
       "      <th>actor1</th>\n",
       "      <th>...</th>\n",
       "      <th>latitude</th>\n",
       "      <th>longitude</th>\n",
       "      <th>geo_precis</th>\n",
       "      <th>source</th>\n",
       "      <th>source_sca</th>\n",
       "      <th>notes</th>\n",
       "      <th>fatalities</th>\n",
       "      <th>timestamp</th>\n",
       "      <th>iso3</th>\n",
       "      <th>geometry</th>\n",
       "    </tr>\n",
       "  </thead>\n",
       "  <tbody>\n",
       "    <tr>\n",
       "      <th>0</th>\n",
       "      <td>6768128</td>\n",
       "      <td>887</td>\n",
       "      <td>YEM45982</td>\n",
       "      <td>45982</td>\n",
       "      <td>31 December 2019</td>\n",
       "      <td>2019</td>\n",
       "      <td>1</td>\n",
       "      <td>Battles</td>\n",
       "      <td>Armed clash</td>\n",
       "      <td>Military Forces of Yemen (2012-)</td>\n",
       "      <td>...</td>\n",
       "      <td>14.3541</td>\n",
       "      <td>47.0765</td>\n",
       "      <td>2</td>\n",
       "      <td>Yemen Data Project; Aden al Ghad; Al Janoob al...</td>\n",
       "      <td>Local partner-National</td>\n",
       "      <td>On 31 December 2019, clashes reportedly erupte...</td>\n",
       "      <td>0</td>\n",
       "      <td>1580761030</td>\n",
       "      <td>YEM</td>\n",
       "      <td>POINT (47.07650 14.35410)</td>\n",
       "    </tr>\n",
       "    <tr>\n",
       "      <th>1</th>\n",
       "      <td>6768129</td>\n",
       "      <td>887</td>\n",
       "      <td>YEM45983</td>\n",
       "      <td>45983</td>\n",
       "      <td>31 December 2019</td>\n",
       "      <td>2019</td>\n",
       "      <td>1</td>\n",
       "      <td>Strategic developments</td>\n",
       "      <td>Change to group/activity</td>\n",
       "      <td>Military Forces of Yemen (2012-) Security Belt...</td>\n",
       "      <td>...</td>\n",
       "      <td>14.3541</td>\n",
       "      <td>47.0765</td>\n",
       "      <td>2</td>\n",
       "      <td>Al Janoob al Youm; Yemen Data Project</td>\n",
       "      <td>Local partner-National</td>\n",
       "      <td>On 31 December 2019, forces loyal to the South...</td>\n",
       "      <td>0</td>\n",
       "      <td>1580761030</td>\n",
       "      <td>YEM</td>\n",
       "      <td>POINT (47.07650 14.35410)</td>\n",
       "    </tr>\n",
       "    <tr>\n",
       "      <th>2</th>\n",
       "      <td>6768130</td>\n",
       "      <td>887</td>\n",
       "      <td>YEM45984</td>\n",
       "      <td>45984</td>\n",
       "      <td>31 December 2019</td>\n",
       "      <td>2019</td>\n",
       "      <td>1</td>\n",
       "      <td>Battles</td>\n",
       "      <td>Armed clash</td>\n",
       "      <td>Military Forces of Yemen (2012-)</td>\n",
       "      <td>...</td>\n",
       "      <td>14.2081</td>\n",
       "      <td>47.1570</td>\n",
       "      <td>1</td>\n",
       "      <td>Al Janoob al Youm; Aden al Ghad; Yemen Data Pr...</td>\n",
       "      <td>Local partner-National</td>\n",
       "      <td>On 31 December 2019, clashes reportedly erupte...</td>\n",
       "      <td>1</td>\n",
       "      <td>1580761030</td>\n",
       "      <td>YEM</td>\n",
       "      <td>POINT (47.15700 14.20810)</td>\n",
       "    </tr>\n",
       "    <tr>\n",
       "      <th>3</th>\n",
       "      <td>6715395</td>\n",
       "      <td>356</td>\n",
       "      <td>IND68948</td>\n",
       "      <td>68948</td>\n",
       "      <td>31 December 2019</td>\n",
       "      <td>2019</td>\n",
       "      <td>1</td>\n",
       "      <td>Protests</td>\n",
       "      <td>Peaceful protest</td>\n",
       "      <td>Protesters (India)</td>\n",
       "      <td>...</td>\n",
       "      <td>20.2724</td>\n",
       "      <td>85.8338</td>\n",
       "      <td>1</td>\n",
       "      <td>Pioneer (India)</td>\n",
       "      <td>National</td>\n",
       "      <td>On 31 December, students' wing of INC and Mili...</td>\n",
       "      <td>0</td>\n",
       "      <td>1578514389</td>\n",
       "      <td>IND</td>\n",
       "      <td>POINT (85.83380 20.27240)</td>\n",
       "    </tr>\n",
       "    <tr>\n",
       "      <th>4</th>\n",
       "      <td>6714375</td>\n",
       "      <td>356</td>\n",
       "      <td>IND68961</td>\n",
       "      <td>68961</td>\n",
       "      <td>31 December 2019</td>\n",
       "      <td>2019</td>\n",
       "      <td>1</td>\n",
       "      <td>Protests</td>\n",
       "      <td>Peaceful protest</td>\n",
       "      <td>Protesters (India)</td>\n",
       "      <td>...</td>\n",
       "      <td>25.2905</td>\n",
       "      <td>79.8753</td>\n",
       "      <td>1</td>\n",
       "      <td>Amar Ujala</td>\n",
       "      <td>Subnational</td>\n",
       "      <td>On Dec 31, protests were held by auto drivers ...</td>\n",
       "      <td>0</td>\n",
       "      <td>1578514386</td>\n",
       "      <td>IND</td>\n",
       "      <td>POINT (79.87530 25.29050)</td>\n",
       "    </tr>\n",
       "  </tbody>\n",
       "</table>\n",
       "<p>5 rows × 32 columns</p>\n",
       "</div>"
      ],
      "text/plain": [
       "   data_id  iso event_id_c  event_id_n        event_date  year  time_preci  \\\n",
       "0  6768128  887   YEM45982       45982  31 December 2019  2019           1   \n",
       "1  6768129  887   YEM45983       45983  31 December 2019  2019           1   \n",
       "2  6768130  887   YEM45984       45984  31 December 2019  2019           1   \n",
       "3  6715395  356   IND68948       68948  31 December 2019  2019           1   \n",
       "4  6714375  356   IND68961       68961  31 December 2019  2019           1   \n",
       "\n",
       "               event_type                sub_event_  \\\n",
       "0                 Battles               Armed clash   \n",
       "1  Strategic developments  Change to group/activity   \n",
       "2                 Battles               Armed clash   \n",
       "3                Protests          Peaceful protest   \n",
       "4                Protests          Peaceful protest   \n",
       "\n",
       "                                              actor1  ... latitude  longitude  \\\n",
       "0                   Military Forces of Yemen (2012-)  ...  14.3541    47.0765   \n",
       "1  Military Forces of Yemen (2012-) Security Belt...  ...  14.3541    47.0765   \n",
       "2                   Military Forces of Yemen (2012-)  ...  14.2081    47.1570   \n",
       "3                                 Protesters (India)  ...  20.2724    85.8338   \n",
       "4                                 Protesters (India)  ...  25.2905    79.8753   \n",
       "\n",
       "  geo_precis                                             source  \\\n",
       "0          2  Yemen Data Project; Aden al Ghad; Al Janoob al...   \n",
       "1          2              Al Janoob al Youm; Yemen Data Project   \n",
       "2          1  Al Janoob al Youm; Aden al Ghad; Yemen Data Pr...   \n",
       "3          1                                    Pioneer (India)   \n",
       "4          1                                         Amar Ujala   \n",
       "\n",
       "               source_sca                                              notes  \\\n",
       "0  Local partner-National  On 31 December 2019, clashes reportedly erupte...   \n",
       "1  Local partner-National  On 31 December 2019, forces loyal to the South...   \n",
       "2  Local partner-National  On 31 December 2019, clashes reportedly erupte...   \n",
       "3                National  On 31 December, students' wing of INC and Mili...   \n",
       "4             Subnational  On Dec 31, protests were held by auto drivers ...   \n",
       "\n",
       "  fatalities   timestamp iso3                   geometry  \n",
       "0          0  1580761030  YEM  POINT (47.07650 14.35410)  \n",
       "1          0  1580761030  YEM  POINT (47.07650 14.35410)  \n",
       "2          1  1580761030  YEM  POINT (47.15700 14.20810)  \n",
       "3          0  1578514389  IND  POINT (85.83380 20.27240)  \n",
       "4          0  1578514386  IND  POINT (79.87530 25.29050)  \n",
       "\n",
       "[5 rows x 32 columns]"
      ]
     },
     "execution_count": 3,
     "metadata": {},
     "output_type": "execute_result"
    }
   ],
   "source": [
    "asia_acled.head()"
   ]
  },
  {
   "cell_type": "markdown",
   "metadata": {},
   "source": [
    "## Base maps, Markers & Icons\n"
   ]
  },
  {
   "cell_type": "code",
   "execution_count": 4,
   "metadata": {
    "ExecuteTime": {
     "end_time": "2020-05-28T08:10:47.588262Z",
     "start_time": "2020-05-28T08:10:47.529878Z"
    }
   },
   "outputs": [
    {
     "data": {
      "application/vnd.jupyter.widget-view+json": {
       "model_id": "16a5b4ac603049d1adb810216e03c6b6",
       "version_major": 2,
       "version_minor": 0
      },
      "text/plain": [
       "Map(center=[57.71, 11.98], controls=(ZoomControl(options=['position', 'zoom_in_text', 'zoom_in_title', 'zoom_o…"
      ]
     },
     "metadata": {},
     "output_type": "display_data"
    }
   ],
   "source": [
    "center = [57.71, 11.98]\n",
    "zoom = 12\n",
    "\n",
    "m = Map(basemap=basemaps.Esri.WorldImagery, center=center, zoom=zoom)\n",
    "m"
   ]
  },
  {
   "cell_type": "code",
   "execution_count": 5,
   "metadata": {
    "ExecuteTime": {
     "end_time": "2020-05-28T08:19:28.971066Z",
     "start_time": "2020-05-28T08:19:28.956150Z"
    }
   },
   "outputs": [],
   "source": [
    "stamen = basemap_to_tiles(basemaps.Stamen.Toner)\n",
    "m.add_layer(stamen)"
   ]
  },
  {
   "cell_type": "code",
   "execution_count": 6,
   "metadata": {
    "ExecuteTime": {
     "end_time": "2020-05-28T08:24:53.071299Z",
     "start_time": "2020-05-28T08:24:53.049057Z"
    }
   },
   "outputs": [
    {
     "data": {
      "application/vnd.jupyter.widget-view+json": {
       "model_id": "16a5b4ac603049d1adb810216e03c6b6",
       "version_major": 2,
       "version_minor": 0
      },
      "text/plain": [
       "Map(center=[57.71, 11.98], controls=(ZoomControl(options=['position', 'zoom_in_text', 'zoom_in_title', 'zoom_o…"
      ]
     },
     "metadata": {},
     "output_type": "display_data"
    }
   ],
   "source": [
    "marker = Marker(location=center, draggable=False)\n",
    "m.add_layer(marker);\n",
    "\n",
    "m"
   ]
  },
  {
   "cell_type": "code",
   "execution_count": 7,
   "metadata": {
    "ExecuteTime": {
     "end_time": "2020-05-28T08:35:55.782974Z",
     "start_time": "2020-05-28T08:35:55.755064Z"
    }
   },
   "outputs": [
    {
     "data": {
      "application/vnd.jupyter.widget-view+json": {
       "model_id": "c3d8757a5e4340cd96efbbb5b67e91a8",
       "version_major": 2,
       "version_minor": 0
      },
      "text/plain": [
       "Map(center=[57.71, 11.98], controls=(ZoomControl(options=['position', 'zoom_in_text', 'zoom_in_title', 'zoom_o…"
      ]
     },
     "metadata": {},
     "output_type": "display_data"
    }
   ],
   "source": [
    "icon_url = \"http://icons.iconarchive.com/icons/pelfusion/long-shadow-media/512/Maps-Pin-Place-icon.png\"\n",
    "\n",
    "icon = Icon(icon_url=icon_url)\n",
    "mark = Marker(location=[57.719503, 12.008843], icon=icon, rotation_angle=0,  rotation_origin='1280px 128px')\n",
    "m.add_layer(mark);\n",
    "m"
   ]
  },
  {
   "cell_type": "markdown",
   "metadata": {},
   "source": [
    "## Geodata and Map Styles"
   ]
  },
  {
   "cell_type": "code",
   "execution_count": 8,
   "metadata": {
    "ExecuteTime": {
     "end_time": "2020-05-28T08:49:03.717119Z",
     "start_time": "2020-05-28T08:49:03.485487Z"
    }
   },
   "outputs": [
    {
     "data": {
      "application/vnd.jupyter.widget-view+json": {
       "model_id": "b26f19f62a9248d2b085e94c18ab369e",
       "version_major": 2,
       "version_minor": 0
      },
      "text/plain": [
       "Map(center=[4.546647, 22.373178], controls=(ZoomControl(options=['position', 'zoom_in_text', 'zoom_in_title', …"
      ]
     },
     "metadata": {},
     "output_type": "display_data"
    }
   ],
   "source": [
    "center = [4.546647, 22.373178]\n",
    "zoom = 3\n",
    "\n",
    "\n",
    "africa = countries[countries[\"continent\"] == \"Africa\"]\n",
    "africaMap = Map(basemap=basemaps.CartoDB.Positron, center=center, zoom=zoom)\n",
    "geodata = GeoData(geo_dataframe = africa, \n",
    "                   style={'color': 'black', 'fillColor': '#E0D071', 'opacity':0.03, 'weight':1.9, 'dashArray':'2', 'fillOpacity':0.6},\n",
    "                   hover_style={'fillColor': '#b08a3e' , 'fillOpacity': 0.8},\n",
    "                   name = 'Countries')\n",
    "\n",
    "\n",
    "africaMap.add_layer(geodata)\n",
    "africaMap"
   ]
  },
  {
   "cell_type": "code",
   "execution_count": 9,
   "metadata": {
    "ExecuteTime": {
     "end_time": "2020-05-28T08:58:19.997484Z",
     "start_time": "2020-05-28T08:58:19.969600Z"
    }
   },
   "outputs": [],
   "source": [
    "html = HTML('''Hover Over Countries''')\n",
    "html.layout.margin = '0px 20px 20px 20px'\n",
    "control = WidgetControl(widget=html, position='topright')\n",
    "africaMap.add_control(control)\n",
    "\n",
    "def update_html(feature,  **kwargs):\n",
    "    html.value = '''\n",
    "        <h3><b>{}</b></h3>\n",
    "        <h4>GDP: {:.2e} people</h4> \n",
    "        <h4>Population: {}</h4>\n",
    "    '''.format(feature['properties']['name'],\n",
    "               feature['properties']['gdp_md_est'],\n",
    "               feature['properties']['pop_est'])\n",
    "\n",
    "geodata.on_hover(update_html)"
   ]
  },
  {
   "cell_type": "code",
   "execution_count": 10,
   "metadata": {},
   "outputs": [
    {
     "data": {
      "text/html": [
       "<div>\n",
       "<style scoped>\n",
       "    .dataframe tbody tr th:only-of-type {\n",
       "        vertical-align: middle;\n",
       "    }\n",
       "\n",
       "    .dataframe tbody tr th {\n",
       "        vertical-align: top;\n",
       "    }\n",
       "\n",
       "    .dataframe thead th {\n",
       "        text-align: right;\n",
       "    }\n",
       "</style>\n",
       "<table border=\"1\" class=\"dataframe\">\n",
       "  <thead>\n",
       "    <tr style=\"text-align: right;\">\n",
       "      <th></th>\n",
       "      <th>pop_est</th>\n",
       "      <th>continent</th>\n",
       "      <th>name</th>\n",
       "      <th>iso_a3</th>\n",
       "      <th>gdp_md_est</th>\n",
       "      <th>geometry</th>\n",
       "    </tr>\n",
       "  </thead>\n",
       "  <tbody>\n",
       "    <tr>\n",
       "      <th>1</th>\n",
       "      <td>53950935</td>\n",
       "      <td>Africa</td>\n",
       "      <td>Tanzania</td>\n",
       "      <td>TZA</td>\n",
       "      <td>150600.0</td>\n",
       "      <td>POLYGON ((33.90371 -0.95000, 34.07262 -1.05982...</td>\n",
       "    </tr>\n",
       "    <tr>\n",
       "      <th>2</th>\n",
       "      <td>603253</td>\n",
       "      <td>Africa</td>\n",
       "      <td>W. Sahara</td>\n",
       "      <td>ESH</td>\n",
       "      <td>906.5</td>\n",
       "      <td>POLYGON ((-8.66559 27.65643, -8.66512 27.58948...</td>\n",
       "    </tr>\n",
       "    <tr>\n",
       "      <th>11</th>\n",
       "      <td>83301151</td>\n",
       "      <td>Africa</td>\n",
       "      <td>Dem. Rep. Congo</td>\n",
       "      <td>COD</td>\n",
       "      <td>66010.0</td>\n",
       "      <td>POLYGON ((29.34000 -4.49998, 29.51999 -5.41998...</td>\n",
       "    </tr>\n",
       "    <tr>\n",
       "      <th>12</th>\n",
       "      <td>7531386</td>\n",
       "      <td>Africa</td>\n",
       "      <td>Somalia</td>\n",
       "      <td>SOM</td>\n",
       "      <td>4719.0</td>\n",
       "      <td>POLYGON ((41.58513 -1.68325, 40.99300 -0.85829...</td>\n",
       "    </tr>\n",
       "    <tr>\n",
       "      <th>13</th>\n",
       "      <td>47615739</td>\n",
       "      <td>Africa</td>\n",
       "      <td>Kenya</td>\n",
       "      <td>KEN</td>\n",
       "      <td>152700.0</td>\n",
       "      <td>POLYGON ((39.20222 -4.67677, 37.76690 -3.67712...</td>\n",
       "    </tr>\n",
       "  </tbody>\n",
       "</table>\n",
       "</div>"
      ],
      "text/plain": [
       "     pop_est continent             name iso_a3  gdp_md_est  \\\n",
       "1   53950935    Africa         Tanzania    TZA    150600.0   \n",
       "2     603253    Africa        W. Sahara    ESH       906.5   \n",
       "11  83301151    Africa  Dem. Rep. Congo    COD     66010.0   \n",
       "12   7531386    Africa          Somalia    SOM      4719.0   \n",
       "13  47615739    Africa            Kenya    KEN    152700.0   \n",
       "\n",
       "                                             geometry  \n",
       "1   POLYGON ((33.90371 -0.95000, 34.07262 -1.05982...  \n",
       "2   POLYGON ((-8.66559 27.65643, -8.66512 27.58948...  \n",
       "11  POLYGON ((29.34000 -4.49998, 29.51999 -5.41998...  \n",
       "12  POLYGON ((41.58513 -1.68325, 40.99300 -0.85829...  \n",
       "13  POLYGON ((39.20222 -4.67677, 37.76690 -3.67712...  "
      ]
     },
     "execution_count": 10,
     "metadata": {},
     "output_type": "execute_result"
    }
   ],
   "source": [
    "africa.head()"
   ]
  },
  {
   "cell_type": "markdown",
   "metadata": {
    "ExecuteTime": {
     "end_time": "2020-05-28T09:03:52.785966Z",
     "start_time": "2020-05-28T09:03:52.780979Z"
    }
   },
   "source": [
    "### Choropleth Map"
   ]
  },
  {
   "cell_type": "code",
   "execution_count": 11,
   "metadata": {
    "ExecuteTime": {
     "end_time": "2020-05-28T09:04:31.863625Z",
     "start_time": "2020-05-28T09:04:31.700484Z"
    }
   },
   "outputs": [],
   "source": [
    "africa.at[60,'name']=\"Ivory Coast\"\n",
    "pop =  dict(zip(africa['name'].tolist(), africa['pop_est'].tolist()))\n",
    "africa[[\"name\", \"geometry\"]].to_file(\"data/africa.json\", driver=\"GeoJSON\", encoding='utf-8')\n",
    "geojson_data = json.load(open(\"data/africa.json\",'r'))"
   ]
  },
  {
   "cell_type": "code",
   "execution_count": 12,
   "metadata": {
    "ExecuteTime": {
     "end_time": "2020-05-28T09:04:44.636123Z",
     "start_time": "2020-05-28T09:04:44.629141Z"
    }
   },
   "outputs": [],
   "source": [
    "for feature in geojson_data['features']:\n",
    "    properties = feature['properties']\n",
    "    feature.update(id=properties['name'])\n",
    "    #print(feature['id'])"
   ]
  },
  {
   "cell_type": "code",
   "execution_count": 13,
   "metadata": {
    "ExecuteTime": {
     "end_time": "2020-05-28T09:04:54.097330Z",
     "start_time": "2020-05-28T09:04:53.919808Z"
    }
   },
   "outputs": [],
   "source": [
    "choroplethData = Choropleth(\n",
    "    geo_data=geojson_data,\n",
    "    choro_data=pop,\n",
    "    colormap=linear.YlOrRd_04,\n",
    "    style={'fillOpacity': 0.8, 'dashArray': '5, 5'}\n",
    ")"
   ]
  },
  {
   "cell_type": "code",
   "execution_count": 14,
   "metadata": {
    "ExecuteTime": {
     "end_time": "2020-05-28T09:05:05.712925Z",
     "start_time": "2020-05-28T09:05:05.670074Z"
    }
   },
   "outputs": [
    {
     "data": {
      "application/vnd.jupyter.widget-view+json": {
       "model_id": "9bb0e2c2b1f7434da0773c3e6ca083ce",
       "version_major": 2,
       "version_minor": 0
      },
      "text/plain": [
       "Map(center=[4.546647, 22.373178], controls=(ZoomControl(options=['position', 'zoom_in_text', 'zoom_in_title', …"
      ]
     },
     "metadata": {},
     "output_type": "display_data"
    }
   ],
   "source": [
    "choro_map = Map(center = (4.546647, 22.373178), zoom = 3)\n",
    "choro_map.add_layer(choroplethData)\n",
    "choro_map"
   ]
  },
  {
   "cell_type": "markdown",
   "metadata": {},
   "source": [
    "### Clustered Maps"
   ]
  },
  {
   "cell_type": "code",
   "execution_count": 15,
   "metadata": {
    "ExecuteTime": {
     "end_time": "2020-05-28T09:19:44.259317Z",
     "start_time": "2020-05-28T09:19:43.677638Z"
    }
   },
   "outputs": [
    {
     "data": {
      "application/vnd.jupyter.widget-view+json": {
       "model_id": "d4307edba3bd4e35920607093e5e58b3",
       "version_major": 2,
       "version_minor": 0
      },
      "text/plain": [
       "Map(center=[4.546647, 22.373178], controls=(ZoomControl(options=['position', 'zoom_in_text', 'zoom_in_title', …"
      ]
     },
     "metadata": {},
     "output_type": "display_data"
    }
   ],
   "source": [
    "pointsMap = Map(basemap=basemaps.CartoDB.Positron, center=center, zoom=zoom)\n",
    "PointData = GeoData(geo_dataframe = asia_acled.sample(500), name = 'Countries')\n",
    "\n",
    "\n",
    "pointsMap.add_layer(PointData)\n",
    "pointsMap"
   ]
  },
  {
   "cell_type": "code",
   "execution_count": 16,
   "metadata": {
    "ExecuteTime": {
     "end_time": "2020-05-28T09:38:43.059096Z",
     "start_time": "2020-05-28T09:38:39.732989Z"
    }
   },
   "outputs": [
    {
     "data": {
      "application/vnd.jupyter.widget-view+json": {
       "model_id": "c009199b25184c599ccb286b8bbd4260",
       "version_major": 2,
       "version_minor": 0
      },
      "text/plain": [
       "Map(center=[4.546647, 22.373178], controls=(ZoomControl(options=['position', 'zoom_in_text', 'zoom_in_title', …"
      ]
     },
     "metadata": {},
     "output_type": "display_data"
    }
   ],
   "source": [
    "\n",
    "clusterMap = Map(center=center, zoom=zoom)\n",
    "clusterMap.add_layer(MarkerCluster(\n",
    "    markers=[Marker(location=geolocation.coords[0][::-1]) for geolocation in asia_acled.sample(1000).geometry])\n",
    "    )\n",
    "clusterMap"
   ]
  },
  {
   "cell_type": "markdown",
   "metadata": {},
   "source": [
    "## Controls"
   ]
  },
  {
   "cell_type": "code",
   "execution_count": 17,
   "metadata": {
    "ExecuteTime": {
     "end_time": "2020-05-28T09:38:54.811553Z",
     "start_time": "2020-05-28T09:38:54.541277Z"
    }
   },
   "outputs": [
    {
     "data": {
      "application/vnd.jupyter.widget-view+json": {
       "model_id": "c009199b25184c599ccb286b8bbd4260",
       "version_major": 2,
       "version_minor": 0
      },
      "text/plain": [
       "Map(center=[4.546647, 22.373178], controls=(ZoomControl(options=['position', 'zoom_in_text', 'zoom_in_title', …"
      ]
     },
     "metadata": {},
     "output_type": "display_data"
    }
   ],
   "source": [
    "search = SearchControl(position=\"topleft\", \n",
    "                       url='https://nominatim.openstreetmap.org/search?format=json&q={s}', \n",
    "                       zoom=5,\n",
    "                       property_name='display_name',\n",
    "                       marker=marker\n",
    "                      )\n",
    "clusterMap.add_control(search)\n",
    "\n",
    "clusterMap"
   ]
  },
  {
   "cell_type": "code",
   "execution_count": 18,
   "metadata": {
    "ExecuteTime": {
     "end_time": "2020-05-28T09:38:59.077334Z",
     "start_time": "2020-05-28T09:38:59.069357Z"
    }
   },
   "outputs": [],
   "source": [
    "control = FullScreenControl()\n",
    "clusterMap.add_control(control)"
   ]
  },
  {
   "cell_type": "code",
   "execution_count": null,
   "metadata": {},
   "outputs": [],
   "source": []
  },
  {
   "cell_type": "code",
   "execution_count": null,
   "metadata": {},
   "outputs": [],
   "source": []
  }
 ],
 "metadata": {
  "hide_input": false,
  "kernelspec": {
   "display_name": "spatialds",
   "language": "python",
   "name": "spatialds"
  },
  "language_info": {
   "codemirror_mode": {
    "name": "ipython",
    "version": 3
   },
   "file_extension": ".py",
   "mimetype": "text/x-python",
   "name": "python",
   "nbconvert_exporter": "python",
   "pygments_lexer": "ipython3",
   "version": "3.7.6"
  }
 },
 "nbformat": 4,
 "nbformat_minor": 4
}
