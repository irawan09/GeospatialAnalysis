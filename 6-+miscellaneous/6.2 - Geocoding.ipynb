{
 "cells": [
  {
   "cell_type": "markdown",
   "metadata": {},
   "source": [
    "# <h1><center>Geocoding</center></h1>\n"
   ]
  },
  {
   "cell_type": "markdown",
   "metadata": {},
   "source": [
    "\n",
    "<img src=\"https://geopy.readthedocs.io/en/stable/_static/geopy_and_geocoding_services.svg\"></img>"
   ]
  },
  {
   "cell_type": "code",
   "execution_count": 2,
   "metadata": {},
   "outputs": [],
   "source": [
    "import pandas as pd\n",
    "import geopandas as gpd\n",
    "import geopy\n",
    "from geopy.geocoders import Nominatim\n",
    "from geopy.extra.rate_limiter import RateLimiter\n",
    "import matplotlib.pyplot as plt\n",
    "import folium\n",
    "from folium.plugins import FastMarkerCluster"
   ]
  },
  {
   "cell_type": "markdown",
   "metadata": {},
   "source": [
    "### Geocoding Single Address "
   ]
  },
  {
   "cell_type": "code",
   "execution_count": 3,
   "metadata": {},
   "outputs": [],
   "source": [
    "\n",
    "locator = Nominatim(user_agent=\"myGeocoder\")\n",
    "location = locator.geocode(\"Champ de Mars, Paris, France\")"
   ]
  },
  {
   "cell_type": "code",
   "execution_count": 4,
   "metadata": {},
   "outputs": [
    {
     "name": "stdout",
     "output_type": "stream",
     "text": [
      "Champ de Mars, Place Edwige Feuillère, Quartier du Gros-Caillou, Paris, Île-de-France, France métropolitaine, 75007, France\n",
      "Latitude = 48.85614465, Longitude = 2.297820393322227\n"
     ]
    }
   ],
   "source": [
    "print(location.address)\n",
    "print(\"Latitude = {}, Longitude = {}\".format(location.latitude, location.longitude))\n"
   ]
  },
  {
   "cell_type": "markdown",
   "metadata": {},
   "source": [
    "### Geocoding with Pandas DataFrame"
   ]
  },
  {
   "cell_type": "code",
   "execution_count": 8,
   "metadata": {},
   "outputs": [
    {
     "data": {
      "text/html": [
       "<div>\n",
       "<style scoped>\n",
       "    .dataframe tbody tr th:only-of-type {\n",
       "        vertical-align: middle;\n",
       "    }\n",
       "\n",
       "    .dataframe tbody tr th {\n",
       "        vertical-align: top;\n",
       "    }\n",
       "\n",
       "    .dataframe thead th {\n",
       "        text-align: right;\n",
       "    }\n",
       "</style>\n",
       "<table border=\"1\" class=\"dataframe\">\n",
       "  <thead>\n",
       "    <tr style=\"text-align: right;\">\n",
       "      <th></th>\n",
       "      <th>Typ</th>\n",
       "      <th>Nr</th>\n",
       "      <th>Namn</th>\n",
       "      <th>Address1</th>\n",
       "      <th>Address3</th>\n",
       "      <th>Address4</th>\n",
       "      <th>Address5</th>\n",
       "      <th>Telefon</th>\n",
       "    </tr>\n",
       "  </thead>\n",
       "  <tbody>\n",
       "    <tr>\n",
       "      <th>0</th>\n",
       "      <td>Butik</td>\n",
       "      <td>102</td>\n",
       "      <td>Fältöversten</td>\n",
       "      <td>Karlaplan 13</td>\n",
       "      <td>115 20</td>\n",
       "      <td>STOCKHOLM</td>\n",
       "      <td>Stockholms län</td>\n",
       "      <td>08/662 22 89</td>\n",
       "    </tr>\n",
       "    <tr>\n",
       "      <th>1</th>\n",
       "      <td>Butik</td>\n",
       "      <td>104</td>\n",
       "      <td>NaN</td>\n",
       "      <td>Nybrogatan 47</td>\n",
       "      <td>114 39</td>\n",
       "      <td>STOCKHOLM</td>\n",
       "      <td>Stockholms län</td>\n",
       "      <td>08/662 50 16</td>\n",
       "    </tr>\n",
       "    <tr>\n",
       "      <th>2</th>\n",
       "      <td>Butik</td>\n",
       "      <td>106</td>\n",
       "      <td>Garnisonen</td>\n",
       "      <td>Karlavägen 100 A</td>\n",
       "      <td>115 26</td>\n",
       "      <td>STOCKHOLM</td>\n",
       "      <td>Stockholms län</td>\n",
       "      <td>08/662 64 85</td>\n",
       "    </tr>\n",
       "    <tr>\n",
       "      <th>3</th>\n",
       "      <td>Butik</td>\n",
       "      <td>110</td>\n",
       "      <td>NaN</td>\n",
       "      <td>Hötorgshallen</td>\n",
       "      <td>111 57</td>\n",
       "      <td>STOCKHOLM</td>\n",
       "      <td>Stockholms län</td>\n",
       "      <td>08/56849241</td>\n",
       "    </tr>\n",
       "    <tr>\n",
       "      <th>4</th>\n",
       "      <td>Butik</td>\n",
       "      <td>113</td>\n",
       "      <td>Sergel</td>\n",
       "      <td>Drottninggatan 45</td>\n",
       "      <td>111 21</td>\n",
       "      <td>STOCKHOLM</td>\n",
       "      <td>Stockholms län</td>\n",
       "      <td>08/21 47 44</td>\n",
       "    </tr>\n",
       "  </tbody>\n",
       "</table>\n",
       "</div>"
      ],
      "text/plain": [
       "     Typ   Nr          Namn           Address1 Address3   Address4  \\\n",
       "0  Butik  102  Fältöversten       Karlaplan 13   115 20  STOCKHOLM   \n",
       "1  Butik  104           NaN      Nybrogatan 47   114 39  STOCKHOLM   \n",
       "2  Butik  106    Garnisonen   Karlavägen 100 A   115 26  STOCKHOLM   \n",
       "3  Butik  110           NaN      Hötorgshallen   111 57  STOCKHOLM   \n",
       "4  Butik  113        Sergel  Drottninggatan 45   111 21  STOCKHOLM   \n",
       "\n",
       "         Address5       Telefon  \n",
       "0  Stockholms län  08/662 22 89  \n",
       "1  Stockholms län  08/662 50 16  \n",
       "2  Stockholms län  08/662 64 85  \n",
       "3  Stockholms län   08/56849241  \n",
       "4  Stockholms län   08/21 47 44  "
      ]
     },
     "execution_count": 8,
     "metadata": {},
     "output_type": "execute_result"
    }
   ],
   "source": [
    "df = pd.read_csv(\"addresses.csv\")\n",
    "df.head()"
   ]
  },
  {
   "cell_type": "code",
   "execution_count": 9,
   "metadata": {},
   "outputs": [
    {
     "data": {
      "text/html": [
       "<div>\n",
       "<style scoped>\n",
       "    .dataframe tbody tr th:only-of-type {\n",
       "        vertical-align: middle;\n",
       "    }\n",
       "\n",
       "    .dataframe tbody tr th {\n",
       "        vertical-align: top;\n",
       "    }\n",
       "\n",
       "    .dataframe thead th {\n",
       "        text-align: right;\n",
       "    }\n",
       "</style>\n",
       "<table border=\"1\" class=\"dataframe\">\n",
       "  <thead>\n",
       "    <tr style=\"text-align: right;\">\n",
       "      <th></th>\n",
       "      <th>Typ</th>\n",
       "      <th>Nr</th>\n",
       "      <th>Namn</th>\n",
       "      <th>Address1</th>\n",
       "      <th>Address3</th>\n",
       "      <th>Address4</th>\n",
       "      <th>Address5</th>\n",
       "      <th>Telefon</th>\n",
       "      <th>ADDRESS</th>\n",
       "    </tr>\n",
       "  </thead>\n",
       "  <tbody>\n",
       "    <tr>\n",
       "      <th>0</th>\n",
       "      <td>Butik</td>\n",
       "      <td>102</td>\n",
       "      <td>Fältöversten</td>\n",
       "      <td>Karlaplan 13</td>\n",
       "      <td>115 20</td>\n",
       "      <td>STOCKHOLM</td>\n",
       "      <td>Stockholms län</td>\n",
       "      <td>08/662 22 89</td>\n",
       "      <td>Karlaplan 13,115 20,STOCKHOLM,Stockholms län, ...</td>\n",
       "    </tr>\n",
       "    <tr>\n",
       "      <th>1</th>\n",
       "      <td>Butik</td>\n",
       "      <td>104</td>\n",
       "      <td>NaN</td>\n",
       "      <td>Nybrogatan 47</td>\n",
       "      <td>114 39</td>\n",
       "      <td>STOCKHOLM</td>\n",
       "      <td>Stockholms län</td>\n",
       "      <td>08/662 50 16</td>\n",
       "      <td>Nybrogatan 47,114 39,STOCKHOLM,Stockholms län,...</td>\n",
       "    </tr>\n",
       "    <tr>\n",
       "      <th>2</th>\n",
       "      <td>Butik</td>\n",
       "      <td>106</td>\n",
       "      <td>Garnisonen</td>\n",
       "      <td>Karlavägen 100 A</td>\n",
       "      <td>115 26</td>\n",
       "      <td>STOCKHOLM</td>\n",
       "      <td>Stockholms län</td>\n",
       "      <td>08/662 64 85</td>\n",
       "      <td>Karlavägen 100 A,115 26,STOCKHOLM,Stockholms l...</td>\n",
       "    </tr>\n",
       "    <tr>\n",
       "      <th>3</th>\n",
       "      <td>Butik</td>\n",
       "      <td>110</td>\n",
       "      <td>NaN</td>\n",
       "      <td>Hötorgshallen</td>\n",
       "      <td>111 57</td>\n",
       "      <td>STOCKHOLM</td>\n",
       "      <td>Stockholms län</td>\n",
       "      <td>08/56849241</td>\n",
       "      <td>Hötorgshallen,111 57,STOCKHOLM,Stockholms län,...</td>\n",
       "    </tr>\n",
       "    <tr>\n",
       "      <th>4</th>\n",
       "      <td>Butik</td>\n",
       "      <td>113</td>\n",
       "      <td>Sergel</td>\n",
       "      <td>Drottninggatan 45</td>\n",
       "      <td>111 21</td>\n",
       "      <td>STOCKHOLM</td>\n",
       "      <td>Stockholms län</td>\n",
       "      <td>08/21 47 44</td>\n",
       "      <td>Drottninggatan 45,111 21,STOCKHOLM,Stockholms ...</td>\n",
       "    </tr>\n",
       "  </tbody>\n",
       "</table>\n",
       "</div>"
      ],
      "text/plain": [
       "     Typ   Nr          Namn           Address1 Address3   Address4  \\\n",
       "0  Butik  102  Fältöversten       Karlaplan 13   115 20  STOCKHOLM   \n",
       "1  Butik  104           NaN      Nybrogatan 47   114 39  STOCKHOLM   \n",
       "2  Butik  106    Garnisonen   Karlavägen 100 A   115 26  STOCKHOLM   \n",
       "3  Butik  110           NaN      Hötorgshallen   111 57  STOCKHOLM   \n",
       "4  Butik  113        Sergel  Drottninggatan 45   111 21  STOCKHOLM   \n",
       "\n",
       "         Address5       Telefon  \\\n",
       "0  Stockholms län  08/662 22 89   \n",
       "1  Stockholms län  08/662 50 16   \n",
       "2  Stockholms län  08/662 64 85   \n",
       "3  Stockholms län   08/56849241   \n",
       "4  Stockholms län   08/21 47 44   \n",
       "\n",
       "                                             ADDRESS  \n",
       "0  Karlaplan 13,115 20,STOCKHOLM,Stockholms län, ...  \n",
       "1  Nybrogatan 47,114 39,STOCKHOLM,Stockholms län,...  \n",
       "2  Karlavägen 100 A,115 26,STOCKHOLM,Stockholms l...  \n",
       "3  Hötorgshallen,111 57,STOCKHOLM,Stockholms län,...  \n",
       "4  Drottninggatan 45,111 21,STOCKHOLM,Stockholms ...  "
      ]
     },
     "execution_count": 9,
     "metadata": {},
     "output_type": "execute_result"
    }
   ],
   "source": [
    "df['ADDRESS'] = df['Address1'].astype(str) + ',' + \\\n",
    "                df['Address3'] + ',' + \\\n",
    "                df['Address4'] + ',' + \\\n",
    "                df['Address5'] + ',' + ' Sweden'   \n",
    "\n",
    "df.head()"
   ]
  },
  {
   "cell_type": "code",
   "execution_count": 10,
   "metadata": {},
   "outputs": [],
   "source": [
    "from geopy.extra.rate_limiter import RateLimiter\n",
    "geocode = RateLimiter(locator.geocode, min_delay_seconds=1)\n",
    "df['location'] = df['ADDRESS'].apply(geocode)\n",
    "df['point'] = df['location'].apply(lambda loc: tuple(loc.point) if loc else None)"
   ]
  },
  {
   "cell_type": "code",
   "execution_count": 11,
   "metadata": {},
   "outputs": [
    {
     "data": {
      "text/html": [
       "<div>\n",
       "<style scoped>\n",
       "    .dataframe tbody tr th:only-of-type {\n",
       "        vertical-align: middle;\n",
       "    }\n",
       "\n",
       "    .dataframe tbody tr th {\n",
       "        vertical-align: top;\n",
       "    }\n",
       "\n",
       "    .dataframe thead th {\n",
       "        text-align: right;\n",
       "    }\n",
       "</style>\n",
       "<table border=\"1\" class=\"dataframe\">\n",
       "  <thead>\n",
       "    <tr style=\"text-align: right;\">\n",
       "      <th></th>\n",
       "      <th>Typ</th>\n",
       "      <th>Nr</th>\n",
       "      <th>Namn</th>\n",
       "      <th>Address1</th>\n",
       "      <th>Address3</th>\n",
       "      <th>Address4</th>\n",
       "      <th>Address5</th>\n",
       "      <th>Telefon</th>\n",
       "      <th>ADDRESS</th>\n",
       "      <th>location</th>\n",
       "      <th>point</th>\n",
       "    </tr>\n",
       "  </thead>\n",
       "  <tbody>\n",
       "    <tr>\n",
       "      <th>0</th>\n",
       "      <td>Butik</td>\n",
       "      <td>102</td>\n",
       "      <td>Fältöversten</td>\n",
       "      <td>Karlaplan 13</td>\n",
       "      <td>115 20</td>\n",
       "      <td>STOCKHOLM</td>\n",
       "      <td>Stockholms län</td>\n",
       "      <td>08/662 22 89</td>\n",
       "      <td>Karlaplan 13,115 20,STOCKHOLM,Stockholms län, ...</td>\n",
       "      <td>(Karlaplan, Vedbäraren, Östermalm, Östermalms ...</td>\n",
       "      <td>(59.3383148, 18.0899599, 0.0)</td>\n",
       "    </tr>\n",
       "    <tr>\n",
       "      <th>1</th>\n",
       "      <td>Butik</td>\n",
       "      <td>104</td>\n",
       "      <td>NaN</td>\n",
       "      <td>Nybrogatan 47</td>\n",
       "      <td>114 39</td>\n",
       "      <td>STOCKHOLM</td>\n",
       "      <td>Stockholms län</td>\n",
       "      <td>08/662 50 16</td>\n",
       "      <td>Nybrogatan 47,114 39,STOCKHOLM,Stockholms län,...</td>\n",
       "      <td>(47, Nybrogatan, Brunfisken, Östermalm, Österm...</td>\n",
       "      <td>(59.3372072, 18.0790982, 0.0)</td>\n",
       "    </tr>\n",
       "    <tr>\n",
       "      <th>2</th>\n",
       "      <td>Butik</td>\n",
       "      <td>106</td>\n",
       "      <td>Garnisonen</td>\n",
       "      <td>Karlavägen 100 A</td>\n",
       "      <td>115 26</td>\n",
       "      <td>STOCKHOLM</td>\n",
       "      <td>Stockholms län</td>\n",
       "      <td>08/662 64 85</td>\n",
       "      <td>Karlavägen 100 A,115 26,STOCKHOLM,Stockholms l...</td>\n",
       "      <td>(Karlavägen, Infanteristen, Östermalm, Österma...</td>\n",
       "      <td>(59.3353799, 18.1006258, 0.0)</td>\n",
       "    </tr>\n",
       "    <tr>\n",
       "      <th>3</th>\n",
       "      <td>Butik</td>\n",
       "      <td>110</td>\n",
       "      <td>NaN</td>\n",
       "      <td>Hötorgshallen</td>\n",
       "      <td>111 57</td>\n",
       "      <td>STOCKHOLM</td>\n",
       "      <td>Stockholms län</td>\n",
       "      <td>08/56849241</td>\n",
       "      <td>Hötorgshallen,111 57,STOCKHOLM,Stockholms län,...</td>\n",
       "      <td>(Hötorgshallen, Hötorget, Konserthuset, Norrma...</td>\n",
       "      <td>(59.3343273, 18.0626039, 0.0)</td>\n",
       "    </tr>\n",
       "    <tr>\n",
       "      <th>4</th>\n",
       "      <td>Butik</td>\n",
       "      <td>113</td>\n",
       "      <td>Sergel</td>\n",
       "      <td>Drottninggatan 45</td>\n",
       "      <td>111 21</td>\n",
       "      <td>STOCKHOLM</td>\n",
       "      <td>Stockholms län</td>\n",
       "      <td>08/21 47 44</td>\n",
       "      <td>Drottninggatan 45,111 21,STOCKHOLM,Stockholms ...</td>\n",
       "      <td>(Drottninggatan, Torgvågen, Norrmalm, Norrmalm...</td>\n",
       "      <td>(59.3336068, 18.0616879, 0.0)</td>\n",
       "    </tr>\n",
       "  </tbody>\n",
       "</table>\n",
       "</div>"
      ],
      "text/plain": [
       "     Typ   Nr          Namn           Address1 Address3   Address4  \\\n",
       "0  Butik  102  Fältöversten       Karlaplan 13   115 20  STOCKHOLM   \n",
       "1  Butik  104           NaN      Nybrogatan 47   114 39  STOCKHOLM   \n",
       "2  Butik  106    Garnisonen   Karlavägen 100 A   115 26  STOCKHOLM   \n",
       "3  Butik  110           NaN      Hötorgshallen   111 57  STOCKHOLM   \n",
       "4  Butik  113        Sergel  Drottninggatan 45   111 21  STOCKHOLM   \n",
       "\n",
       "         Address5       Telefon  \\\n",
       "0  Stockholms län  08/662 22 89   \n",
       "1  Stockholms län  08/662 50 16   \n",
       "2  Stockholms län  08/662 64 85   \n",
       "3  Stockholms län   08/56849241   \n",
       "4  Stockholms län   08/21 47 44   \n",
       "\n",
       "                                             ADDRESS  \\\n",
       "0  Karlaplan 13,115 20,STOCKHOLM,Stockholms län, ...   \n",
       "1  Nybrogatan 47,114 39,STOCKHOLM,Stockholms län,...   \n",
       "2  Karlavägen 100 A,115 26,STOCKHOLM,Stockholms l...   \n",
       "3  Hötorgshallen,111 57,STOCKHOLM,Stockholms län,...   \n",
       "4  Drottninggatan 45,111 21,STOCKHOLM,Stockholms ...   \n",
       "\n",
       "                                            location  \\\n",
       "0  (Karlaplan, Vedbäraren, Östermalm, Östermalms ...   \n",
       "1  (47, Nybrogatan, Brunfisken, Östermalm, Österm...   \n",
       "2  (Karlavägen, Infanteristen, Östermalm, Österma...   \n",
       "3  (Hötorgshallen, Hötorget, Konserthuset, Norrma...   \n",
       "4  (Drottninggatan, Torgvågen, Norrmalm, Norrmalm...   \n",
       "\n",
       "                           point  \n",
       "0  (59.3383148, 18.0899599, 0.0)  \n",
       "1  (59.3372072, 18.0790982, 0.0)  \n",
       "2  (59.3353799, 18.1006258, 0.0)  \n",
       "3  (59.3343273, 18.0626039, 0.0)  \n",
       "4  (59.3336068, 18.0616879, 0.0)  "
      ]
     },
     "execution_count": 11,
     "metadata": {},
     "output_type": "execute_result"
    }
   ],
   "source": [
    "df.head()\n"
   ]
  },
  {
   "cell_type": "code",
   "execution_count": 12,
   "metadata": {},
   "outputs": [
    {
     "data": {
      "text/html": [
       "<div>\n",
       "<style scoped>\n",
       "    .dataframe tbody tr th:only-of-type {\n",
       "        vertical-align: middle;\n",
       "    }\n",
       "\n",
       "    .dataframe tbody tr th {\n",
       "        vertical-align: top;\n",
       "    }\n",
       "\n",
       "    .dataframe thead th {\n",
       "        text-align: right;\n",
       "    }\n",
       "</style>\n",
       "<table border=\"1\" class=\"dataframe\">\n",
       "  <thead>\n",
       "    <tr style=\"text-align: right;\">\n",
       "      <th></th>\n",
       "      <th>Typ</th>\n",
       "      <th>Nr</th>\n",
       "      <th>Namn</th>\n",
       "      <th>Address1</th>\n",
       "      <th>Address3</th>\n",
       "      <th>Address4</th>\n",
       "      <th>Address5</th>\n",
       "      <th>Telefon</th>\n",
       "      <th>ADDRESS</th>\n",
       "      <th>location</th>\n",
       "      <th>point</th>\n",
       "      <th>latitude</th>\n",
       "      <th>longitude</th>\n",
       "      <th>altitude</th>\n",
       "    </tr>\n",
       "  </thead>\n",
       "  <tbody>\n",
       "    <tr>\n",
       "      <th>0</th>\n",
       "      <td>Butik</td>\n",
       "      <td>102</td>\n",
       "      <td>Fältöversten</td>\n",
       "      <td>Karlaplan 13</td>\n",
       "      <td>115 20</td>\n",
       "      <td>STOCKHOLM</td>\n",
       "      <td>Stockholms län</td>\n",
       "      <td>08/662 22 89</td>\n",
       "      <td>Karlaplan 13,115 20,STOCKHOLM,Stockholms län, ...</td>\n",
       "      <td>(Karlaplan, Vedbäraren, Östermalm, Östermalms ...</td>\n",
       "      <td>(59.3383148, 18.0899599, 0.0)</td>\n",
       "      <td>59.338315</td>\n",
       "      <td>18.089960</td>\n",
       "      <td>0.0</td>\n",
       "    </tr>\n",
       "    <tr>\n",
       "      <th>1</th>\n",
       "      <td>Butik</td>\n",
       "      <td>104</td>\n",
       "      <td>NaN</td>\n",
       "      <td>Nybrogatan 47</td>\n",
       "      <td>114 39</td>\n",
       "      <td>STOCKHOLM</td>\n",
       "      <td>Stockholms län</td>\n",
       "      <td>08/662 50 16</td>\n",
       "      <td>Nybrogatan 47,114 39,STOCKHOLM,Stockholms län,...</td>\n",
       "      <td>(47, Nybrogatan, Brunfisken, Östermalm, Österm...</td>\n",
       "      <td>(59.3372072, 18.0790982, 0.0)</td>\n",
       "      <td>59.337207</td>\n",
       "      <td>18.079098</td>\n",
       "      <td>0.0</td>\n",
       "    </tr>\n",
       "    <tr>\n",
       "      <th>2</th>\n",
       "      <td>Butik</td>\n",
       "      <td>106</td>\n",
       "      <td>Garnisonen</td>\n",
       "      <td>Karlavägen 100 A</td>\n",
       "      <td>115 26</td>\n",
       "      <td>STOCKHOLM</td>\n",
       "      <td>Stockholms län</td>\n",
       "      <td>08/662 64 85</td>\n",
       "      <td>Karlavägen 100 A,115 26,STOCKHOLM,Stockholms l...</td>\n",
       "      <td>(Karlavägen, Infanteristen, Östermalm, Österma...</td>\n",
       "      <td>(59.3353799, 18.1006258, 0.0)</td>\n",
       "      <td>59.335380</td>\n",
       "      <td>18.100626</td>\n",
       "      <td>0.0</td>\n",
       "    </tr>\n",
       "    <tr>\n",
       "      <th>3</th>\n",
       "      <td>Butik</td>\n",
       "      <td>110</td>\n",
       "      <td>NaN</td>\n",
       "      <td>Hötorgshallen</td>\n",
       "      <td>111 57</td>\n",
       "      <td>STOCKHOLM</td>\n",
       "      <td>Stockholms län</td>\n",
       "      <td>08/56849241</td>\n",
       "      <td>Hötorgshallen,111 57,STOCKHOLM,Stockholms län,...</td>\n",
       "      <td>(Hötorgshallen, Hötorget, Konserthuset, Norrma...</td>\n",
       "      <td>(59.3343273, 18.0626039, 0.0)</td>\n",
       "      <td>59.334327</td>\n",
       "      <td>18.062604</td>\n",
       "      <td>0.0</td>\n",
       "    </tr>\n",
       "    <tr>\n",
       "      <th>4</th>\n",
       "      <td>Butik</td>\n",
       "      <td>113</td>\n",
       "      <td>Sergel</td>\n",
       "      <td>Drottninggatan 45</td>\n",
       "      <td>111 21</td>\n",
       "      <td>STOCKHOLM</td>\n",
       "      <td>Stockholms län</td>\n",
       "      <td>08/21 47 44</td>\n",
       "      <td>Drottninggatan 45,111 21,STOCKHOLM,Stockholms ...</td>\n",
       "      <td>(Drottninggatan, Torgvågen, Norrmalm, Norrmalm...</td>\n",
       "      <td>(59.3336068, 18.0616879, 0.0)</td>\n",
       "      <td>59.333607</td>\n",
       "      <td>18.061688</td>\n",
       "      <td>0.0</td>\n",
       "    </tr>\n",
       "  </tbody>\n",
       "</table>\n",
       "</div>"
      ],
      "text/plain": [
       "     Typ   Nr          Namn           Address1 Address3   Address4  \\\n",
       "0  Butik  102  Fältöversten       Karlaplan 13   115 20  STOCKHOLM   \n",
       "1  Butik  104           NaN      Nybrogatan 47   114 39  STOCKHOLM   \n",
       "2  Butik  106    Garnisonen   Karlavägen 100 A   115 26  STOCKHOLM   \n",
       "3  Butik  110           NaN      Hötorgshallen   111 57  STOCKHOLM   \n",
       "4  Butik  113        Sergel  Drottninggatan 45   111 21  STOCKHOLM   \n",
       "\n",
       "         Address5       Telefon  \\\n",
       "0  Stockholms län  08/662 22 89   \n",
       "1  Stockholms län  08/662 50 16   \n",
       "2  Stockholms län  08/662 64 85   \n",
       "3  Stockholms län   08/56849241   \n",
       "4  Stockholms län   08/21 47 44   \n",
       "\n",
       "                                             ADDRESS  \\\n",
       "0  Karlaplan 13,115 20,STOCKHOLM,Stockholms län, ...   \n",
       "1  Nybrogatan 47,114 39,STOCKHOLM,Stockholms län,...   \n",
       "2  Karlavägen 100 A,115 26,STOCKHOLM,Stockholms l...   \n",
       "3  Hötorgshallen,111 57,STOCKHOLM,Stockholms län,...   \n",
       "4  Drottninggatan 45,111 21,STOCKHOLM,Stockholms ...   \n",
       "\n",
       "                                            location  \\\n",
       "0  (Karlaplan, Vedbäraren, Östermalm, Östermalms ...   \n",
       "1  (47, Nybrogatan, Brunfisken, Östermalm, Österm...   \n",
       "2  (Karlavägen, Infanteristen, Östermalm, Österma...   \n",
       "3  (Hötorgshallen, Hötorget, Konserthuset, Norrma...   \n",
       "4  (Drottninggatan, Torgvågen, Norrmalm, Norrmalm...   \n",
       "\n",
       "                           point   latitude  longitude  altitude  \n",
       "0  (59.3383148, 18.0899599, 0.0)  59.338315  18.089960       0.0  \n",
       "1  (59.3372072, 18.0790982, 0.0)  59.337207  18.079098       0.0  \n",
       "2  (59.3353799, 18.1006258, 0.0)  59.335380  18.100626       0.0  \n",
       "3  (59.3343273, 18.0626039, 0.0)  59.334327  18.062604       0.0  \n",
       "4  (59.3336068, 18.0616879, 0.0)  59.333607  18.061688       0.0  "
      ]
     },
     "execution_count": 12,
     "metadata": {},
     "output_type": "execute_result"
    }
   ],
   "source": [
    "# split point column into latitude, longitude and altitude columns\n",
    "df[['latitude', 'longitude', 'altitude']] = pd.DataFrame(df['point'].tolist(), index=df.index)\n",
    "df.head()"
   ]
  },
  {
   "cell_type": "code",
   "execution_count": 13,
   "metadata": {},
   "outputs": [
    {
     "data": {
      "text/plain": [
       "Index(['Typ', 'Nr', 'Namn', 'Address1', 'Address3', 'Address4', 'Address5',\n",
       "       'Telefon', 'ADDRESS', 'location', 'point', 'latitude', 'longitude',\n",
       "       'altitude'],\n",
       "      dtype='object')"
      ]
     },
     "execution_count": 13,
     "metadata": {},
     "output_type": "execute_result"
    }
   ],
   "source": [
    "df.columns"
   ]
  },
  {
   "cell_type": "code",
   "execution_count": 14,
   "metadata": {},
   "outputs": [],
   "source": [
    "df = df.drop(['Address1', 'Address3', 'Address4', 'Address5','Telefon', 'ADDRESS', 'location', 'point'], axis=1)"
   ]
  },
  {
   "cell_type": "code",
   "execution_count": 15,
   "metadata": {},
   "outputs": [
    {
     "data": {
      "text/html": [
       "<div>\n",
       "<style scoped>\n",
       "    .dataframe tbody tr th:only-of-type {\n",
       "        vertical-align: middle;\n",
       "    }\n",
       "\n",
       "    .dataframe tbody tr th {\n",
       "        vertical-align: top;\n",
       "    }\n",
       "\n",
       "    .dataframe thead th {\n",
       "        text-align: right;\n",
       "    }\n",
       "</style>\n",
       "<table border=\"1\" class=\"dataframe\">\n",
       "  <thead>\n",
       "    <tr style=\"text-align: right;\">\n",
       "      <th></th>\n",
       "      <th>Typ</th>\n",
       "      <th>Nr</th>\n",
       "      <th>Namn</th>\n",
       "      <th>latitude</th>\n",
       "      <th>longitude</th>\n",
       "      <th>altitude</th>\n",
       "    </tr>\n",
       "  </thead>\n",
       "  <tbody>\n",
       "    <tr>\n",
       "      <th>0</th>\n",
       "      <td>Butik</td>\n",
       "      <td>102</td>\n",
       "      <td>Fältöversten</td>\n",
       "      <td>59.338315</td>\n",
       "      <td>18.089960</td>\n",
       "      <td>0.0</td>\n",
       "    </tr>\n",
       "    <tr>\n",
       "      <th>1</th>\n",
       "      <td>Butik</td>\n",
       "      <td>104</td>\n",
       "      <td>NaN</td>\n",
       "      <td>59.337207</td>\n",
       "      <td>18.079098</td>\n",
       "      <td>0.0</td>\n",
       "    </tr>\n",
       "    <tr>\n",
       "      <th>2</th>\n",
       "      <td>Butik</td>\n",
       "      <td>106</td>\n",
       "      <td>Garnisonen</td>\n",
       "      <td>59.335380</td>\n",
       "      <td>18.100626</td>\n",
       "      <td>0.0</td>\n",
       "    </tr>\n",
       "    <tr>\n",
       "      <th>3</th>\n",
       "      <td>Butik</td>\n",
       "      <td>110</td>\n",
       "      <td>NaN</td>\n",
       "      <td>59.334327</td>\n",
       "      <td>18.062604</td>\n",
       "      <td>0.0</td>\n",
       "    </tr>\n",
       "    <tr>\n",
       "      <th>4</th>\n",
       "      <td>Butik</td>\n",
       "      <td>113</td>\n",
       "      <td>Sergel</td>\n",
       "      <td>59.333607</td>\n",
       "      <td>18.061688</td>\n",
       "      <td>0.0</td>\n",
       "    </tr>\n",
       "  </tbody>\n",
       "</table>\n",
       "</div>"
      ],
      "text/plain": [
       "     Typ   Nr          Namn   latitude  longitude  altitude\n",
       "0  Butik  102  Fältöversten  59.338315  18.089960       0.0\n",
       "1  Butik  104           NaN  59.337207  18.079098       0.0\n",
       "2  Butik  106    Garnisonen  59.335380  18.100626       0.0\n",
       "3  Butik  110           NaN  59.334327  18.062604       0.0\n",
       "4  Butik  113        Sergel  59.333607  18.061688       0.0"
      ]
     },
     "execution_count": 15,
     "metadata": {},
     "output_type": "execute_result"
    }
   ],
   "source": [
    "df.head()"
   ]
  },
  {
   "cell_type": "code",
   "execution_count": 18,
   "metadata": {},
   "outputs": [
    {
     "data": {
      "text/plain": [
       "0"
      ]
     },
     "execution_count": 18,
     "metadata": {},
     "output_type": "execute_result"
    }
   ],
   "source": [
    "df.latitude.isnull().sum()"
   ]
  },
  {
   "cell_type": "code",
   "execution_count": 17,
   "metadata": {},
   "outputs": [],
   "source": [
    "df = df[pd.notnull(df[\"latitude\"])]"
   ]
  },
  {
   "cell_type": "code",
   "execution_count": 19,
   "metadata": {},
   "outputs": [],
   "source": [
    "map1 = folium.Map(\n",
    "    location=[59.338315,18.089960],\n",
    "    tiles='cartodbpositron',\n",
    "    zoom_start=12,\n",
    "    \n",
    ")"
   ]
  },
  {
   "cell_type": "code",
   "execution_count": 20,
   "metadata": {},
   "outputs": [
    {
     "data": {
      "text/html": [
       "<div style=\"width:100%;\"><div style=\"position:relative;width:100%;height:0;padding-bottom:60%;\"><iframe src=\"data:text/html;charset=utf-8;base64,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\" style=\"position:absolute;width:100%;height:100%;left:0;top:0;border:none !important;\" allowfullscreen webkitallowfullscreen mozallowfullscreen></iframe></div></div>"
      ],
      "text/plain": [
       "<folium.folium.Map at 0x19c9a188a88>"
      ]
     },
     "execution_count": 20,
     "metadata": {},
     "output_type": "execute_result"
    }
   ],
   "source": [
    "df.apply(lambda row:folium.CircleMarker(location=[row[\"latitude\"], row[\"longitude\"]]).add_to(map1), axis=1)\n",
    "map1"
   ]
  },
  {
   "cell_type": "code",
   "execution_count": null,
   "metadata": {},
   "outputs": [],
   "source": [
    "#map1.save(\"map1.html\")"
   ]
  },
  {
   "cell_type": "code",
   "execution_count": 21,
   "metadata": {},
   "outputs": [
    {
     "data": {
      "text/html": [
       "<div style=\"width:100%;\"><div style=\"position:relative;width:100%;height:0;padding-bottom:60%;\"><iframe src=\"data:text/html;charset=utf-8;base64,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\" style=\"position:absolute;width:100%;height:100%;left:0;top:0;border:none !important;\" allowfullscreen webkitallowfullscreen mozallowfullscreen></iframe></div></div>"
      ],
      "text/plain": [
       "<folium.folium.Map at 0x19c9a181848>"
      ]
     },
     "execution_count": 21,
     "metadata": {},
     "output_type": "execute_result"
    }
   ],
   "source": [
    "\n",
    "folium_map = folium.Map(location=[59.338315,18.089960],\n",
    "                        zoom_start=12,\n",
    "                        tiles='CartoDB dark_matter')\n",
    "\n",
    "\n",
    "FastMarkerCluster(data=list(zip(df['latitude'].values, df['longitude'].values))).add_to(folium_map)\n",
    "folium.LayerControl().add_to(folium_map)\n",
    "folium_map"
   ]
  },
  {
   "cell_type": "code",
   "execution_count": null,
   "metadata": {},
   "outputs": [],
   "source": [
    "#folium_map.save(\"map2.html\")"
   ]
  }
 ],
 "metadata": {
  "hide_input": false,
  "kernelspec": {
   "display_name": "geo",
   "language": "python",
   "name": "geo"
  },
  "language_info": {
   "codemirror_mode": {
    "name": "ipython",
    "version": 3
   },
   "file_extension": ".py",
   "mimetype": "text/x-python",
   "name": "python",
   "nbconvert_exporter": "python",
   "pygments_lexer": "ipython3",
   "version": "3.7.6"
  }
 },
 "nbformat": 4,
 "nbformat_minor": 4
}
