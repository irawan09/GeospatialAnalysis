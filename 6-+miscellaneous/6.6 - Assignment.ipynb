{
 "cells": [
  {
   "cell_type": "markdown",
   "metadata": {},
   "source": [
    "## Geocoding"
   ]
  },
  {
   "cell_type": "code",
   "execution_count": 24,
   "metadata": {},
   "outputs": [],
   "source": [
    "import pandas as pd\n",
    "import geopandas as gpd\n",
    "import geopy\n",
    "from geopy.geocoders import Nominatim\n",
    "from geopy.extra.rate_limiter import RateLimiter\n",
    "import matplotlib.pyplot as plt\n",
    "import plotly_express as px"
   ]
  },
  {
   "cell_type": "markdown",
   "metadata": {},
   "source": [
    "* Create a locator using Nominatim import above"
   ]
  },
  {
   "cell_type": "code",
   "execution_count": 11,
   "metadata": {},
   "outputs": [],
   "source": [
    "locator = Nominatim(user_agent=\"myGeocoder\")"
   ]
  },
  {
   "cell_type": "markdown",
   "metadata": {},
   "source": [
    "* Use the locator.geocode and pass and address to Geocode"
   ]
  },
  {
   "cell_type": "code",
   "execution_count": 17,
   "metadata": {},
   "outputs": [
    {
     "data": {
      "text/plain": [
       "Location(Rembrandthuis, Jodenbreestraat, Nieuwmarktbuurt, Amsterdam, Noord-Holland, Nederland, 1011NK, Nederland, (52.3693005, 4.9013307, 0.0))"
      ]
     },
     "execution_count": 17,
     "metadata": {},
     "output_type": "execute_result"
    }
   ],
   "source": [
    "address = \"Jodenbreestraat 4, Netherlands\"\n",
    "location = locator.geocode(address)\n",
    "location"
   ]
  },
  {
   "cell_type": "code",
   "execution_count": 18,
   "metadata": {},
   "outputs": [
    {
     "data": {
      "text/plain": [
       "Point(52.3693005, 4.9013307, 0.0)"
      ]
     },
     "execution_count": 18,
     "metadata": {},
     "output_type": "execute_result"
    }
   ],
   "source": [
    "location.point"
   ]
  },
  {
   "cell_type": "code",
   "execution_count": 20,
   "metadata": {},
   "outputs": [
    {
     "data": {
      "text/plain": [
       "52.3693005"
      ]
     },
     "execution_count": 20,
     "metadata": {},
     "output_type": "execute_result"
    }
   ],
   "source": [
    "location.latitude"
   ]
  },
  {
   "cell_type": "code",
   "execution_count": 21,
   "metadata": {},
   "outputs": [
    {
     "data": {
      "text/plain": [
       "4.9013307"
      ]
     },
     "execution_count": 21,
     "metadata": {},
     "output_type": "execute_result"
    }
   ],
   "source": [
    "location.longitude"
   ]
  },
  {
   "cell_type": "markdown",
   "metadata": {},
   "source": [
    "### Geocoding CSV File"
   ]
  },
  {
   "cell_type": "code",
   "execution_count": 37,
   "metadata": {},
   "outputs": [
    {
     "data": {
      "text/html": [
       "<div>\n",
       "<style scoped>\n",
       "    .dataframe tbody tr th:only-of-type {\n",
       "        vertical-align: middle;\n",
       "    }\n",
       "\n",
       "    .dataframe tbody tr th {\n",
       "        vertical-align: top;\n",
       "    }\n",
       "\n",
       "    .dataframe thead th {\n",
       "        text-align: right;\n",
       "    }\n",
       "</style>\n",
       "<table border=\"1\" class=\"dataframe\">\n",
       "  <thead>\n",
       "    <tr style=\"text-align: right;\">\n",
       "      <th></th>\n",
       "      <th>OBJECTID</th>\n",
       "      <th>NAME</th>\n",
       "      <th>PARK_NAME</th>\n",
       "      <th>ADDRESS_911</th>\n",
       "      <th>ZIP_CODE</th>\n",
       "      <th>POOL_TYPE</th>\n",
       "      <th>POOL_STATUS</th>\n",
       "      <th>COMMENTS</th>\n",
       "      <th>DATE_INSTALLED</th>\n",
       "      <th>DATA_SOURCE</th>\n",
       "    </tr>\n",
       "  </thead>\n",
       "  <tbody>\n",
       "    <tr>\n",
       "      <th>0</th>\n",
       "      <td>1</td>\n",
       "      <td>Fox Chase Pool</td>\n",
       "      <td>Fox Chase Recreation Center</td>\n",
       "      <td>7901 RIDGEWAY ST</td>\n",
       "      <td>19111</td>\n",
       "      <td>OUTDOOR</td>\n",
       "      <td>ACTIVE</td>\n",
       "      <td>NaN</td>\n",
       "      <td>NaN</td>\n",
       "      <td>Finder; Previous GIS Data</td>\n",
       "    </tr>\n",
       "    <tr>\n",
       "      <th>1</th>\n",
       "      <td>2</td>\n",
       "      <td>Mitchell Pool</td>\n",
       "      <td>Thomas Mitchell Memorial Playground</td>\n",
       "      <td>3600 WHITEHALL LN</td>\n",
       "      <td>19114</td>\n",
       "      <td>OUTDOOR</td>\n",
       "      <td>ACTIVE</td>\n",
       "      <td>NaN</td>\n",
       "      <td>2012/01/01 00:00:00+00</td>\n",
       "      <td>Capital 2019; Finder</td>\n",
       "    </tr>\n",
       "    <tr>\n",
       "      <th>2</th>\n",
       "      <td>3</td>\n",
       "      <td>Jardel Pool</td>\n",
       "      <td>Thomas E. Jardel Memorial Field</td>\n",
       "      <td>1400 COTTMAN AVE</td>\n",
       "      <td>19111</td>\n",
       "      <td>OUTDOOR</td>\n",
       "      <td>ACTIVE</td>\n",
       "      <td>NaN</td>\n",
       "      <td>NaN</td>\n",
       "      <td>Finder; Previous GIS Data</td>\n",
       "    </tr>\n",
       "    <tr>\n",
       "      <th>3</th>\n",
       "      <td>4</td>\n",
       "      <td>Jacobs Pool</td>\n",
       "      <td>George Jacobs Playground</td>\n",
       "      <td>4500 LINDEN AVE</td>\n",
       "      <td>19136</td>\n",
       "      <td>OUTDOOR</td>\n",
       "      <td>ACTIVE</td>\n",
       "      <td>NaN</td>\n",
       "      <td>NaN</td>\n",
       "      <td>Aquatics 2019; Finder</td>\n",
       "    </tr>\n",
       "    <tr>\n",
       "      <th>4</th>\n",
       "      <td>5</td>\n",
       "      <td>Morris Estates Pool</td>\n",
       "      <td>Morris Estate Cultural Center</td>\n",
       "      <td>1610 CHELTEN AVE</td>\n",
       "      <td>19141</td>\n",
       "      <td>OUTDOOR</td>\n",
       "      <td>ACTIVE</td>\n",
       "      <td>Emergency access is from Chelten around the bu...</td>\n",
       "      <td>NaN</td>\n",
       "      <td>Finder; Administration</td>\n",
       "    </tr>\n",
       "  </tbody>\n",
       "</table>\n",
       "</div>"
      ],
      "text/plain": [
       "   OBJECTID                 NAME                            PARK_NAME  \\\n",
       "0         1       Fox Chase Pool          Fox Chase Recreation Center   \n",
       "1         2        Mitchell Pool  Thomas Mitchell Memorial Playground   \n",
       "2         3          Jardel Pool      Thomas E. Jardel Memorial Field   \n",
       "3         4          Jacobs Pool             George Jacobs Playground   \n",
       "4         5  Morris Estates Pool        Morris Estate Cultural Center   \n",
       "\n",
       "         ADDRESS_911  ZIP_CODE POOL_TYPE POOL_STATUS  \\\n",
       "0   7901 RIDGEWAY ST     19111   OUTDOOR      ACTIVE   \n",
       "1  3600 WHITEHALL LN     19114   OUTDOOR      ACTIVE   \n",
       "2   1400 COTTMAN AVE     19111   OUTDOOR      ACTIVE   \n",
       "3    4500 LINDEN AVE     19136   OUTDOOR      ACTIVE   \n",
       "4   1610 CHELTEN AVE     19141   OUTDOOR      ACTIVE   \n",
       "\n",
       "                                            COMMENTS          DATE_INSTALLED  \\\n",
       "0                                                NaN                     NaN   \n",
       "1                                                NaN  2012/01/01 00:00:00+00   \n",
       "2                                                NaN                     NaN   \n",
       "3                                                NaN                     NaN   \n",
       "4  Emergency access is from Chelten around the bu...                     NaN   \n",
       "\n",
       "                 DATA_SOURCE  \n",
       "0  Finder; Previous GIS Data  \n",
       "1       Capital 2019; Finder  \n",
       "2  Finder; Previous GIS Data  \n",
       "3      Aquatics 2019; Finder  \n",
       "4     Finder; Administration  "
      ]
     },
     "execution_count": 37,
     "metadata": {},
     "output_type": "execute_result"
    }
   ],
   "source": [
    "df = pd.read_csv(\"AssignmentData/PPR_Swimming_Pools.csv\")\n",
    "df.head()"
   ]
  },
  {
   "cell_type": "code",
   "execution_count": 43,
   "metadata": {},
   "outputs": [],
   "source": [
    "df[\"ADDRESS\"] = df['ADDRESS_911'] + \" Philadelphia, USA\""
   ]
  },
  {
   "cell_type": "code",
   "execution_count": 44,
   "metadata": {},
   "outputs": [],
   "source": [
    "geocode = RateLimiter(locator.geocode, min_delay_seconds=1)\n",
    "df['location'] = df['ADDRESS'].apply(geocode)\n",
    "df['point'] = df['location'].apply(lambda loc: tuple(loc.point) if loc else None)"
   ]
  },
  {
   "cell_type": "code",
   "execution_count": 45,
   "metadata": {},
   "outputs": [
    {
     "data": {
      "text/html": [
       "<div>\n",
       "<style scoped>\n",
       "    .dataframe tbody tr th:only-of-type {\n",
       "        vertical-align: middle;\n",
       "    }\n",
       "\n",
       "    .dataframe tbody tr th {\n",
       "        vertical-align: top;\n",
       "    }\n",
       "\n",
       "    .dataframe thead th {\n",
       "        text-align: right;\n",
       "    }\n",
       "</style>\n",
       "<table border=\"1\" class=\"dataframe\">\n",
       "  <thead>\n",
       "    <tr style=\"text-align: right;\">\n",
       "      <th></th>\n",
       "      <th>OBJECTID</th>\n",
       "      <th>NAME</th>\n",
       "      <th>PARK_NAME</th>\n",
       "      <th>ADDRESS_911</th>\n",
       "      <th>ZIP_CODE</th>\n",
       "      <th>POOL_TYPE</th>\n",
       "      <th>POOL_STATUS</th>\n",
       "      <th>COMMENTS</th>\n",
       "      <th>DATE_INSTALLED</th>\n",
       "      <th>DATA_SOURCE</th>\n",
       "      <th>ADDRESS</th>\n",
       "      <th>location</th>\n",
       "      <th>point</th>\n",
       "    </tr>\n",
       "  </thead>\n",
       "  <tbody>\n",
       "    <tr>\n",
       "      <th>0</th>\n",
       "      <td>1</td>\n",
       "      <td>Fox Chase Pool</td>\n",
       "      <td>Fox Chase Recreation Center</td>\n",
       "      <td>7901 RIDGEWAY ST</td>\n",
       "      <td>19111</td>\n",
       "      <td>OUTDOOR</td>\n",
       "      <td>ACTIVE</td>\n",
       "      <td>NaN</td>\n",
       "      <td>NaN</td>\n",
       "      <td>Finder; Previous GIS Data</td>\n",
       "      <td>7901 RIDGEWAY ST Philadelphia, USA</td>\n",
       "      <td>(7901, Ridgeway Street, Fox Chase, Philadelphi...</td>\n",
       "      <td>(40.074618, -75.082601, 0.0)</td>\n",
       "    </tr>\n",
       "    <tr>\n",
       "      <th>1</th>\n",
       "      <td>2</td>\n",
       "      <td>Mitchell Pool</td>\n",
       "      <td>Thomas Mitchell Memorial Playground</td>\n",
       "      <td>3600 WHITEHALL LN</td>\n",
       "      <td>19114</td>\n",
       "      <td>OUTDOOR</td>\n",
       "      <td>ACTIVE</td>\n",
       "      <td>NaN</td>\n",
       "      <td>2012/01/01 00:00:00+00</td>\n",
       "      <td>Capital 2019; Finder</td>\n",
       "      <td>3600 WHITEHALL LN Philadelphia, USA</td>\n",
       "      <td>(3600, Whitehall Lane, Morrell Park, Philadelp...</td>\n",
       "      <td>(40.068946, -74.991706, 0.0)</td>\n",
       "    </tr>\n",
       "    <tr>\n",
       "      <th>2</th>\n",
       "      <td>3</td>\n",
       "      <td>Jardel Pool</td>\n",
       "      <td>Thomas E. Jardel Memorial Field</td>\n",
       "      <td>1400 COTTMAN AVE</td>\n",
       "      <td>19111</td>\n",
       "      <td>OUTDOOR</td>\n",
       "      <td>ACTIVE</td>\n",
       "      <td>NaN</td>\n",
       "      <td>NaN</td>\n",
       "      <td>Finder; Previous GIS Data</td>\n",
       "      <td>1400 COTTMAN AVE Philadelphia, USA</td>\n",
       "      <td>(Cottman Avenue, Lexington Park, Philadelphia,...</td>\n",
       "      <td>(40.0445712, -75.0545104, 0.0)</td>\n",
       "    </tr>\n",
       "    <tr>\n",
       "      <th>3</th>\n",
       "      <td>4</td>\n",
       "      <td>Jacobs Pool</td>\n",
       "      <td>George Jacobs Playground</td>\n",
       "      <td>4500 LINDEN AVE</td>\n",
       "      <td>19136</td>\n",
       "      <td>OUTDOOR</td>\n",
       "      <td>ACTIVE</td>\n",
       "      <td>NaN</td>\n",
       "      <td>NaN</td>\n",
       "      <td>Aquatics 2019; Finder</td>\n",
       "      <td>4500 LINDEN AVE Philadelphia, USA</td>\n",
       "      <td>(4500, Linden Avenue, Torresdale, Philadelphia...</td>\n",
       "      <td>(40.052445, -75.00232, 0.0)</td>\n",
       "    </tr>\n",
       "    <tr>\n",
       "      <th>4</th>\n",
       "      <td>5</td>\n",
       "      <td>Morris Estates Pool</td>\n",
       "      <td>Morris Estate Cultural Center</td>\n",
       "      <td>1610 CHELTEN AVE</td>\n",
       "      <td>19141</td>\n",
       "      <td>OUTDOOR</td>\n",
       "      <td>ACTIVE</td>\n",
       "      <td>Emergency access is from Chelten around the bu...</td>\n",
       "      <td>NaN</td>\n",
       "      <td>Finder; Administration</td>\n",
       "      <td>1610 CHELTEN AVE Philadelphia, USA</td>\n",
       "      <td>(1610, Chelten Avenue, Somerville, Philadelphi...</td>\n",
       "      <td>(40.051104160402204, -75.14578249095844, 0.0)</td>\n",
       "    </tr>\n",
       "  </tbody>\n",
       "</table>\n",
       "</div>"
      ],
      "text/plain": [
       "   OBJECTID                 NAME                            PARK_NAME  \\\n",
       "0         1       Fox Chase Pool          Fox Chase Recreation Center   \n",
       "1         2        Mitchell Pool  Thomas Mitchell Memorial Playground   \n",
       "2         3          Jardel Pool      Thomas E. Jardel Memorial Field   \n",
       "3         4          Jacobs Pool             George Jacobs Playground   \n",
       "4         5  Morris Estates Pool        Morris Estate Cultural Center   \n",
       "\n",
       "         ADDRESS_911  ZIP_CODE POOL_TYPE POOL_STATUS  \\\n",
       "0   7901 RIDGEWAY ST     19111   OUTDOOR      ACTIVE   \n",
       "1  3600 WHITEHALL LN     19114   OUTDOOR      ACTIVE   \n",
       "2   1400 COTTMAN AVE     19111   OUTDOOR      ACTIVE   \n",
       "3    4500 LINDEN AVE     19136   OUTDOOR      ACTIVE   \n",
       "4   1610 CHELTEN AVE     19141   OUTDOOR      ACTIVE   \n",
       "\n",
       "                                            COMMENTS          DATE_INSTALLED  \\\n",
       "0                                                NaN                     NaN   \n",
       "1                                                NaN  2012/01/01 00:00:00+00   \n",
       "2                                                NaN                     NaN   \n",
       "3                                                NaN                     NaN   \n",
       "4  Emergency access is from Chelten around the bu...                     NaN   \n",
       "\n",
       "                 DATA_SOURCE                              ADDRESS  \\\n",
       "0  Finder; Previous GIS Data   7901 RIDGEWAY ST Philadelphia, USA   \n",
       "1       Capital 2019; Finder  3600 WHITEHALL LN Philadelphia, USA   \n",
       "2  Finder; Previous GIS Data   1400 COTTMAN AVE Philadelphia, USA   \n",
       "3      Aquatics 2019; Finder    4500 LINDEN AVE Philadelphia, USA   \n",
       "4     Finder; Administration   1610 CHELTEN AVE Philadelphia, USA   \n",
       "\n",
       "                                            location  \\\n",
       "0  (7901, Ridgeway Street, Fox Chase, Philadelphi...   \n",
       "1  (3600, Whitehall Lane, Morrell Park, Philadelp...   \n",
       "2  (Cottman Avenue, Lexington Park, Philadelphia,...   \n",
       "3  (4500, Linden Avenue, Torresdale, Philadelphia...   \n",
       "4  (1610, Chelten Avenue, Somerville, Philadelphi...   \n",
       "\n",
       "                                           point  \n",
       "0                   (40.074618, -75.082601, 0.0)  \n",
       "1                   (40.068946, -74.991706, 0.0)  \n",
       "2                 (40.0445712, -75.0545104, 0.0)  \n",
       "3                    (40.052445, -75.00232, 0.0)  \n",
       "4  (40.051104160402204, -75.14578249095844, 0.0)  "
      ]
     },
     "execution_count": 45,
     "metadata": {},
     "output_type": "execute_result"
    }
   ],
   "source": [
    "df.head()"
   ]
  },
  {
   "cell_type": "code",
   "execution_count": 46,
   "metadata": {},
   "outputs": [],
   "source": [
    "df[['latitude', 'longitude', 'altitude']] = pd.DataFrame(df['point'].tolist(), index=df.index)"
   ]
  },
  {
   "cell_type": "code",
   "execution_count": 47,
   "metadata": {},
   "outputs": [
    {
     "data": {
      "text/html": [
       "<div>\n",
       "<style scoped>\n",
       "    .dataframe tbody tr th:only-of-type {\n",
       "        vertical-align: middle;\n",
       "    }\n",
       "\n",
       "    .dataframe tbody tr th {\n",
       "        vertical-align: top;\n",
       "    }\n",
       "\n",
       "    .dataframe thead th {\n",
       "        text-align: right;\n",
       "    }\n",
       "</style>\n",
       "<table border=\"1\" class=\"dataframe\">\n",
       "  <thead>\n",
       "    <tr style=\"text-align: right;\">\n",
       "      <th></th>\n",
       "      <th>OBJECTID</th>\n",
       "      <th>NAME</th>\n",
       "      <th>PARK_NAME</th>\n",
       "      <th>ADDRESS_911</th>\n",
       "      <th>ZIP_CODE</th>\n",
       "      <th>POOL_TYPE</th>\n",
       "      <th>POOL_STATUS</th>\n",
       "      <th>COMMENTS</th>\n",
       "      <th>DATE_INSTALLED</th>\n",
       "      <th>DATA_SOURCE</th>\n",
       "      <th>ADDRESS</th>\n",
       "      <th>location</th>\n",
       "      <th>point</th>\n",
       "      <th>latitude</th>\n",
       "      <th>longitude</th>\n",
       "      <th>altitude</th>\n",
       "    </tr>\n",
       "  </thead>\n",
       "  <tbody>\n",
       "    <tr>\n",
       "      <th>0</th>\n",
       "      <td>1</td>\n",
       "      <td>Fox Chase Pool</td>\n",
       "      <td>Fox Chase Recreation Center</td>\n",
       "      <td>7901 RIDGEWAY ST</td>\n",
       "      <td>19111</td>\n",
       "      <td>OUTDOOR</td>\n",
       "      <td>ACTIVE</td>\n",
       "      <td>NaN</td>\n",
       "      <td>NaN</td>\n",
       "      <td>Finder; Previous GIS Data</td>\n",
       "      <td>7901 RIDGEWAY ST Philadelphia, USA</td>\n",
       "      <td>(7901, Ridgeway Street, Fox Chase, Philadelphi...</td>\n",
       "      <td>(40.074618, -75.082601, 0.0)</td>\n",
       "      <td>40.074618</td>\n",
       "      <td>-75.082601</td>\n",
       "      <td>0.0</td>\n",
       "    </tr>\n",
       "    <tr>\n",
       "      <th>1</th>\n",
       "      <td>2</td>\n",
       "      <td>Mitchell Pool</td>\n",
       "      <td>Thomas Mitchell Memorial Playground</td>\n",
       "      <td>3600 WHITEHALL LN</td>\n",
       "      <td>19114</td>\n",
       "      <td>OUTDOOR</td>\n",
       "      <td>ACTIVE</td>\n",
       "      <td>NaN</td>\n",
       "      <td>2012/01/01 00:00:00+00</td>\n",
       "      <td>Capital 2019; Finder</td>\n",
       "      <td>3600 WHITEHALL LN Philadelphia, USA</td>\n",
       "      <td>(3600, Whitehall Lane, Morrell Park, Philadelp...</td>\n",
       "      <td>(40.068946, -74.991706, 0.0)</td>\n",
       "      <td>40.068946</td>\n",
       "      <td>-74.991706</td>\n",
       "      <td>0.0</td>\n",
       "    </tr>\n",
       "    <tr>\n",
       "      <th>2</th>\n",
       "      <td>3</td>\n",
       "      <td>Jardel Pool</td>\n",
       "      <td>Thomas E. Jardel Memorial Field</td>\n",
       "      <td>1400 COTTMAN AVE</td>\n",
       "      <td>19111</td>\n",
       "      <td>OUTDOOR</td>\n",
       "      <td>ACTIVE</td>\n",
       "      <td>NaN</td>\n",
       "      <td>NaN</td>\n",
       "      <td>Finder; Previous GIS Data</td>\n",
       "      <td>1400 COTTMAN AVE Philadelphia, USA</td>\n",
       "      <td>(Cottman Avenue, Lexington Park, Philadelphia,...</td>\n",
       "      <td>(40.0445712, -75.0545104, 0.0)</td>\n",
       "      <td>40.044571</td>\n",
       "      <td>-75.054510</td>\n",
       "      <td>0.0</td>\n",
       "    </tr>\n",
       "    <tr>\n",
       "      <th>3</th>\n",
       "      <td>4</td>\n",
       "      <td>Jacobs Pool</td>\n",
       "      <td>George Jacobs Playground</td>\n",
       "      <td>4500 LINDEN AVE</td>\n",
       "      <td>19136</td>\n",
       "      <td>OUTDOOR</td>\n",
       "      <td>ACTIVE</td>\n",
       "      <td>NaN</td>\n",
       "      <td>NaN</td>\n",
       "      <td>Aquatics 2019; Finder</td>\n",
       "      <td>4500 LINDEN AVE Philadelphia, USA</td>\n",
       "      <td>(4500, Linden Avenue, Torresdale, Philadelphia...</td>\n",
       "      <td>(40.052445, -75.00232, 0.0)</td>\n",
       "      <td>40.052445</td>\n",
       "      <td>-75.002320</td>\n",
       "      <td>0.0</td>\n",
       "    </tr>\n",
       "    <tr>\n",
       "      <th>4</th>\n",
       "      <td>5</td>\n",
       "      <td>Morris Estates Pool</td>\n",
       "      <td>Morris Estate Cultural Center</td>\n",
       "      <td>1610 CHELTEN AVE</td>\n",
       "      <td>19141</td>\n",
       "      <td>OUTDOOR</td>\n",
       "      <td>ACTIVE</td>\n",
       "      <td>Emergency access is from Chelten around the bu...</td>\n",
       "      <td>NaN</td>\n",
       "      <td>Finder; Administration</td>\n",
       "      <td>1610 CHELTEN AVE Philadelphia, USA</td>\n",
       "      <td>(1610, Chelten Avenue, Somerville, Philadelphi...</td>\n",
       "      <td>(40.051104160402204, -75.14578249095844, 0.0)</td>\n",
       "      <td>40.051104</td>\n",
       "      <td>-75.145782</td>\n",
       "      <td>0.0</td>\n",
       "    </tr>\n",
       "  </tbody>\n",
       "</table>\n",
       "</div>"
      ],
      "text/plain": [
       "   OBJECTID                 NAME                            PARK_NAME  \\\n",
       "0         1       Fox Chase Pool          Fox Chase Recreation Center   \n",
       "1         2        Mitchell Pool  Thomas Mitchell Memorial Playground   \n",
       "2         3          Jardel Pool      Thomas E. Jardel Memorial Field   \n",
       "3         4          Jacobs Pool             George Jacobs Playground   \n",
       "4         5  Morris Estates Pool        Morris Estate Cultural Center   \n",
       "\n",
       "         ADDRESS_911  ZIP_CODE POOL_TYPE POOL_STATUS  \\\n",
       "0   7901 RIDGEWAY ST     19111   OUTDOOR      ACTIVE   \n",
       "1  3600 WHITEHALL LN     19114   OUTDOOR      ACTIVE   \n",
       "2   1400 COTTMAN AVE     19111   OUTDOOR      ACTIVE   \n",
       "3    4500 LINDEN AVE     19136   OUTDOOR      ACTIVE   \n",
       "4   1610 CHELTEN AVE     19141   OUTDOOR      ACTIVE   \n",
       "\n",
       "                                            COMMENTS          DATE_INSTALLED  \\\n",
       "0                                                NaN                     NaN   \n",
       "1                                                NaN  2012/01/01 00:00:00+00   \n",
       "2                                                NaN                     NaN   \n",
       "3                                                NaN                     NaN   \n",
       "4  Emergency access is from Chelten around the bu...                     NaN   \n",
       "\n",
       "                 DATA_SOURCE                              ADDRESS  \\\n",
       "0  Finder; Previous GIS Data   7901 RIDGEWAY ST Philadelphia, USA   \n",
       "1       Capital 2019; Finder  3600 WHITEHALL LN Philadelphia, USA   \n",
       "2  Finder; Previous GIS Data   1400 COTTMAN AVE Philadelphia, USA   \n",
       "3      Aquatics 2019; Finder    4500 LINDEN AVE Philadelphia, USA   \n",
       "4     Finder; Administration   1610 CHELTEN AVE Philadelphia, USA   \n",
       "\n",
       "                                            location  \\\n",
       "0  (7901, Ridgeway Street, Fox Chase, Philadelphi...   \n",
       "1  (3600, Whitehall Lane, Morrell Park, Philadelp...   \n",
       "2  (Cottman Avenue, Lexington Park, Philadelphia,...   \n",
       "3  (4500, Linden Avenue, Torresdale, Philadelphia...   \n",
       "4  (1610, Chelten Avenue, Somerville, Philadelphi...   \n",
       "\n",
       "                                           point   latitude  longitude  \\\n",
       "0                   (40.074618, -75.082601, 0.0)  40.074618 -75.082601   \n",
       "1                   (40.068946, -74.991706, 0.0)  40.068946 -74.991706   \n",
       "2                 (40.0445712, -75.0545104, 0.0)  40.044571 -75.054510   \n",
       "3                    (40.052445, -75.00232, 0.0)  40.052445 -75.002320   \n",
       "4  (40.051104160402204, -75.14578249095844, 0.0)  40.051104 -75.145782   \n",
       "\n",
       "   altitude  \n",
       "0       0.0  \n",
       "1       0.0  \n",
       "2       0.0  \n",
       "3       0.0  \n",
       "4       0.0  "
      ]
     },
     "execution_count": 47,
     "metadata": {},
     "output_type": "execute_result"
    }
   ],
   "source": [
    "df.head()"
   ]
  },
  {
   "cell_type": "code",
   "execution_count": 48,
   "metadata": {},
   "outputs": [
    {
     "data": {
      "application/vnd.plotly.v1+json": {
       "config": {
        "plotlyServerURL": "https://plot.ly"
       },
       "data": [
        {
         "hoverlabel": {
          "namelength": 0
         },
         "hovertemplate": "latitude=%{lat}<br>longitude=%{lon}",
         "lat": [
          40.074618,
          40.068946,
          40.0445712,
          40.052445,
          40.051104160402204,
          40.013814,
          40.041843925,
          40.042755693877545,
          40.03796090604027,
          39.91553628571428,
          39.91569785714286,
          39.991159,
          39.981011,
          39.9624136,
          39.987699,
          40.037395621611985,
          40.033561020408165,
          40.03438,
          40.0149693,
          40.02155493548387,
          40.038024,
          40.01634154588196,
          39.98582893877551,
          39.984512625,
          39.98117582276968,
          39.97913046666667,
          39.98068995918367,
          39.9756722,
          39.97719240816326,
          39.9786256,
          39.97623002439025,
          40.001922,
          40.0099717,
          40.001727125,
          40.00043312244898,
          39.99916642857143,
          39.99725793877551,
          39.996476208333334,
          39.99306484657024,
          39.915569,
          40.011939,
          39.935588,
          39.931597999999994,
          39.92281644897959,
          null,
          39.97226167346938,
          39.96902357692308,
          39.967076375,
          39.966116,
          39.966318,
          39.962481499999996,
          39.9721253,
          39.95621467346938,
          39.94845364705882,
          39.94610117948718,
          39.94340442696629,
          39.9415236122449,
          39.97254828571428,
          39.938899,
          39.93774157142857,
          null,
          40.029633738255036,
          40.049439163265305,
          null,
          39.933329,
          39.982233055555554,
          39.9210201,
          39.9831536122449,
          40.052887935483874,
          39.97764457909374,
          null,
          39.93556685714286,
          40.021817,
          40.02766871428571,
          40.10057982056823
         ],
         "legendgroup": "",
         "lon": [
          -75.082601,
          -74.991706,
          -75.0545104,
          -75.00232,
          -75.14578249095844,
          -75.055942,
          -75.0396885,
          -75.15740395918368,
          -75.07115009395973,
          -75.15304228571429,
          -75.17803014285714,
          -75.097052,
          -75.134571,
          -75.1898211,
          -75.234831,
          -75.13695329073,
          -75.11790902040816,
          -75.228559,
          -75.2069395,
          -75.12134403225807,
          -75.081683,
          -75.1443630917639,
          -75.15205112244898,
          -75.11286949999999,
          -75.1605693851522,
          -75.11861046666667,
          -75.17071395918367,
          -75.1957386,
          -75.17825314285714,
          -75.2096152,
          -75.15076553658537,
          -75.130261,
          -75.106377,
          -75.17450724999999,
          -75.12075167346939,
          -75.06862938775511,
          -75.10008240816326,
          -75.14903720833334,
          -75.1675785619428,
          -75.232828,
          -75.097629,
          -75.197346,
          -75.18852373469387,
          -75.15697091836735,
          null,
          -75.12722459183674,
          -75.16747415384616,
          -75.23377075,
          -75.200299,
          -75.21583914285715,
          -75.143294,
          -75.2510696,
          -75.23848104081632,
          -75.23498099999999,
          -75.18354141025641,
          -75.21745856179776,
          -75.17125030612245,
          -75.13769357142857,
          -75.164486,
          -75.17473659183673,
          null,
          -75.09411522818792,
          -75.15999151020408,
          null,
          -75.151181,
          -75.2415235,
          -75.2241271,
          -75.1009021632653,
          -75.1655865483871,
          -75.23142717915658,
          null,
          -75.2284812857143,
          -75.092871,
          -75.04885114285715,
          -75.03408605865249
         ],
         "marker": {
          "color": "#636efa"
         },
         "mode": "markers",
         "name": "",
         "showlegend": false,
         "subplot": "mapbox",
         "type": "scattermapbox"
        }
       ],
       "layout": {
        "legend": {
         "tracegroupgap": 0
        },
        "mapbox": {
         "center": {
          "lat": 39.98999510299786,
          "lon": -75.14930500564333
         },
         "domain": {
          "x": [
           0,
           1
          ],
          "y": [
           0,
           1
          ]
         },
         "style": "carto-darkmatter",
         "zoom": 5
        },
        "margin": {
         "t": 60
        },
        "template": {
         "data": {
          "bar": [
           {
            "error_x": {
             "color": "#2a3f5f"
            },
            "error_y": {
             "color": "#2a3f5f"
            },
            "marker": {
             "line": {
              "color": "#E5ECF6",
              "width": 0.5
             }
            },
            "type": "bar"
           }
          ],
          "barpolar": [
           {
            "marker": {
             "line": {
              "color": "#E5ECF6",
              "width": 0.5
             }
            },
            "type": "barpolar"
           }
          ],
          "carpet": [
           {
            "aaxis": {
             "endlinecolor": "#2a3f5f",
             "gridcolor": "white",
             "linecolor": "white",
             "minorgridcolor": "white",
             "startlinecolor": "#2a3f5f"
            },
            "baxis": {
             "endlinecolor": "#2a3f5f",
             "gridcolor": "white",
             "linecolor": "white",
             "minorgridcolor": "white",
             "startlinecolor": "#2a3f5f"
            },
            "type": "carpet"
           }
          ],
          "choropleth": [
           {
            "colorbar": {
             "outlinewidth": 0,
             "ticks": ""
            },
            "type": "choropleth"
           }
          ],
          "contour": [
           {
            "colorbar": {
             "outlinewidth": 0,
             "ticks": ""
            },
            "colorscale": [
             [
              0,
              "#0d0887"
             ],
             [
              0.1111111111111111,
              "#46039f"
             ],
             [
              0.2222222222222222,
              "#7201a8"
             ],
             [
              0.3333333333333333,
              "#9c179e"
             ],
             [
              0.4444444444444444,
              "#bd3786"
             ],
             [
              0.5555555555555556,
              "#d8576b"
             ],
             [
              0.6666666666666666,
              "#ed7953"
             ],
             [
              0.7777777777777778,
              "#fb9f3a"
             ],
             [
              0.8888888888888888,
              "#fdca26"
             ],
             [
              1,
              "#f0f921"
             ]
            ],
            "type": "contour"
           }
          ],
          "contourcarpet": [
           {
            "colorbar": {
             "outlinewidth": 0,
             "ticks": ""
            },
            "type": "contourcarpet"
           }
          ],
          "heatmap": [
           {
            "colorbar": {
             "outlinewidth": 0,
             "ticks": ""
            },
            "colorscale": [
             [
              0,
              "#0d0887"
             ],
             [
              0.1111111111111111,
              "#46039f"
             ],
             [
              0.2222222222222222,
              "#7201a8"
             ],
             [
              0.3333333333333333,
              "#9c179e"
             ],
             [
              0.4444444444444444,
              "#bd3786"
             ],
             [
              0.5555555555555556,
              "#d8576b"
             ],
             [
              0.6666666666666666,
              "#ed7953"
             ],
             [
              0.7777777777777778,
              "#fb9f3a"
             ],
             [
              0.8888888888888888,
              "#fdca26"
             ],
             [
              1,
              "#f0f921"
             ]
            ],
            "type": "heatmap"
           }
          ],
          "heatmapgl": [
           {
            "colorbar": {
             "outlinewidth": 0,
             "ticks": ""
            },
            "colorscale": [
             [
              0,
              "#0d0887"
             ],
             [
              0.1111111111111111,
              "#46039f"
             ],
             [
              0.2222222222222222,
              "#7201a8"
             ],
             [
              0.3333333333333333,
              "#9c179e"
             ],
             [
              0.4444444444444444,
              "#bd3786"
             ],
             [
              0.5555555555555556,
              "#d8576b"
             ],
             [
              0.6666666666666666,
              "#ed7953"
             ],
             [
              0.7777777777777778,
              "#fb9f3a"
             ],
             [
              0.8888888888888888,
              "#fdca26"
             ],
             [
              1,
              "#f0f921"
             ]
            ],
            "type": "heatmapgl"
           }
          ],
          "histogram": [
           {
            "marker": {
             "colorbar": {
              "outlinewidth": 0,
              "ticks": ""
             }
            },
            "type": "histogram"
           }
          ],
          "histogram2d": [
           {
            "colorbar": {
             "outlinewidth": 0,
             "ticks": ""
            },
            "colorscale": [
             [
              0,
              "#0d0887"
             ],
             [
              0.1111111111111111,
              "#46039f"
             ],
             [
              0.2222222222222222,
              "#7201a8"
             ],
             [
              0.3333333333333333,
              "#9c179e"
             ],
             [
              0.4444444444444444,
              "#bd3786"
             ],
             [
              0.5555555555555556,
              "#d8576b"
             ],
             [
              0.6666666666666666,
              "#ed7953"
             ],
             [
              0.7777777777777778,
              "#fb9f3a"
             ],
             [
              0.8888888888888888,
              "#fdca26"
             ],
             [
              1,
              "#f0f921"
             ]
            ],
            "type": "histogram2d"
           }
          ],
          "histogram2dcontour": [
           {
            "colorbar": {
             "outlinewidth": 0,
             "ticks": ""
            },
            "colorscale": [
             [
              0,
              "#0d0887"
             ],
             [
              0.1111111111111111,
              "#46039f"
             ],
             [
              0.2222222222222222,
              "#7201a8"
             ],
             [
              0.3333333333333333,
              "#9c179e"
             ],
             [
              0.4444444444444444,
              "#bd3786"
             ],
             [
              0.5555555555555556,
              "#d8576b"
             ],
             [
              0.6666666666666666,
              "#ed7953"
             ],
             [
              0.7777777777777778,
              "#fb9f3a"
             ],
             [
              0.8888888888888888,
              "#fdca26"
             ],
             [
              1,
              "#f0f921"
             ]
            ],
            "type": "histogram2dcontour"
           }
          ],
          "mesh3d": [
           {
            "colorbar": {
             "outlinewidth": 0,
             "ticks": ""
            },
            "type": "mesh3d"
           }
          ],
          "parcoords": [
           {
            "line": {
             "colorbar": {
              "outlinewidth": 0,
              "ticks": ""
             }
            },
            "type": "parcoords"
           }
          ],
          "pie": [
           {
            "automargin": true,
            "type": "pie"
           }
          ],
          "scatter": [
           {
            "marker": {
             "colorbar": {
              "outlinewidth": 0,
              "ticks": ""
             }
            },
            "type": "scatter"
           }
          ],
          "scatter3d": [
           {
            "line": {
             "colorbar": {
              "outlinewidth": 0,
              "ticks": ""
             }
            },
            "marker": {
             "colorbar": {
              "outlinewidth": 0,
              "ticks": ""
             }
            },
            "type": "scatter3d"
           }
          ],
          "scattercarpet": [
           {
            "marker": {
             "colorbar": {
              "outlinewidth": 0,
              "ticks": ""
             }
            },
            "type": "scattercarpet"
           }
          ],
          "scattergeo": [
           {
            "marker": {
             "colorbar": {
              "outlinewidth": 0,
              "ticks": ""
             }
            },
            "type": "scattergeo"
           }
          ],
          "scattergl": [
           {
            "marker": {
             "colorbar": {
              "outlinewidth": 0,
              "ticks": ""
             }
            },
            "type": "scattergl"
           }
          ],
          "scattermapbox": [
           {
            "marker": {
             "colorbar": {
              "outlinewidth": 0,
              "ticks": ""
             }
            },
            "type": "scattermapbox"
           }
          ],
          "scatterpolar": [
           {
            "marker": {
             "colorbar": {
              "outlinewidth": 0,
              "ticks": ""
             }
            },
            "type": "scatterpolar"
           }
          ],
          "scatterpolargl": [
           {
            "marker": {
             "colorbar": {
              "outlinewidth": 0,
              "ticks": ""
             }
            },
            "type": "scatterpolargl"
           }
          ],
          "scatterternary": [
           {
            "marker": {
             "colorbar": {
              "outlinewidth": 0,
              "ticks": ""
             }
            },
            "type": "scatterternary"
           }
          ],
          "surface": [
           {
            "colorbar": {
             "outlinewidth": 0,
             "ticks": ""
            },
            "colorscale": [
             [
              0,
              "#0d0887"
             ],
             [
              0.1111111111111111,
              "#46039f"
             ],
             [
              0.2222222222222222,
              "#7201a8"
             ],
             [
              0.3333333333333333,
              "#9c179e"
             ],
             [
              0.4444444444444444,
              "#bd3786"
             ],
             [
              0.5555555555555556,
              "#d8576b"
             ],
             [
              0.6666666666666666,
              "#ed7953"
             ],
             [
              0.7777777777777778,
              "#fb9f3a"
             ],
             [
              0.8888888888888888,
              "#fdca26"
             ],
             [
              1,
              "#f0f921"
             ]
            ],
            "type": "surface"
           }
          ],
          "table": [
           {
            "cells": {
             "fill": {
              "color": "#EBF0F8"
             },
             "line": {
              "color": "white"
             }
            },
            "header": {
             "fill": {
              "color": "#C8D4E3"
             },
             "line": {
              "color": "white"
             }
            },
            "type": "table"
           }
          ]
         },
         "layout": {
          "annotationdefaults": {
           "arrowcolor": "#2a3f5f",
           "arrowhead": 0,
           "arrowwidth": 1
          },
          "coloraxis": {
           "colorbar": {
            "outlinewidth": 0,
            "ticks": ""
           }
          },
          "colorscale": {
           "diverging": [
            [
             0,
             "#8e0152"
            ],
            [
             0.1,
             "#c51b7d"
            ],
            [
             0.2,
             "#de77ae"
            ],
            [
             0.3,
             "#f1b6da"
            ],
            [
             0.4,
             "#fde0ef"
            ],
            [
             0.5,
             "#f7f7f7"
            ],
            [
             0.6,
             "#e6f5d0"
            ],
            [
             0.7,
             "#b8e186"
            ],
            [
             0.8,
             "#7fbc41"
            ],
            [
             0.9,
             "#4d9221"
            ],
            [
             1,
             "#276419"
            ]
           ],
           "sequential": [
            [
             0,
             "#0d0887"
            ],
            [
             0.1111111111111111,
             "#46039f"
            ],
            [
             0.2222222222222222,
             "#7201a8"
            ],
            [
             0.3333333333333333,
             "#9c179e"
            ],
            [
             0.4444444444444444,
             "#bd3786"
            ],
            [
             0.5555555555555556,
             "#d8576b"
            ],
            [
             0.6666666666666666,
             "#ed7953"
            ],
            [
             0.7777777777777778,
             "#fb9f3a"
            ],
            [
             0.8888888888888888,
             "#fdca26"
            ],
            [
             1,
             "#f0f921"
            ]
           ],
           "sequentialminus": [
            [
             0,
             "#0d0887"
            ],
            [
             0.1111111111111111,
             "#46039f"
            ],
            [
             0.2222222222222222,
             "#7201a8"
            ],
            [
             0.3333333333333333,
             "#9c179e"
            ],
            [
             0.4444444444444444,
             "#bd3786"
            ],
            [
             0.5555555555555556,
             "#d8576b"
            ],
            [
             0.6666666666666666,
             "#ed7953"
            ],
            [
             0.7777777777777778,
             "#fb9f3a"
            ],
            [
             0.8888888888888888,
             "#fdca26"
            ],
            [
             1,
             "#f0f921"
            ]
           ]
          },
          "colorway": [
           "#636efa",
           "#EF553B",
           "#00cc96",
           "#ab63fa",
           "#FFA15A",
           "#19d3f3",
           "#FF6692",
           "#B6E880",
           "#FF97FF",
           "#FECB52"
          ],
          "font": {
           "color": "#2a3f5f"
          },
          "geo": {
           "bgcolor": "white",
           "lakecolor": "white",
           "landcolor": "#E5ECF6",
           "showlakes": true,
           "showland": true,
           "subunitcolor": "white"
          },
          "hoverlabel": {
           "align": "left"
          },
          "hovermode": "closest",
          "mapbox": {
           "style": "light"
          },
          "paper_bgcolor": "white",
          "plot_bgcolor": "#E5ECF6",
          "polar": {
           "angularaxis": {
            "gridcolor": "white",
            "linecolor": "white",
            "ticks": ""
           },
           "bgcolor": "#E5ECF6",
           "radialaxis": {
            "gridcolor": "white",
            "linecolor": "white",
            "ticks": ""
           }
          },
          "scene": {
           "xaxis": {
            "backgroundcolor": "#E5ECF6",
            "gridcolor": "white",
            "gridwidth": 2,
            "linecolor": "white",
            "showbackground": true,
            "ticks": "",
            "zerolinecolor": "white"
           },
           "yaxis": {
            "backgroundcolor": "#E5ECF6",
            "gridcolor": "white",
            "gridwidth": 2,
            "linecolor": "white",
            "showbackground": true,
            "ticks": "",
            "zerolinecolor": "white"
           },
           "zaxis": {
            "backgroundcolor": "#E5ECF6",
            "gridcolor": "white",
            "gridwidth": 2,
            "linecolor": "white",
            "showbackground": true,
            "ticks": "",
            "zerolinecolor": "white"
           }
          },
          "shapedefaults": {
           "line": {
            "color": "#2a3f5f"
           }
          },
          "ternary": {
           "aaxis": {
            "gridcolor": "white",
            "linecolor": "white",
            "ticks": ""
           },
           "baxis": {
            "gridcolor": "white",
            "linecolor": "white",
            "ticks": ""
           },
           "bgcolor": "#E5ECF6",
           "caxis": {
            "gridcolor": "white",
            "linecolor": "white",
            "ticks": ""
           }
          },
          "title": {
           "x": 0.05
          },
          "xaxis": {
           "automargin": true,
           "gridcolor": "white",
           "linecolor": "white",
           "ticks": "",
           "title": {
            "standoff": 15
           },
           "zerolinecolor": "white",
           "zerolinewidth": 2
          },
          "yaxis": {
           "automargin": true,
           "gridcolor": "white",
           "linecolor": "white",
           "ticks": "",
           "title": {
            "standoff": 15
           },
           "zerolinecolor": "white",
           "zerolinewidth": 2
          }
         }
        }
       }
      },
      "text/html": [
       "<div>\n",
       "        \n",
       "        \n",
       "            <div id=\"f8581bd6-451c-4663-8a9a-51a8fafdd2ae\" class=\"plotly-graph-div\" style=\"height:525px; width:100%;\"></div>\n",
       "            <script type=\"text/javascript\">\n",
       "                require([\"plotly\"], function(Plotly) {\n",
       "                    window.PLOTLYENV=window.PLOTLYENV || {};\n",
       "                    \n",
       "                if (document.getElementById(\"f8581bd6-451c-4663-8a9a-51a8fafdd2ae\")) {\n",
       "                    Plotly.newPlot(\n",
       "                        'f8581bd6-451c-4663-8a9a-51a8fafdd2ae',\n",
       "                        [{\"hoverlabel\": {\"namelength\": 0}, \"hovertemplate\": \"latitude=%{lat}<br>longitude=%{lon}\", \"lat\": [40.074618, 40.068946, 40.0445712, 40.052445, 40.051104160402204, 40.013814, 40.041843925, 40.042755693877545, 40.03796090604027, 39.91553628571428, 39.91569785714286, 39.991159, 39.981011, 39.9624136, 39.987699, 40.037395621611985, 40.033561020408165, 40.03438, 40.0149693, 40.02155493548387, 40.038024, 40.01634154588196, 39.98582893877551, 39.984512625, 39.98117582276968, 39.97913046666667, 39.98068995918367, 39.9756722, 39.97719240816326, 39.9786256, 39.97623002439025, 40.001922, 40.0099717, 40.001727125, 40.00043312244898, 39.99916642857143, 39.99725793877551, 39.996476208333334, 39.99306484657024, 39.915569, 40.011939, 39.935588, 39.931597999999994, 39.92281644897959, null, 39.97226167346938, 39.96902357692308, 39.967076375, 39.966116, 39.966318, 39.962481499999996, 39.9721253, 39.95621467346938, 39.94845364705882, 39.94610117948718, 39.94340442696629, 39.9415236122449, 39.97254828571428, 39.938899, 39.93774157142857, null, 40.029633738255036, 40.049439163265305, null, 39.933329, 39.982233055555554, 39.9210201, 39.9831536122449, 40.052887935483874, 39.97764457909374, null, 39.93556685714286, 40.021817, 40.02766871428571, 40.10057982056823], \"legendgroup\": \"\", \"lon\": [-75.082601, -74.991706, -75.0545104, -75.00232, -75.14578249095844, -75.055942, -75.0396885, -75.15740395918368, -75.07115009395973, -75.15304228571429, -75.17803014285714, -75.097052, -75.134571, -75.1898211, -75.234831, -75.13695329073, -75.11790902040816, -75.228559, -75.2069395, -75.12134403225807, -75.081683, -75.1443630917639, -75.15205112244898, -75.11286949999999, -75.1605693851522, -75.11861046666667, -75.17071395918367, -75.1957386, -75.17825314285714, -75.2096152, -75.15076553658537, -75.130261, -75.106377, -75.17450724999999, -75.12075167346939, -75.06862938775511, -75.10008240816326, -75.14903720833334, -75.1675785619428, -75.232828, -75.097629, -75.197346, -75.18852373469387, -75.15697091836735, null, -75.12722459183674, -75.16747415384616, -75.23377075, -75.200299, -75.21583914285715, -75.143294, -75.2510696, -75.23848104081632, -75.23498099999999, -75.18354141025641, -75.21745856179776, -75.17125030612245, -75.13769357142857, -75.164486, -75.17473659183673, null, -75.09411522818792, -75.15999151020408, null, -75.151181, -75.2415235, -75.2241271, -75.1009021632653, -75.1655865483871, -75.23142717915658, null, -75.2284812857143, -75.092871, -75.04885114285715, -75.03408605865249], \"marker\": {\"color\": \"#636efa\"}, \"mode\": \"markers\", \"name\": \"\", \"showlegend\": false, \"subplot\": \"mapbox\", \"type\": \"scattermapbox\"}],\n",
       "                        {\"legend\": {\"tracegroupgap\": 0}, \"mapbox\": {\"center\": {\"lat\": 39.98999510299786, \"lon\": -75.14930500564333}, \"domain\": {\"x\": [0.0, 1.0], \"y\": [0.0, 1.0]}, \"style\": \"carto-darkmatter\", \"zoom\": 5}, \"margin\": {\"t\": 60}, \"template\": {\"data\": {\"bar\": [{\"error_x\": {\"color\": \"#2a3f5f\"}, \"error_y\": {\"color\": \"#2a3f5f\"}, \"marker\": {\"line\": {\"color\": \"#E5ECF6\", \"width\": 0.5}}, \"type\": \"bar\"}], \"barpolar\": [{\"marker\": {\"line\": {\"color\": \"#E5ECF6\", \"width\": 0.5}}, \"type\": \"barpolar\"}], \"carpet\": [{\"aaxis\": {\"endlinecolor\": \"#2a3f5f\", \"gridcolor\": \"white\", \"linecolor\": \"white\", \"minorgridcolor\": \"white\", \"startlinecolor\": \"#2a3f5f\"}, \"baxis\": {\"endlinecolor\": \"#2a3f5f\", \"gridcolor\": \"white\", \"linecolor\": \"white\", \"minorgridcolor\": \"white\", \"startlinecolor\": \"#2a3f5f\"}, \"type\": \"carpet\"}], \"choropleth\": [{\"colorbar\": {\"outlinewidth\": 0, \"ticks\": \"\"}, \"type\": \"choropleth\"}], \"contour\": [{\"colorbar\": {\"outlinewidth\": 0, \"ticks\": \"\"}, \"colorscale\": [[0.0, \"#0d0887\"], [0.1111111111111111, \"#46039f\"], [0.2222222222222222, \"#7201a8\"], [0.3333333333333333, \"#9c179e\"], [0.4444444444444444, \"#bd3786\"], [0.5555555555555556, \"#d8576b\"], [0.6666666666666666, \"#ed7953\"], [0.7777777777777778, \"#fb9f3a\"], [0.8888888888888888, \"#fdca26\"], [1.0, \"#f0f921\"]], \"type\": \"contour\"}], \"contourcarpet\": [{\"colorbar\": {\"outlinewidth\": 0, \"ticks\": \"\"}, \"type\": \"contourcarpet\"}], \"heatmap\": [{\"colorbar\": {\"outlinewidth\": 0, \"ticks\": \"\"}, \"colorscale\": [[0.0, \"#0d0887\"], [0.1111111111111111, \"#46039f\"], [0.2222222222222222, \"#7201a8\"], [0.3333333333333333, \"#9c179e\"], [0.4444444444444444, \"#bd3786\"], [0.5555555555555556, \"#d8576b\"], [0.6666666666666666, \"#ed7953\"], [0.7777777777777778, \"#fb9f3a\"], [0.8888888888888888, \"#fdca26\"], [1.0, \"#f0f921\"]], \"type\": \"heatmap\"}], \"heatmapgl\": [{\"colorbar\": {\"outlinewidth\": 0, \"ticks\": \"\"}, \"colorscale\": [[0.0, \"#0d0887\"], [0.1111111111111111, \"#46039f\"], [0.2222222222222222, \"#7201a8\"], [0.3333333333333333, \"#9c179e\"], [0.4444444444444444, \"#bd3786\"], [0.5555555555555556, \"#d8576b\"], [0.6666666666666666, \"#ed7953\"], [0.7777777777777778, \"#fb9f3a\"], [0.8888888888888888, \"#fdca26\"], [1.0, \"#f0f921\"]], \"type\": \"heatmapgl\"}], \"histogram\": [{\"marker\": {\"colorbar\": {\"outlinewidth\": 0, \"ticks\": \"\"}}, \"type\": \"histogram\"}], \"histogram2d\": [{\"colorbar\": {\"outlinewidth\": 0, \"ticks\": \"\"}, \"colorscale\": [[0.0, \"#0d0887\"], [0.1111111111111111, \"#46039f\"], [0.2222222222222222, \"#7201a8\"], [0.3333333333333333, \"#9c179e\"], [0.4444444444444444, \"#bd3786\"], [0.5555555555555556, \"#d8576b\"], [0.6666666666666666, \"#ed7953\"], [0.7777777777777778, \"#fb9f3a\"], [0.8888888888888888, \"#fdca26\"], [1.0, \"#f0f921\"]], \"type\": \"histogram2d\"}], \"histogram2dcontour\": [{\"colorbar\": {\"outlinewidth\": 0, \"ticks\": \"\"}, \"colorscale\": [[0.0, \"#0d0887\"], [0.1111111111111111, \"#46039f\"], [0.2222222222222222, \"#7201a8\"], [0.3333333333333333, \"#9c179e\"], [0.4444444444444444, \"#bd3786\"], [0.5555555555555556, \"#d8576b\"], [0.6666666666666666, \"#ed7953\"], [0.7777777777777778, \"#fb9f3a\"], [0.8888888888888888, \"#fdca26\"], [1.0, \"#f0f921\"]], \"type\": \"histogram2dcontour\"}], \"mesh3d\": [{\"colorbar\": {\"outlinewidth\": 0, \"ticks\": \"\"}, \"type\": \"mesh3d\"}], \"parcoords\": [{\"line\": {\"colorbar\": {\"outlinewidth\": 0, \"ticks\": \"\"}}, \"type\": \"parcoords\"}], \"pie\": [{\"automargin\": true, \"type\": \"pie\"}], \"scatter\": [{\"marker\": {\"colorbar\": {\"outlinewidth\": 0, \"ticks\": \"\"}}, \"type\": \"scatter\"}], \"scatter3d\": [{\"line\": {\"colorbar\": {\"outlinewidth\": 0, \"ticks\": \"\"}}, \"marker\": {\"colorbar\": {\"outlinewidth\": 0, \"ticks\": \"\"}}, \"type\": \"scatter3d\"}], \"scattercarpet\": [{\"marker\": {\"colorbar\": {\"outlinewidth\": 0, \"ticks\": \"\"}}, \"type\": \"scattercarpet\"}], \"scattergeo\": [{\"marker\": {\"colorbar\": {\"outlinewidth\": 0, \"ticks\": \"\"}}, \"type\": \"scattergeo\"}], \"scattergl\": [{\"marker\": {\"colorbar\": {\"outlinewidth\": 0, \"ticks\": \"\"}}, \"type\": \"scattergl\"}], \"scattermapbox\": [{\"marker\": {\"colorbar\": {\"outlinewidth\": 0, \"ticks\": \"\"}}, \"type\": \"scattermapbox\"}], \"scatterpolar\": [{\"marker\": {\"colorbar\": {\"outlinewidth\": 0, \"ticks\": \"\"}}, \"type\": \"scatterpolar\"}], \"scatterpolargl\": [{\"marker\": {\"colorbar\": {\"outlinewidth\": 0, \"ticks\": \"\"}}, \"type\": \"scatterpolargl\"}], \"scatterternary\": [{\"marker\": {\"colorbar\": {\"outlinewidth\": 0, \"ticks\": \"\"}}, \"type\": \"scatterternary\"}], \"surface\": [{\"colorbar\": {\"outlinewidth\": 0, \"ticks\": \"\"}, \"colorscale\": [[0.0, \"#0d0887\"], [0.1111111111111111, \"#46039f\"], [0.2222222222222222, \"#7201a8\"], [0.3333333333333333, \"#9c179e\"], [0.4444444444444444, \"#bd3786\"], [0.5555555555555556, \"#d8576b\"], [0.6666666666666666, \"#ed7953\"], [0.7777777777777778, \"#fb9f3a\"], [0.8888888888888888, \"#fdca26\"], [1.0, \"#f0f921\"]], \"type\": \"surface\"}], \"table\": [{\"cells\": {\"fill\": {\"color\": \"#EBF0F8\"}, \"line\": {\"color\": \"white\"}}, \"header\": {\"fill\": {\"color\": \"#C8D4E3\"}, \"line\": {\"color\": \"white\"}}, \"type\": \"table\"}]}, \"layout\": {\"annotationdefaults\": {\"arrowcolor\": \"#2a3f5f\", \"arrowhead\": 0, \"arrowwidth\": 1}, \"coloraxis\": {\"colorbar\": {\"outlinewidth\": 0, \"ticks\": \"\"}}, \"colorscale\": {\"diverging\": [[0, \"#8e0152\"], [0.1, \"#c51b7d\"], [0.2, \"#de77ae\"], [0.3, \"#f1b6da\"], [0.4, \"#fde0ef\"], [0.5, \"#f7f7f7\"], [0.6, \"#e6f5d0\"], [0.7, \"#b8e186\"], [0.8, \"#7fbc41\"], [0.9, \"#4d9221\"], [1, \"#276419\"]], \"sequential\": [[0.0, \"#0d0887\"], [0.1111111111111111, \"#46039f\"], [0.2222222222222222, \"#7201a8\"], [0.3333333333333333, \"#9c179e\"], [0.4444444444444444, \"#bd3786\"], [0.5555555555555556, \"#d8576b\"], [0.6666666666666666, \"#ed7953\"], [0.7777777777777778, \"#fb9f3a\"], [0.8888888888888888, \"#fdca26\"], [1.0, \"#f0f921\"]], \"sequentialminus\": [[0.0, \"#0d0887\"], [0.1111111111111111, \"#46039f\"], [0.2222222222222222, \"#7201a8\"], [0.3333333333333333, \"#9c179e\"], [0.4444444444444444, \"#bd3786\"], [0.5555555555555556, \"#d8576b\"], [0.6666666666666666, \"#ed7953\"], [0.7777777777777778, \"#fb9f3a\"], [0.8888888888888888, \"#fdca26\"], [1.0, \"#f0f921\"]]}, \"colorway\": [\"#636efa\", \"#EF553B\", \"#00cc96\", \"#ab63fa\", \"#FFA15A\", \"#19d3f3\", \"#FF6692\", \"#B6E880\", \"#FF97FF\", \"#FECB52\"], \"font\": {\"color\": \"#2a3f5f\"}, \"geo\": {\"bgcolor\": \"white\", \"lakecolor\": \"white\", \"landcolor\": \"#E5ECF6\", \"showlakes\": true, \"showland\": true, \"subunitcolor\": \"white\"}, \"hoverlabel\": {\"align\": \"left\"}, \"hovermode\": \"closest\", \"mapbox\": {\"style\": \"light\"}, \"paper_bgcolor\": \"white\", \"plot_bgcolor\": \"#E5ECF6\", \"polar\": {\"angularaxis\": {\"gridcolor\": \"white\", \"linecolor\": \"white\", \"ticks\": \"\"}, \"bgcolor\": \"#E5ECF6\", \"radialaxis\": {\"gridcolor\": \"white\", \"linecolor\": \"white\", \"ticks\": \"\"}}, \"scene\": {\"xaxis\": {\"backgroundcolor\": \"#E5ECF6\", \"gridcolor\": \"white\", \"gridwidth\": 2, \"linecolor\": \"white\", \"showbackground\": true, \"ticks\": \"\", \"zerolinecolor\": \"white\"}, \"yaxis\": {\"backgroundcolor\": \"#E5ECF6\", \"gridcolor\": \"white\", \"gridwidth\": 2, \"linecolor\": \"white\", \"showbackground\": true, \"ticks\": \"\", \"zerolinecolor\": \"white\"}, \"zaxis\": {\"backgroundcolor\": \"#E5ECF6\", \"gridcolor\": \"white\", \"gridwidth\": 2, \"linecolor\": \"white\", \"showbackground\": true, \"ticks\": \"\", \"zerolinecolor\": \"white\"}}, \"shapedefaults\": {\"line\": {\"color\": \"#2a3f5f\"}}, \"ternary\": {\"aaxis\": {\"gridcolor\": \"white\", \"linecolor\": \"white\", \"ticks\": \"\"}, \"baxis\": {\"gridcolor\": \"white\", \"linecolor\": \"white\", \"ticks\": \"\"}, \"bgcolor\": \"#E5ECF6\", \"caxis\": {\"gridcolor\": \"white\", \"linecolor\": \"white\", \"ticks\": \"\"}}, \"title\": {\"x\": 0.05}, \"xaxis\": {\"automargin\": true, \"gridcolor\": \"white\", \"linecolor\": \"white\", \"ticks\": \"\", \"title\": {\"standoff\": 15}, \"zerolinecolor\": \"white\", \"zerolinewidth\": 2}, \"yaxis\": {\"automargin\": true, \"gridcolor\": \"white\", \"linecolor\": \"white\", \"ticks\": \"\", \"title\": {\"standoff\": 15}, \"zerolinecolor\": \"white\", \"zerolinewidth\": 2}}}},\n",
       "                        {\"responsive\": true}\n",
       "                    ).then(function(){\n",
       "                            \n",
       "var gd = document.getElementById('f8581bd6-451c-4663-8a9a-51a8fafdd2ae');\n",
       "var x = new MutationObserver(function (mutations, observer) {{\n",
       "        var display = window.getComputedStyle(gd).display;\n",
       "        if (!display || display === 'none') {{\n",
       "            console.log([gd, 'removed!']);\n",
       "            Plotly.purge(gd);\n",
       "            observer.disconnect();\n",
       "        }}\n",
       "}});\n",
       "\n",
       "// Listen for the removal of the full notebook cells\n",
       "var notebookContainer = gd.closest('#notebook-container');\n",
       "if (notebookContainer) {{\n",
       "    x.observe(notebookContainer, {childList: true});\n",
       "}}\n",
       "\n",
       "// Listen for the clearing of the current output cell\n",
       "var outputEl = gd.closest('.output');\n",
       "if (outputEl) {{\n",
       "    x.observe(outputEl, {childList: true});\n",
       "}}\n",
       "\n",
       "                        })\n",
       "                };\n",
       "                });\n",
       "            </script>\n",
       "        </div>"
      ]
     },
     "metadata": {},
     "output_type": "display_data"
    }
   ],
   "source": [
    "fig = px.scatter_mapbox(\n",
    "    df,   \n",
    "    lat=\"latitude\", \n",
    "    lon=\"longitude\", \n",
    "    mapbox_style=\"carto-darkmatter\",\n",
    "    zoom=5)\n",
    "fig.show()"
   ]
  },
  {
   "cell_type": "markdown",
   "metadata": {},
   "source": [
    "## 2. Access OpenStreetMap data with OSMnx"
   ]
  },
  {
   "cell_type": "code",
   "execution_count": 49,
   "metadata": {},
   "outputs": [],
   "source": [
    "import pandas as pd\n",
    "import geopandas as gpd\n",
    "import osmnx as ox\n",
    "import folium\n",
    "import matplotlib.pyplot as plt\n",
    "import seaborn as sns"
   ]
  },
  {
   "cell_type": "code",
   "execution_count": 50,
   "metadata": {},
   "outputs": [],
   "source": [
    "place = \"Philadelphia, USA\"\n",
    "graph = ox.graph_from_place(place, network_type='drive')"
   ]
  },
  {
   "cell_type": "code",
   "execution_count": null,
   "metadata": {},
   "outputs": [],
   "source": []
  }
 ],
 "metadata": {
  "hide_input": false,
  "kernelspec": {
   "display_name": "geo",
   "language": "python",
   "name": "geo"
  },
  "language_info": {
   "codemirror_mode": {
    "name": "ipython",
    "version": 3
   },
   "file_extension": ".py",
   "mimetype": "text/x-python",
   "name": "python",
   "nbconvert_exporter": "python",
   "pygments_lexer": "ipython3",
   "version": "3.7.6"
  }
 },
 "nbformat": 4,
 "nbformat_minor": 4
}
